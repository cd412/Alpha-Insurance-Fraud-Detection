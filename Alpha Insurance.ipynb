{
 "cells": [
  {
   "cell_type": "code",
   "execution_count": 1,
   "metadata": {},
   "outputs": [
    {
     "data": {
      "text/html": [
       "<div>\n",
       "<style scoped>\n",
       "    .dataframe tbody tr th:only-of-type {\n",
       "        vertical-align: middle;\n",
       "    }\n",
       "\n",
       "    .dataframe tbody tr th {\n",
       "        vertical-align: top;\n",
       "    }\n",
       "\n",
       "    .dataframe thead th {\n",
       "        text-align: right;\n",
       "    }\n",
       "</style>\n",
       "<table border=\"1\" class=\"dataframe\">\n",
       "  <thead>\n",
       "    <tr style=\"text-align: right;\">\n",
       "      <th></th>\n",
       "      <th>State_Code</th>\n",
       "      <th>State</th>\n",
       "      <th>Claim_Amount</th>\n",
       "      <th>Education</th>\n",
       "      <th>Claim_Date</th>\n",
       "      <th>Employment_Status</th>\n",
       "      <th>Gender</th>\n",
       "      <th>Income</th>\n",
       "      <th>Location</th>\n",
       "      <th>Marital_Status</th>\n",
       "      <th>...</th>\n",
       "      <th>Months_Since_Last_Claim</th>\n",
       "      <th>Months_Since_Policy_Inception</th>\n",
       "      <th>Claim_Cause</th>\n",
       "      <th>Claim_Report_Type</th>\n",
       "      <th>Vehicle_Class</th>\n",
       "      <th>Vehicle_Size</th>\n",
       "      <th>Vehicle_Model</th>\n",
       "      <th>Outstanding_Balance</th>\n",
       "      <th>Fraudulent_Claim</th>\n",
       "      <th>Claimant__Number</th>\n",
       "    </tr>\n",
       "  </thead>\n",
       "  <tbody>\n",
       "    <tr>\n",
       "      <th>3945</th>\n",
       "      <td>KS</td>\n",
       "      <td>Kansas</td>\n",
       "      <td>668.902273</td>\n",
       "      <td>High School or Below</td>\n",
       "      <td>12/15/2018</td>\n",
       "      <td>Employed</td>\n",
       "      <td>M</td>\n",
       "      <td>56980</td>\n",
       "      <td>Suburban</td>\n",
       "      <td>Married</td>\n",
       "      <td>...</td>\n",
       "      <td>33</td>\n",
       "      <td>70</td>\n",
       "      <td>Hail</td>\n",
       "      <td>Agent</td>\n",
       "      <td>Two-Door Car</td>\n",
       "      <td>Midsize</td>\n",
       "      <td>Chevrolet</td>\n",
       "      <td>44612.0</td>\n",
       "      <td>N</td>\n",
       "      <td>4946</td>\n",
       "    </tr>\n",
       "    <tr>\n",
       "      <th>398</th>\n",
       "      <td>OK</td>\n",
       "      <td>Oklahoma</td>\n",
       "      <td>1377.097618</td>\n",
       "      <td>High School or Below</td>\n",
       "      <td>12/01/2018</td>\n",
       "      <td>Employed</td>\n",
       "      <td>F</td>\n",
       "      <td>59207</td>\n",
       "      <td>Suburban</td>\n",
       "      <td>Single</td>\n",
       "      <td>...</td>\n",
       "      <td>23</td>\n",
       "      <td>21</td>\n",
       "      <td>Collision</td>\n",
       "      <td>Agent</td>\n",
       "      <td>Four-Door Car</td>\n",
       "      <td>Midsize</td>\n",
       "      <td>Chevrolet</td>\n",
       "      <td>41963.0</td>\n",
       "      <td>N</td>\n",
       "      <td>1399</td>\n",
       "    </tr>\n",
       "    <tr>\n",
       "      <th>41</th>\n",
       "      <td>IA</td>\n",
       "      <td>Iowa</td>\n",
       "      <td>277.104503</td>\n",
       "      <td>College</td>\n",
       "      <td>12/01/2018</td>\n",
       "      <td>Employed</td>\n",
       "      <td>F</td>\n",
       "      <td>50071</td>\n",
       "      <td>Rural</td>\n",
       "      <td>Single</td>\n",
       "      <td>...</td>\n",
       "      <td>3</td>\n",
       "      <td>32</td>\n",
       "      <td>Hail</td>\n",
       "      <td>Agent</td>\n",
       "      <td>Two-Door Car</td>\n",
       "      <td>Midsize</td>\n",
       "      <td>Chevrolet</td>\n",
       "      <td>425.0</td>\n",
       "      <td>N</td>\n",
       "      <td>1042</td>\n",
       "    </tr>\n",
       "  </tbody>\n",
       "</table>\n",
       "<p>3 rows × 22 columns</p>\n",
       "</div>"
      ],
      "text/plain": [
       "     State_Code     State  Claim_Amount             Education  Claim_Date  \\\n",
       "3945         KS    Kansas    668.902273  High School or Below  12/15/2018   \n",
       "398          OK  Oklahoma   1377.097618  High School or Below  12/01/2018   \n",
       "41           IA      Iowa    277.104503               College  12/01/2018   \n",
       "\n",
       "     Employment_Status Gender  Income  Location Marital_Status  \\\n",
       "3945          Employed      M   56980  Suburban        Married   \n",
       "398           Employed      F   59207  Suburban         Single   \n",
       "41            Employed      F   50071     Rural         Single   \n",
       "\n",
       "            ...         Months_Since_Last_Claim  \\\n",
       "3945        ...                              33   \n",
       "398         ...                              23   \n",
       "41          ...                               3   \n",
       "\n",
       "      Months_Since_Policy_Inception  Claim_Cause  Claim_Report_Type  \\\n",
       "3945                             70         Hail              Agent   \n",
       "398                              21    Collision              Agent   \n",
       "41                               32         Hail              Agent   \n",
       "\n",
       "      Vehicle_Class Vehicle_Size Vehicle_Model Outstanding_Balance  \\\n",
       "3945   Two-Door Car      Midsize     Chevrolet             44612.0   \n",
       "398   Four-Door Car      Midsize     Chevrolet             41963.0   \n",
       "41     Two-Door Car      Midsize     Chevrolet               425.0   \n",
       "\n",
       "     Fraudulent_Claim  Claimant__Number  \n",
       "3945                N              4946  \n",
       "398                 N              1399  \n",
       "41                  N              1042  \n",
       "\n",
       "[3 rows x 22 columns]"
      ]
     },
     "execution_count": 1,
     "metadata": {},
     "output_type": "execute_result"
    }
   ],
   "source": [
    "import numpy as np\n",
    "import pandas as pd\n",
    "import missingno as msno\n",
    "data_train = pd.read_csv('claim_data_v2_train.csv')\n",
    "data_train.sample(3)"
   ]
  },
  {
   "cell_type": "code",
   "execution_count": 2,
   "metadata": {},
   "outputs": [],
   "source": [
    "def visualize_cat(attr, df=data_train):\n",
    "    df_i = df[['Survived', attr]].groupby([attr])['Survived'].agg(['count','sum', 'mean'])\n",
    "    m = 'Pct Survived'\n",
    "    df_i = df_i.rename({'count': 'frequency', 'sum': 'Survivers', 'mean': m}, axis='columns')\n",
    "    print(df_i)\n",
    "    fig, ax1 = plt.subplots()\n",
    "    ax2 = ax1.twinx()\n",
    "    df_i['frequency'].plot.bar(ax=ax1, alpha=.8)\n",
    "    df_i[m].plot.line(ax=ax2, color='k')\n",
    "    ax1.set_ylabel('frequency')\n",
    "    ax2.set_ylabel('Pct Survived')\n",
    "    ax2.set_ylim(bottom=0, top=1, auto=False)\n",
    "    ax2.legend()"
   ]
  },
  {
   "cell_type": "code",
   "execution_count": 5,
   "metadata": {},
   "outputs": [
    {
     "data": {
      "text/plain": [
       "count     5001\n",
       "unique       2\n",
       "top          N\n",
       "freq      4694\n",
       "Name: Fraudulent_Claim, dtype: object"
      ]
     },
     "execution_count": 5,
     "metadata": {},
     "output_type": "execute_result"
    }
   ],
   "source": [
    "data_train[\"Fraudulent_Claim\"].describe()"
   ]
  },
  {
   "cell_type": "code",
   "execution_count": 6,
   "metadata": {},
   "outputs": [
    {
     "data": {
      "text/plain": [
       "Index(['State_Code', 'State', 'Claim_Amount', 'Education', 'Claim_Date',\n",
       "       'Employment_Status', 'Gender', 'Income', 'Location', 'Marital_Status',\n",
       "       'Monthly_Premium', 'Annual_Premium', 'Months_Since_Last_Claim',\n",
       "       'Months_Since_Policy_Inception', 'Claim_Cause', 'Claim_Report_Type',\n",
       "       'Vehicle_Class', 'Vehicle_Size', 'Vehicle_Model', 'Outstanding_Balance',\n",
       "       'Fraudulent_Claim', 'Claimant__Number'],\n",
       "      dtype='object')"
      ]
     },
     "execution_count": 6,
     "metadata": {},
     "output_type": "execute_result"
    }
   ],
   "source": [
    "data_train.columns"
   ]
  },
  {
   "cell_type": "code",
   "execution_count": 7,
   "metadata": {},
   "outputs": [
    {
     "data": {
      "text/html": [
       "<div>\n",
       "<style scoped>\n",
       "    .dataframe tbody tr th:only-of-type {\n",
       "        vertical-align: middle;\n",
       "    }\n",
       "\n",
       "    .dataframe tbody tr th {\n",
       "        vertical-align: top;\n",
       "    }\n",
       "\n",
       "    .dataframe thead th {\n",
       "        text-align: right;\n",
       "    }\n",
       "</style>\n",
       "<table border=\"1\" class=\"dataframe\">\n",
       "  <thead>\n",
       "    <tr style=\"text-align: right;\">\n",
       "      <th></th>\n",
       "      <th>State_Code</th>\n",
       "      <th>State</th>\n",
       "      <th>Claim_Amount</th>\n",
       "      <th>Education</th>\n",
       "      <th>Claim_Date</th>\n",
       "      <th>Employment_Status</th>\n",
       "      <th>Gender</th>\n",
       "      <th>Income</th>\n",
       "      <th>Location</th>\n",
       "      <th>Marital_Status</th>\n",
       "      <th>...</th>\n",
       "      <th>Months_Since_Last_Claim</th>\n",
       "      <th>Months_Since_Policy_Inception</th>\n",
       "      <th>Claim_Cause</th>\n",
       "      <th>Claim_Report_Type</th>\n",
       "      <th>Vehicle_Class</th>\n",
       "      <th>Vehicle_Size</th>\n",
       "      <th>Vehicle_Model</th>\n",
       "      <th>Outstanding_Balance</th>\n",
       "      <th>Fraudulent_Claim</th>\n",
       "      <th>Claimant__Number</th>\n",
       "    </tr>\n",
       "  </thead>\n",
       "  <tbody>\n",
       "    <tr>\n",
       "      <th>count</th>\n",
       "      <td>5001</td>\n",
       "      <td>5001</td>\n",
       "      <td>5001.000000</td>\n",
       "      <td>4990</td>\n",
       "      <td>5001</td>\n",
       "      <td>5001</td>\n",
       "      <td>5001</td>\n",
       "      <td>5.001000e+03</td>\n",
       "      <td>4998</td>\n",
       "      <td>5001</td>\n",
       "      <td>...</td>\n",
       "      <td>5001.000000</td>\n",
       "      <td>5001.000000</td>\n",
       "      <td>5001</td>\n",
       "      <td>5001</td>\n",
       "      <td>5001</td>\n",
       "      <td>5001</td>\n",
       "      <td>5001</td>\n",
       "      <td>4992.000000</td>\n",
       "      <td>5001</td>\n",
       "      <td>5001.000000</td>\n",
       "    </tr>\n",
       "    <tr>\n",
       "      <th>unique</th>\n",
       "      <td>5</td>\n",
       "      <td>5</td>\n",
       "      <td>NaN</td>\n",
       "      <td>5</td>\n",
       "      <td>3</td>\n",
       "      <td>5</td>\n",
       "      <td>2</td>\n",
       "      <td>NaN</td>\n",
       "      <td>3</td>\n",
       "      <td>3</td>\n",
       "      <td>...</td>\n",
       "      <td>NaN</td>\n",
       "      <td>NaN</td>\n",
       "      <td>5</td>\n",
       "      <td>4</td>\n",
       "      <td>6</td>\n",
       "      <td>3</td>\n",
       "      <td>4</td>\n",
       "      <td>NaN</td>\n",
       "      <td>2</td>\n",
       "      <td>NaN</td>\n",
       "    </tr>\n",
       "    <tr>\n",
       "      <th>top</th>\n",
       "      <td>IA</td>\n",
       "      <td>Iowa</td>\n",
       "      <td>NaN</td>\n",
       "      <td>College</td>\n",
       "      <td>12/15/2018</td>\n",
       "      <td>Employed</td>\n",
       "      <td>M</td>\n",
       "      <td>NaN</td>\n",
       "      <td>Suburban</td>\n",
       "      <td>Married</td>\n",
       "      <td>...</td>\n",
       "      <td>NaN</td>\n",
       "      <td>NaN</td>\n",
       "      <td>Collision</td>\n",
       "      <td>Agent</td>\n",
       "      <td>Four-Door Car</td>\n",
       "      <td>Midsize</td>\n",
       "      <td>Toyota</td>\n",
       "      <td>NaN</td>\n",
       "      <td>N</td>\n",
       "      <td>NaN</td>\n",
       "    </tr>\n",
       "    <tr>\n",
       "      <th>freq</th>\n",
       "      <td>1546</td>\n",
       "      <td>1546</td>\n",
       "      <td>NaN</td>\n",
       "      <td>1492</td>\n",
       "      <td>2000</td>\n",
       "      <td>3126</td>\n",
       "      <td>2531</td>\n",
       "      <td>NaN</td>\n",
       "      <td>3156</td>\n",
       "      <td>2930</td>\n",
       "      <td>...</td>\n",
       "      <td>NaN</td>\n",
       "      <td>NaN</td>\n",
       "      <td>2077</td>\n",
       "      <td>1889</td>\n",
       "      <td>2535</td>\n",
       "      <td>3523</td>\n",
       "      <td>1278</td>\n",
       "      <td>NaN</td>\n",
       "      <td>4694</td>\n",
       "      <td>NaN</td>\n",
       "    </tr>\n",
       "    <tr>\n",
       "      <th>mean</th>\n",
       "      <td>NaN</td>\n",
       "      <td>NaN</td>\n",
       "      <td>787.763253</td>\n",
       "      <td>NaN</td>\n",
       "      <td>NaN</td>\n",
       "      <td>NaN</td>\n",
       "      <td>NaN</td>\n",
       "      <td>4.131045e+04</td>\n",
       "      <td>NaN</td>\n",
       "      <td>NaN</td>\n",
       "      <td>...</td>\n",
       "      <td>15.004199</td>\n",
       "      <td>48.234953</td>\n",
       "      <td>NaN</td>\n",
       "      <td>NaN</td>\n",
       "      <td>NaN</td>\n",
       "      <td>NaN</td>\n",
       "      <td>NaN</td>\n",
       "      <td>23728.152644</td>\n",
       "      <td>NaN</td>\n",
       "      <td>3501.000000</td>\n",
       "    </tr>\n",
       "    <tr>\n",
       "      <th>std</th>\n",
       "      <td>NaN</td>\n",
       "      <td>NaN</td>\n",
       "      <td>655.963269</td>\n",
       "      <td>NaN</td>\n",
       "      <td>NaN</td>\n",
       "      <td>NaN</td>\n",
       "      <td>NaN</td>\n",
       "      <td>2.276904e+05</td>\n",
       "      <td>NaN</td>\n",
       "      <td>NaN</td>\n",
       "      <td>...</td>\n",
       "      <td>11.139649</td>\n",
       "      <td>28.096651</td>\n",
       "      <td>NaN</td>\n",
       "      <td>NaN</td>\n",
       "      <td>NaN</td>\n",
       "      <td>NaN</td>\n",
       "      <td>NaN</td>\n",
       "      <td>13827.401917</td>\n",
       "      <td>NaN</td>\n",
       "      <td>1443.808678</td>\n",
       "    </tr>\n",
       "    <tr>\n",
       "      <th>min</th>\n",
       "      <td>NaN</td>\n",
       "      <td>NaN</td>\n",
       "      <td>189.868369</td>\n",
       "      <td>NaN</td>\n",
       "      <td>NaN</td>\n",
       "      <td>NaN</td>\n",
       "      <td>NaN</td>\n",
       "      <td>0.000000e+00</td>\n",
       "      <td>NaN</td>\n",
       "      <td>NaN</td>\n",
       "      <td>...</td>\n",
       "      <td>0.000000</td>\n",
       "      <td>0.000000</td>\n",
       "      <td>NaN</td>\n",
       "      <td>NaN</td>\n",
       "      <td>NaN</td>\n",
       "      <td>NaN</td>\n",
       "      <td>NaN</td>\n",
       "      <td>4.000000</td>\n",
       "      <td>NaN</td>\n",
       "      <td>1001.000000</td>\n",
       "    </tr>\n",
       "    <tr>\n",
       "      <th>25%</th>\n",
       "      <td>NaN</td>\n",
       "      <td>NaN</td>\n",
       "      <td>402.296353</td>\n",
       "      <td>NaN</td>\n",
       "      <td>NaN</td>\n",
       "      <td>NaN</td>\n",
       "      <td>NaN</td>\n",
       "      <td>0.000000e+00</td>\n",
       "      <td>NaN</td>\n",
       "      <td>NaN</td>\n",
       "      <td>...</td>\n",
       "      <td>5.000000</td>\n",
       "      <td>24.000000</td>\n",
       "      <td>NaN</td>\n",
       "      <td>NaN</td>\n",
       "      <td>NaN</td>\n",
       "      <td>NaN</td>\n",
       "      <td>NaN</td>\n",
       "      <td>11528.750000</td>\n",
       "      <td>NaN</td>\n",
       "      <td>2251.000000</td>\n",
       "    </tr>\n",
       "    <tr>\n",
       "      <th>50%</th>\n",
       "      <td>NaN</td>\n",
       "      <td>NaN</td>\n",
       "      <td>577.390039</td>\n",
       "      <td>NaN</td>\n",
       "      <td>NaN</td>\n",
       "      <td>NaN</td>\n",
       "      <td>NaN</td>\n",
       "      <td>3.464000e+04</td>\n",
       "      <td>NaN</td>\n",
       "      <td>NaN</td>\n",
       "      <td>...</td>\n",
       "      <td>13.000000</td>\n",
       "      <td>48.000000</td>\n",
       "      <td>NaN</td>\n",
       "      <td>NaN</td>\n",
       "      <td>NaN</td>\n",
       "      <td>NaN</td>\n",
       "      <td>NaN</td>\n",
       "      <td>23993.500000</td>\n",
       "      <td>NaN</td>\n",
       "      <td>3501.000000</td>\n",
       "    </tr>\n",
       "    <tr>\n",
       "      <th>75%</th>\n",
       "      <td>NaN</td>\n",
       "      <td>NaN</td>\n",
       "      <td>886.114954</td>\n",
       "      <td>NaN</td>\n",
       "      <td>NaN</td>\n",
       "      <td>NaN</td>\n",
       "      <td>NaN</td>\n",
       "      <td>6.300900e+04</td>\n",
       "      <td>NaN</td>\n",
       "      <td>NaN</td>\n",
       "      <td>...</td>\n",
       "      <td>23.000000</td>\n",
       "      <td>72.000000</td>\n",
       "      <td>NaN</td>\n",
       "      <td>NaN</td>\n",
       "      <td>NaN</td>\n",
       "      <td>NaN</td>\n",
       "      <td>NaN</td>\n",
       "      <td>35574.000000</td>\n",
       "      <td>NaN</td>\n",
       "      <td>4751.000000</td>\n",
       "    </tr>\n",
       "    <tr>\n",
       "      <th>max</th>\n",
       "      <td>NaN</td>\n",
       "      <td>NaN</td>\n",
       "      <td>7422.851604</td>\n",
       "      <td>NaN</td>\n",
       "      <td>NaN</td>\n",
       "      <td>NaN</td>\n",
       "      <td>NaN</td>\n",
       "      <td>1.596780e+07</td>\n",
       "      <td>NaN</td>\n",
       "      <td>NaN</td>\n",
       "      <td>...</td>\n",
       "      <td>60.000000</td>\n",
       "      <td>99.000000</td>\n",
       "      <td>NaN</td>\n",
       "      <td>NaN</td>\n",
       "      <td>NaN</td>\n",
       "      <td>NaN</td>\n",
       "      <td>NaN</td>\n",
       "      <td>47996.000000</td>\n",
       "      <td>NaN</td>\n",
       "      <td>6001.000000</td>\n",
       "    </tr>\n",
       "  </tbody>\n",
       "</table>\n",
       "<p>11 rows × 22 columns</p>\n",
       "</div>"
      ],
      "text/plain": [
       "       State_Code State  Claim_Amount Education  Claim_Date Employment_Status  \\\n",
       "count        5001  5001   5001.000000      4990        5001              5001   \n",
       "unique          5     5           NaN         5           3                 5   \n",
       "top            IA  Iowa           NaN   College  12/15/2018          Employed   \n",
       "freq         1546  1546           NaN      1492        2000              3126   \n",
       "mean          NaN   NaN    787.763253       NaN         NaN               NaN   \n",
       "std           NaN   NaN    655.963269       NaN         NaN               NaN   \n",
       "min           NaN   NaN    189.868369       NaN         NaN               NaN   \n",
       "25%           NaN   NaN    402.296353       NaN         NaN               NaN   \n",
       "50%           NaN   NaN    577.390039       NaN         NaN               NaN   \n",
       "75%           NaN   NaN    886.114954       NaN         NaN               NaN   \n",
       "max           NaN   NaN   7422.851604       NaN         NaN               NaN   \n",
       "\n",
       "       Gender        Income  Location Marital_Status        ...         \\\n",
       "count    5001  5.001000e+03      4998           5001        ...          \n",
       "unique      2           NaN         3              3        ...          \n",
       "top         M           NaN  Suburban        Married        ...          \n",
       "freq     2531           NaN      3156           2930        ...          \n",
       "mean      NaN  4.131045e+04       NaN            NaN        ...          \n",
       "std       NaN  2.276904e+05       NaN            NaN        ...          \n",
       "min       NaN  0.000000e+00       NaN            NaN        ...          \n",
       "25%       NaN  0.000000e+00       NaN            NaN        ...          \n",
       "50%       NaN  3.464000e+04       NaN            NaN        ...          \n",
       "75%       NaN  6.300900e+04       NaN            NaN        ...          \n",
       "max       NaN  1.596780e+07       NaN            NaN        ...          \n",
       "\n",
       "        Months_Since_Last_Claim  Months_Since_Policy_Inception  Claim_Cause  \\\n",
       "count               5001.000000                    5001.000000         5001   \n",
       "unique                      NaN                            NaN            5   \n",
       "top                         NaN                            NaN    Collision   \n",
       "freq                        NaN                            NaN         2077   \n",
       "mean                  15.004199                      48.234953          NaN   \n",
       "std                   11.139649                      28.096651          NaN   \n",
       "min                    0.000000                       0.000000          NaN   \n",
       "25%                    5.000000                      24.000000          NaN   \n",
       "50%                   13.000000                      48.000000          NaN   \n",
       "75%                   23.000000                      72.000000          NaN   \n",
       "max                   60.000000                      99.000000          NaN   \n",
       "\n",
       "        Claim_Report_Type  Vehicle_Class Vehicle_Size Vehicle_Model  \\\n",
       "count                5001           5001         5001          5001   \n",
       "unique                  4              6            3             4   \n",
       "top                 Agent  Four-Door Car      Midsize        Toyota   \n",
       "freq                 1889           2535         3523          1278   \n",
       "mean                  NaN            NaN          NaN           NaN   \n",
       "std                   NaN            NaN          NaN           NaN   \n",
       "min                   NaN            NaN          NaN           NaN   \n",
       "25%                   NaN            NaN          NaN           NaN   \n",
       "50%                   NaN            NaN          NaN           NaN   \n",
       "75%                   NaN            NaN          NaN           NaN   \n",
       "max                   NaN            NaN          NaN           NaN   \n",
       "\n",
       "       Outstanding_Balance Fraudulent_Claim  Claimant__Number  \n",
       "count          4992.000000             5001       5001.000000  \n",
       "unique                 NaN                2               NaN  \n",
       "top                    NaN                N               NaN  \n",
       "freq                   NaN             4694               NaN  \n",
       "mean          23728.152644              NaN       3501.000000  \n",
       "std           13827.401917              NaN       1443.808678  \n",
       "min               4.000000              NaN       1001.000000  \n",
       "25%           11528.750000              NaN       2251.000000  \n",
       "50%           23993.500000              NaN       3501.000000  \n",
       "75%           35574.000000              NaN       4751.000000  \n",
       "max           47996.000000              NaN       6001.000000  \n",
       "\n",
       "[11 rows x 22 columns]"
      ]
     },
     "execution_count": 7,
     "metadata": {},
     "output_type": "execute_result"
    }
   ],
   "source": [
    "data_train.describe(include='all')"
   ]
  },
  {
   "cell_type": "code",
   "execution_count": 8,
   "metadata": {},
   "outputs": [
    {
     "data": {
      "image/png": "[encoded data removed]",
      "text/plain": [
       "<Figure size 864x648 with 2 Axes>"
      ]
     },
     "metadata": {
      "needs_background": "light"
     },
     "output_type": "display_data"
    }
   ],
   "source": [
    "import matplotlib.pyplot as plt\n",
    "import seaborn as sns\n",
    "corrmat= data_train.corr()\n",
    "f, ax = plt.subplots(figsize=(12, 9))\n",
    "sns.heatmap(corrmat, vmax=.8, square=True);"
   ]
  },
  {
   "cell_type": "code",
   "execution_count": 11,
   "metadata": {},
   "outputs": [
    {
     "data": {
      "text/plain": [
       "<matplotlib.axes._subplots.AxesSubplot at 0xd01d50>"
      ]
     },
     "execution_count": 11,
     "metadata": {},
     "output_type": "execute_result"
    },
    {
     "data": {
      "image/png": "[encoded data removed]",
      "text/plain": [
       "<Figure size 432x288 with 1 Axes>"
      ]
     },
     "metadata": {
      "needs_background": "light"
     },
     "output_type": "display_data"
    }
   ],
   "source": [
    "#potential log tranformation\n",
    "data_train['Claim_Amount'].hist()"
   ]
  },
  {
   "cell_type": "code",
   "execution_count": 15,
   "metadata": {},
   "outputs": [
    {
     "data": {
      "text/plain": [
       "<matplotlib.axes._subplots.AxesSubplot at 0xfbe3ff0>"
      ]
     },
     "execution_count": 15,
     "metadata": {},
     "output_type": "execute_result"
    },
    {
     "data": {
      "image/png": "[encoded data removed]",
      "text/plain": [
       "<Figure size 432x288 with 1 Axes>"
      ]
     },
     "metadata": {
      "needs_background": "light"
     },
     "output_type": "display_data"
    }
   ],
   "source": [
    "data_train['Income'].describe()\n",
    "data_train['Income'].hist()"
   ]
  },
  {
   "cell_type": "code",
   "execution_count": 22,
   "metadata": {},
   "outputs": [
    {
     "data": {
      "text/plain": [
       "<matplotlib.axes._subplots.AxesSubplot at 0x11689b0>"
      ]
     },
     "execution_count": 22,
     "metadata": {},
     "output_type": "execute_result"
    },
    {
     "data": {
      "image/png": "[encoded data removed]",
      "text/plain": [
       "<Figure size 432x288 with 1 Axes>"
      ]
     },
     "metadata": {
      "needs_background": "light"
     },
     "output_type": "display_data"
    }
   ],
   "source": [
    "data=data_train['Income'].where(data_train['Income']<=100000,other=100001)\n",
    "data.hist()"
   ]
  },
  {
   "cell_type": "code",
   "execution_count": 16,
   "metadata": {},
   "outputs": [
    {
     "data": {
      "text/plain": [
       "<matplotlib.axes._subplots.AxesSubplot at 0xfc42890>"
      ]
     },
     "execution_count": 16,
     "metadata": {},
     "output_type": "execute_result"
    },
    {
     "data": {
      "image/png": "[encoded data removed]",
      "text/plain": [
       "<Figure size 432x288 with 1 Axes>"
      ]
     },
     "metadata": {
      "needs_background": "light"
     },
     "output_type": "display_data"
    }
   ],
   "source": [
    "data_train['Annual_Premium'].hist()"
   ]
  },
  {
   "cell_type": "code",
   "execution_count": 17,
   "metadata": {},
   "outputs": [
    {
     "data": {
      "text/plain": [
       "<matplotlib.axes._subplots.AxesSubplot at 0xa7d250>"
      ]
     },
     "execution_count": 17,
     "metadata": {},
     "output_type": "execute_result"
    },
    {
     "data": {
      "image/png": "[encoded data removed]",
      "text/plain": [
       "<Figure size 432x288 with 1 Axes>"
      ]
     },
     "metadata": {
      "needs_background": "light"
     },
     "output_type": "display_data"
    }
   ],
   "source": [
    "data_train['Monthly_Premium'].hist()"
   ]
  },
  {
   "cell_type": "code",
   "execution_count": 18,
   "metadata": {},
   "outputs": [
    {
     "data": {
      "text/plain": [
       "<matplotlib.axes._subplots.AxesSubplot at 0x1029db0>"
      ]
     },
     "execution_count": 18,
     "metadata": {},
     "output_type": "execute_result"
    },
    {
     "data": {
      "image/png": "[encoded data removed]",
      "text/plain": [
       "<Figure size 432x288 with 1 Axes>"
      ]
     },
     "metadata": {
      "needs_background": "light"
     },
     "output_type": "display_data"
    }
   ],
   "source": [
    "data_train['Months_Since_Last_Claim'].hist()"
   ]
  },
  {
   "cell_type": "code",
   "execution_count": 19,
   "metadata": {},
   "outputs": [
    {
     "data": {
      "text/plain": [
       "<matplotlib.axes._subplots.AxesSubplot at 0x108fe90>"
      ]
     },
     "execution_count": 19,
     "metadata": {},
     "output_type": "execute_result"
    },
    {
     "data": {
      "image/png": "[encoded data removed]",
      "text/plain": [
       "<Figure size 432x288 with 1 Axes>"
      ]
     },
     "metadata": {
      "needs_background": "light"
     },
     "output_type": "display_data"
    }
   ],
   "source": [
    "data_train['Months_Since_Policy_Inception'].hist()"
   ]
  },
  {
   "cell_type": "code",
   "execution_count": 24,
   "metadata": {},
   "outputs": [
    {
     "data": {
      "text/plain": [
       "<matplotlib.axes._subplots.AxesSubplot at 0x1191b50>"
      ]
     },
     "execution_count": 24,
     "metadata": {},
     "output_type": "execute_result"
    },
    {
     "data": {
      "image/png": "[encoded data removed]",
      "text/plain": [
       "<Figure size 432x288 with 1 Axes>"
      ]
     },
     "metadata": {
      "needs_background": "light"
     },
     "output_type": "display_data"
    }
   ],
   "source": [
    "data_train['Outstanding_Balance'].hist()"
   ]
  },
  {
   "cell_type": "code",
   "execution_count": 25,
   "metadata": {},
   "outputs": [
    {
     "data": {
      "text/plain": [
       "State_Code                        0\n",
       "State                             0\n",
       "Claim_Amount                      0\n",
       "Education                        11\n",
       "Claim_Date                        0\n",
       "Employment_Status                 0\n",
       "Gender                            0\n",
       "Income                            0\n",
       "Location                          3\n",
       "Marital_Status                    0\n",
       "Monthly_Premium                   0\n",
       "Annual_Premium                    0\n",
       "Months_Since_Last_Claim           0\n",
       "Months_Since_Policy_Inception     0\n",
       "Claim_Cause                       0\n",
       "Claim_Report_Type                 0\n",
       "Vehicle_Class                     0\n",
       "Vehicle_Size                      0\n",
       "Vehicle_Model                     0\n",
       "Outstanding_Balance               9\n",
       "Fraudulent_Claim                  0\n",
       "Claimant__Number                  0\n",
       "dtype: int64"
      ]
     },
     "execution_count": 25,
     "metadata": {},
     "output_type": "execute_result"
    }
   ],
   "source": [
    "data_train.isna().sum()"
   ]
  },
  {
   "cell_type": "code",
   "execution_count": 30,
   "metadata": {},
   "outputs": [
    {
     "name": "stderr",
     "output_type": "stream",
     "text": [
      "c:\\users\\student\\appdata\\local\\programs\\python\\python37-32\\lib\\site-packages\\scipy\\stats\\stats.py:1713: FutureWarning: Using a non-tuple sequence for multidimensional indexing is deprecated; use `arr[tuple(seq)]` instead of `arr[seq]`. In the future this will be interpreted as an array index, `arr[np.array(seq)]`, which will result either in an error or a different result.\n",
      "  return np.add.reduce(sorted[indexer] * weights, axis=axis) / sumval\n"
     ]
    },
    {
     "data": {
      "image/png": "[encoded data removed]",
      "text/plain": [
       "<Figure size 360x360 with 1 Axes>"
      ]
     },
     "metadata": {
      "needs_background": "light"
     },
     "output_type": "display_data"
    }
   ],
   "source": [
    "sns.catplot(x=\"Fraudulent_Claim\", y=\"Claim_Amount\", kind=\"violin\",data=data_train);"
   ]
  },
  {
   "cell_type": "code",
   "execution_count": 31,
   "metadata": {},
   "outputs": [
    {
     "name": "stderr",
     "output_type": "stream",
     "text": [
      "c:\\users\\student\\appdata\\local\\programs\\python\\python37-32\\lib\\site-packages\\scipy\\stats\\stats.py:1713: FutureWarning: Using a non-tuple sequence for multidimensional indexing is deprecated; use `arr[tuple(seq)]` instead of `arr[seq]`. In the future this will be interpreted as an array index, `arr[np.array(seq)]`, which will result either in an error or a different result.\n",
      "  return np.add.reduce(sorted[indexer] * weights, axis=axis) / sumval\n"
     ]
    },
    {
     "data": {
      "image/png": "[encoded data removed]",
      "text/plain": [
       "<Figure size 360x360 with 1 Axes>"
      ]
     },
     "metadata": {
      "needs_background": "light"
     },
     "output_type": "display_data"
    }
   ],
   "source": [
    "sns.catplot(x=\"Fraudulent_Claim\", y=\"Income\", kind=\"violin\",data=data_train);"
   ]
  }
 ],
 "metadata": {
  "kernelspec": {
   "display_name": "Python 3",
   "language": "python",
   "name": "python3"
  },
  "language_info": {
   "codemirror_mode": {
    "name": "ipython",
    "version": 3
   },
   "file_extension": ".py",
   "mimetype": "text/x-python",
   "name": "python",
   "nbconvert_exporter": "python",
   "pygments_lexer": "ipython3",
   "version": "3.7.0"
  }
 },
 "nbformat": 4,
 "nbformat_minor": 2
}
