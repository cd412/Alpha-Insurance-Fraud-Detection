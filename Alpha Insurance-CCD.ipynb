{
 "cells": [
  {
   "cell_type": "code",
   "execution_count": 60,
   "metadata": {},
   "outputs": [
    {
     "data": {
      "text/html": [
       "<div>\n",
       "<style scoped>\n",
       "    .dataframe tbody tr th:only-of-type {\n",
       "        vertical-align: middle;\n",
       "    }\n",
       "\n",
       "    .dataframe tbody tr th {\n",
       "        vertical-align: top;\n",
       "    }\n",
       "\n",
       "    .dataframe thead th {\n",
       "        text-align: right;\n",
       "    }\n",
       "</style>\n",
       "<table border=\"1\" class=\"dataframe\">\n",
       "  <thead>\n",
       "    <tr style=\"text-align: right;\">\n",
       "      <th></th>\n",
       "      <th>State_Code</th>\n",
       "      <th>State</th>\n",
       "      <th>Claim_Amount</th>\n",
       "      <th>Education</th>\n",
       "      <th>Claim_Date</th>\n",
       "      <th>Employment_Status</th>\n",
       "      <th>Gender</th>\n",
       "      <th>Income</th>\n",
       "      <th>Location</th>\n",
       "      <th>Marital_Status</th>\n",
       "      <th>...</th>\n",
       "      <th>Months_Since_Last_Claim</th>\n",
       "      <th>Months_Since_Policy_Inception</th>\n",
       "      <th>Claim_Cause</th>\n",
       "      <th>Claim_Report_Type</th>\n",
       "      <th>Vehicle_Class</th>\n",
       "      <th>Vehicle_Size</th>\n",
       "      <th>Vehicle_Model</th>\n",
       "      <th>Outstanding_Balance</th>\n",
       "      <th>Fraudulent_Claim</th>\n",
       "      <th>Claimant__Number</th>\n",
       "    </tr>\n",
       "  </thead>\n",
       "  <tbody>\n",
       "    <tr>\n",
       "      <th>4304</th>\n",
       "      <td>IA</td>\n",
       "      <td>Iowa</td>\n",
       "      <td>532.008116</td>\n",
       "      <td>High School or Below</td>\n",
       "      <td>01/15/2019</td>\n",
       "      <td>Employed</td>\n",
       "      <td>F</td>\n",
       "      <td>88669</td>\n",
       "      <td>Urban</td>\n",
       "      <td>Married</td>\n",
       "      <td>...</td>\n",
       "      <td>9</td>\n",
       "      <td>18</td>\n",
       "      <td>Collision</td>\n",
       "      <td>Call Center</td>\n",
       "      <td>Four-Door Car</td>\n",
       "      <td>Midsize</td>\n",
       "      <td>Honda</td>\n",
       "      <td>9470.0</td>\n",
       "      <td>N</td>\n",
       "      <td>5305</td>\n",
       "    </tr>\n",
       "    <tr>\n",
       "      <th>4825</th>\n",
       "      <td>MO</td>\n",
       "      <td>Missouri</td>\n",
       "      <td>239.391537</td>\n",
       "      <td>College</td>\n",
       "      <td>01/15/2019</td>\n",
       "      <td>Unemployed</td>\n",
       "      <td>M</td>\n",
       "      <td>0</td>\n",
       "      <td>Suburban</td>\n",
       "      <td>Single</td>\n",
       "      <td>...</td>\n",
       "      <td>24</td>\n",
       "      <td>10</td>\n",
       "      <td>Collision</td>\n",
       "      <td>Branch</td>\n",
       "      <td>Four-Door Car</td>\n",
       "      <td>Midsize</td>\n",
       "      <td>Chevrolet</td>\n",
       "      <td>43879.0</td>\n",
       "      <td>N</td>\n",
       "      <td>5826</td>\n",
       "    </tr>\n",
       "    <tr>\n",
       "      <th>2538</th>\n",
       "      <td>MO</td>\n",
       "      <td>Missouri</td>\n",
       "      <td>538.089864</td>\n",
       "      <td>College</td>\n",
       "      <td>12/15/2018</td>\n",
       "      <td>Employed</td>\n",
       "      <td>F</td>\n",
       "      <td>55350</td>\n",
       "      <td>Suburban</td>\n",
       "      <td>Married</td>\n",
       "      <td>...</td>\n",
       "      <td>0</td>\n",
       "      <td>13</td>\n",
       "      <td>Collision</td>\n",
       "      <td>Agent</td>\n",
       "      <td>Four-Door Car</td>\n",
       "      <td>Midsize</td>\n",
       "      <td>Ford</td>\n",
       "      <td>40655.0</td>\n",
       "      <td>N</td>\n",
       "      <td>3539</td>\n",
       "    </tr>\n",
       "  </tbody>\n",
       "</table>\n",
       "<p>3 rows × 22 columns</p>\n",
       "</div>"
      ],
      "text/plain": [
       "     State_Code     State  Claim_Amount             Education  Claim_Date  \\\n",
       "4304         IA      Iowa    532.008116  High School or Below  01/15/2019   \n",
       "4825         MO  Missouri    239.391537               College  01/15/2019   \n",
       "2538         MO  Missouri    538.089864               College  12/15/2018   \n",
       "\n",
       "     Employment_Status Gender  Income  Location Marital_Status  \\\n",
       "4304          Employed      F   88669     Urban        Married   \n",
       "4825        Unemployed      M       0  Suburban         Single   \n",
       "2538          Employed      F   55350  Suburban        Married   \n",
       "\n",
       "            ...         Months_Since_Last_Claim  \\\n",
       "4304        ...                               9   \n",
       "4825        ...                              24   \n",
       "2538        ...                               0   \n",
       "\n",
       "      Months_Since_Policy_Inception  Claim_Cause  Claim_Report_Type  \\\n",
       "4304                             18    Collision        Call Center   \n",
       "4825                             10    Collision             Branch   \n",
       "2538                             13    Collision              Agent   \n",
       "\n",
       "      Vehicle_Class Vehicle_Size Vehicle_Model Outstanding_Balance  \\\n",
       "4304  Four-Door Car      Midsize         Honda              9470.0   \n",
       "4825  Four-Door Car      Midsize     Chevrolet             43879.0   \n",
       "2538  Four-Door Car      Midsize          Ford             40655.0   \n",
       "\n",
       "     Fraudulent_Claim  Claimant__Number  \n",
       "4304                N              5305  \n",
       "4825                N              5826  \n",
       "2538                N              3539  \n",
       "\n",
       "[3 rows x 22 columns]"
      ]
     },
     "execution_count": 60,
     "metadata": {},
     "output_type": "execute_result"
    }
   ],
   "source": [
    "import numpy as np\n",
    "import pandas as pd\n",
    "#import missingno as msno\n",
    "data_train = pd.read_csv('claim_data_v2_train.csv')\n",
    "data_train.sample(3)"
   ]
  },
  {
   "cell_type": "code",
   "execution_count": 61,
   "metadata": {},
   "outputs": [],
   "source": [
    "def visualize_cat(attr, df=data_train):\n",
    "    df_i = df[['Survived', attr]].groupby([attr])['Survived'].agg(['count','sum', 'mean'])\n",
    "    m = 'Pct Survived'\n",
    "    df_i = df_i.rename({'count': 'frequency', 'sum': 'Survivers', 'mean': m}, axis='columns')\n",
    "    print(df_i)\n",
    "    fig, ax1 = plt.subplots()\n",
    "    ax2 = ax1.twinx()\n",
    "    df_i['frequency'].plot.bar(ax=ax1, alpha=.8)\n",
    "    df_i[m].plot.line(ax=ax2, color='k')\n",
    "    ax1.set_ylabel('frequency')\n",
    "    ax2.set_ylabel('Pct Survived')\n",
    "    ax2.set_ylim(bottom=0, top=1, auto=False)\n",
    "    ax2.legend()"
   ]
  },
  {
   "cell_type": "code",
   "execution_count": 62,
   "metadata": {},
   "outputs": [
    {
     "data": {
      "text/plain": [
       "count     5001\n",
       "unique       2\n",
       "top          N\n",
       "freq      4694\n",
       "Name: Fraudulent_Claim, dtype: object"
      ]
     },
     "execution_count": 62,
     "metadata": {},
     "output_type": "execute_result"
    }
   ],
   "source": [
    "data_train[\"Fraudulent_Claim\"].describe()"
   ]
  },
  {
   "cell_type": "code",
   "execution_count": 63,
   "metadata": {},
   "outputs": [
    {
     "data": {
      "text/plain": [
       "Index(['State_Code', 'State', 'Claim_Amount', 'Education', 'Claim_Date',\n",
       "       'Employment_Status', 'Gender', 'Income', 'Location', 'Marital_Status',\n",
       "       'Monthly_Premium', 'Annual_Premium', 'Months_Since_Last_Claim',\n",
       "       'Months_Since_Policy_Inception', 'Claim_Cause', 'Claim_Report_Type',\n",
       "       'Vehicle_Class', 'Vehicle_Size', 'Vehicle_Model', 'Outstanding_Balance',\n",
       "       'Fraudulent_Claim', 'Claimant__Number'],\n",
       "      dtype='object')"
      ]
     },
     "execution_count": 63,
     "metadata": {},
     "output_type": "execute_result"
    }
   ],
   "source": [
    "data_train.columns"
   ]
  },
  {
   "cell_type": "code",
   "execution_count": 64,
   "metadata": {},
   "outputs": [
    {
     "data": {
      "text/html": [
       "<div>\n",
       "<style scoped>\n",
       "    .dataframe tbody tr th:only-of-type {\n",
       "        vertical-align: middle;\n",
       "    }\n",
       "\n",
       "    .dataframe tbody tr th {\n",
       "        vertical-align: top;\n",
       "    }\n",
       "\n",
       "    .dataframe thead th {\n",
       "        text-align: right;\n",
       "    }\n",
       "</style>\n",
       "<table border=\"1\" class=\"dataframe\">\n",
       "  <thead>\n",
       "    <tr style=\"text-align: right;\">\n",
       "      <th></th>\n",
       "      <th>State_Code</th>\n",
       "      <th>State</th>\n",
       "      <th>Claim_Amount</th>\n",
       "      <th>Education</th>\n",
       "      <th>Claim_Date</th>\n",
       "      <th>Employment_Status</th>\n",
       "      <th>Gender</th>\n",
       "      <th>Income</th>\n",
       "      <th>Location</th>\n",
       "      <th>Marital_Status</th>\n",
       "      <th>...</th>\n",
       "      <th>Months_Since_Last_Claim</th>\n",
       "      <th>Months_Since_Policy_Inception</th>\n",
       "      <th>Claim_Cause</th>\n",
       "      <th>Claim_Report_Type</th>\n",
       "      <th>Vehicle_Class</th>\n",
       "      <th>Vehicle_Size</th>\n",
       "      <th>Vehicle_Model</th>\n",
       "      <th>Outstanding_Balance</th>\n",
       "      <th>Fraudulent_Claim</th>\n",
       "      <th>Claimant__Number</th>\n",
       "    </tr>\n",
       "  </thead>\n",
       "  <tbody>\n",
       "    <tr>\n",
       "      <th>count</th>\n",
       "      <td>5001</td>\n",
       "      <td>5001</td>\n",
       "      <td>5001.000000</td>\n",
       "      <td>4990</td>\n",
       "      <td>5001</td>\n",
       "      <td>5001</td>\n",
       "      <td>5001</td>\n",
       "      <td>5.001000e+03</td>\n",
       "      <td>4998</td>\n",
       "      <td>5001</td>\n",
       "      <td>...</td>\n",
       "      <td>5001.000000</td>\n",
       "      <td>5001.000000</td>\n",
       "      <td>5001</td>\n",
       "      <td>5001</td>\n",
       "      <td>5001</td>\n",
       "      <td>5001</td>\n",
       "      <td>5001</td>\n",
       "      <td>4992.000000</td>\n",
       "      <td>5001</td>\n",
       "      <td>5001.000000</td>\n",
       "    </tr>\n",
       "    <tr>\n",
       "      <th>unique</th>\n",
       "      <td>5</td>\n",
       "      <td>5</td>\n",
       "      <td>NaN</td>\n",
       "      <td>5</td>\n",
       "      <td>3</td>\n",
       "      <td>5</td>\n",
       "      <td>2</td>\n",
       "      <td>NaN</td>\n",
       "      <td>3</td>\n",
       "      <td>3</td>\n",
       "      <td>...</td>\n",
       "      <td>NaN</td>\n",
       "      <td>NaN</td>\n",
       "      <td>5</td>\n",
       "      <td>4</td>\n",
       "      <td>6</td>\n",
       "      <td>3</td>\n",
       "      <td>4</td>\n",
       "      <td>NaN</td>\n",
       "      <td>2</td>\n",
       "      <td>NaN</td>\n",
       "    </tr>\n",
       "    <tr>\n",
       "      <th>top</th>\n",
       "      <td>IA</td>\n",
       "      <td>Iowa</td>\n",
       "      <td>NaN</td>\n",
       "      <td>College</td>\n",
       "      <td>12/01/2018</td>\n",
       "      <td>Employed</td>\n",
       "      <td>M</td>\n",
       "      <td>NaN</td>\n",
       "      <td>Suburban</td>\n",
       "      <td>Married</td>\n",
       "      <td>...</td>\n",
       "      <td>NaN</td>\n",
       "      <td>NaN</td>\n",
       "      <td>Collision</td>\n",
       "      <td>Agent</td>\n",
       "      <td>Four-Door Car</td>\n",
       "      <td>Midsize</td>\n",
       "      <td>Toyota</td>\n",
       "      <td>NaN</td>\n",
       "      <td>N</td>\n",
       "      <td>NaN</td>\n",
       "    </tr>\n",
       "    <tr>\n",
       "      <th>freq</th>\n",
       "      <td>1546</td>\n",
       "      <td>1546</td>\n",
       "      <td>NaN</td>\n",
       "      <td>1492</td>\n",
       "      <td>2000</td>\n",
       "      <td>3126</td>\n",
       "      <td>2531</td>\n",
       "      <td>NaN</td>\n",
       "      <td>3156</td>\n",
       "      <td>2930</td>\n",
       "      <td>...</td>\n",
       "      <td>NaN</td>\n",
       "      <td>NaN</td>\n",
       "      <td>2077</td>\n",
       "      <td>1889</td>\n",
       "      <td>2535</td>\n",
       "      <td>3523</td>\n",
       "      <td>1278</td>\n",
       "      <td>NaN</td>\n",
       "      <td>4694</td>\n",
       "      <td>NaN</td>\n",
       "    </tr>\n",
       "    <tr>\n",
       "      <th>mean</th>\n",
       "      <td>NaN</td>\n",
       "      <td>NaN</td>\n",
       "      <td>787.763253</td>\n",
       "      <td>NaN</td>\n",
       "      <td>NaN</td>\n",
       "      <td>NaN</td>\n",
       "      <td>NaN</td>\n",
       "      <td>4.131045e+04</td>\n",
       "      <td>NaN</td>\n",
       "      <td>NaN</td>\n",
       "      <td>...</td>\n",
       "      <td>15.004199</td>\n",
       "      <td>48.234953</td>\n",
       "      <td>NaN</td>\n",
       "      <td>NaN</td>\n",
       "      <td>NaN</td>\n",
       "      <td>NaN</td>\n",
       "      <td>NaN</td>\n",
       "      <td>23728.152644</td>\n",
       "      <td>NaN</td>\n",
       "      <td>3501.000000</td>\n",
       "    </tr>\n",
       "    <tr>\n",
       "      <th>std</th>\n",
       "      <td>NaN</td>\n",
       "      <td>NaN</td>\n",
       "      <td>655.963269</td>\n",
       "      <td>NaN</td>\n",
       "      <td>NaN</td>\n",
       "      <td>NaN</td>\n",
       "      <td>NaN</td>\n",
       "      <td>2.276904e+05</td>\n",
       "      <td>NaN</td>\n",
       "      <td>NaN</td>\n",
       "      <td>...</td>\n",
       "      <td>11.139649</td>\n",
       "      <td>28.096651</td>\n",
       "      <td>NaN</td>\n",
       "      <td>NaN</td>\n",
       "      <td>NaN</td>\n",
       "      <td>NaN</td>\n",
       "      <td>NaN</td>\n",
       "      <td>13827.401917</td>\n",
       "      <td>NaN</td>\n",
       "      <td>1443.808678</td>\n",
       "    </tr>\n",
       "    <tr>\n",
       "      <th>min</th>\n",
       "      <td>NaN</td>\n",
       "      <td>NaN</td>\n",
       "      <td>189.868369</td>\n",
       "      <td>NaN</td>\n",
       "      <td>NaN</td>\n",
       "      <td>NaN</td>\n",
       "      <td>NaN</td>\n",
       "      <td>0.000000e+00</td>\n",
       "      <td>NaN</td>\n",
       "      <td>NaN</td>\n",
       "      <td>...</td>\n",
       "      <td>0.000000</td>\n",
       "      <td>0.000000</td>\n",
       "      <td>NaN</td>\n",
       "      <td>NaN</td>\n",
       "      <td>NaN</td>\n",
       "      <td>NaN</td>\n",
       "      <td>NaN</td>\n",
       "      <td>4.000000</td>\n",
       "      <td>NaN</td>\n",
       "      <td>1001.000000</td>\n",
       "    </tr>\n",
       "    <tr>\n",
       "      <th>25%</th>\n",
       "      <td>NaN</td>\n",
       "      <td>NaN</td>\n",
       "      <td>402.296353</td>\n",
       "      <td>NaN</td>\n",
       "      <td>NaN</td>\n",
       "      <td>NaN</td>\n",
       "      <td>NaN</td>\n",
       "      <td>0.000000e+00</td>\n",
       "      <td>NaN</td>\n",
       "      <td>NaN</td>\n",
       "      <td>...</td>\n",
       "      <td>5.000000</td>\n",
       "      <td>24.000000</td>\n",
       "      <td>NaN</td>\n",
       "      <td>NaN</td>\n",
       "      <td>NaN</td>\n",
       "      <td>NaN</td>\n",
       "      <td>NaN</td>\n",
       "      <td>11528.750000</td>\n",
       "      <td>NaN</td>\n",
       "      <td>2251.000000</td>\n",
       "    </tr>\n",
       "    <tr>\n",
       "      <th>50%</th>\n",
       "      <td>NaN</td>\n",
       "      <td>NaN</td>\n",
       "      <td>577.390039</td>\n",
       "      <td>NaN</td>\n",
       "      <td>NaN</td>\n",
       "      <td>NaN</td>\n",
       "      <td>NaN</td>\n",
       "      <td>3.464000e+04</td>\n",
       "      <td>NaN</td>\n",
       "      <td>NaN</td>\n",
       "      <td>...</td>\n",
       "      <td>13.000000</td>\n",
       "      <td>48.000000</td>\n",
       "      <td>NaN</td>\n",
       "      <td>NaN</td>\n",
       "      <td>NaN</td>\n",
       "      <td>NaN</td>\n",
       "      <td>NaN</td>\n",
       "      <td>23993.500000</td>\n",
       "      <td>NaN</td>\n",
       "      <td>3501.000000</td>\n",
       "    </tr>\n",
       "    <tr>\n",
       "      <th>75%</th>\n",
       "      <td>NaN</td>\n",
       "      <td>NaN</td>\n",
       "      <td>886.114954</td>\n",
       "      <td>NaN</td>\n",
       "      <td>NaN</td>\n",
       "      <td>NaN</td>\n",
       "      <td>NaN</td>\n",
       "      <td>6.300900e+04</td>\n",
       "      <td>NaN</td>\n",
       "      <td>NaN</td>\n",
       "      <td>...</td>\n",
       "      <td>23.000000</td>\n",
       "      <td>72.000000</td>\n",
       "      <td>NaN</td>\n",
       "      <td>NaN</td>\n",
       "      <td>NaN</td>\n",
       "      <td>NaN</td>\n",
       "      <td>NaN</td>\n",
       "      <td>35574.000000</td>\n",
       "      <td>NaN</td>\n",
       "      <td>4751.000000</td>\n",
       "    </tr>\n",
       "    <tr>\n",
       "      <th>max</th>\n",
       "      <td>NaN</td>\n",
       "      <td>NaN</td>\n",
       "      <td>7422.851604</td>\n",
       "      <td>NaN</td>\n",
       "      <td>NaN</td>\n",
       "      <td>NaN</td>\n",
       "      <td>NaN</td>\n",
       "      <td>1.596780e+07</td>\n",
       "      <td>NaN</td>\n",
       "      <td>NaN</td>\n",
       "      <td>...</td>\n",
       "      <td>60.000000</td>\n",
       "      <td>99.000000</td>\n",
       "      <td>NaN</td>\n",
       "      <td>NaN</td>\n",
       "      <td>NaN</td>\n",
       "      <td>NaN</td>\n",
       "      <td>NaN</td>\n",
       "      <td>47996.000000</td>\n",
       "      <td>NaN</td>\n",
       "      <td>6001.000000</td>\n",
       "    </tr>\n",
       "  </tbody>\n",
       "</table>\n",
       "<p>11 rows × 22 columns</p>\n",
       "</div>"
      ],
      "text/plain": [
       "       State_Code State  Claim_Amount Education  Claim_Date Employment_Status  \\\n",
       "count        5001  5001   5001.000000      4990        5001              5001   \n",
       "unique          5     5           NaN         5           3                 5   \n",
       "top            IA  Iowa           NaN   College  12/01/2018          Employed   \n",
       "freq         1546  1546           NaN      1492        2000              3126   \n",
       "mean          NaN   NaN    787.763253       NaN         NaN               NaN   \n",
       "std           NaN   NaN    655.963269       NaN         NaN               NaN   \n",
       "min           NaN   NaN    189.868369       NaN         NaN               NaN   \n",
       "25%           NaN   NaN    402.296353       NaN         NaN               NaN   \n",
       "50%           NaN   NaN    577.390039       NaN         NaN               NaN   \n",
       "75%           NaN   NaN    886.114954       NaN         NaN               NaN   \n",
       "max           NaN   NaN   7422.851604       NaN         NaN               NaN   \n",
       "\n",
       "       Gender        Income  Location Marital_Status        ...         \\\n",
       "count    5001  5.001000e+03      4998           5001        ...          \n",
       "unique      2           NaN         3              3        ...          \n",
       "top         M           NaN  Suburban        Married        ...          \n",
       "freq     2531           NaN      3156           2930        ...          \n",
       "mean      NaN  4.131045e+04       NaN            NaN        ...          \n",
       "std       NaN  2.276904e+05       NaN            NaN        ...          \n",
       "min       NaN  0.000000e+00       NaN            NaN        ...          \n",
       "25%       NaN  0.000000e+00       NaN            NaN        ...          \n",
       "50%       NaN  3.464000e+04       NaN            NaN        ...          \n",
       "75%       NaN  6.300900e+04       NaN            NaN        ...          \n",
       "max       NaN  1.596780e+07       NaN            NaN        ...          \n",
       "\n",
       "        Months_Since_Last_Claim  Months_Since_Policy_Inception  Claim_Cause  \\\n",
       "count               5001.000000                    5001.000000         5001   \n",
       "unique                      NaN                            NaN            5   \n",
       "top                         NaN                            NaN    Collision   \n",
       "freq                        NaN                            NaN         2077   \n",
       "mean                  15.004199                      48.234953          NaN   \n",
       "std                   11.139649                      28.096651          NaN   \n",
       "min                    0.000000                       0.000000          NaN   \n",
       "25%                    5.000000                      24.000000          NaN   \n",
       "50%                   13.000000                      48.000000          NaN   \n",
       "75%                   23.000000                      72.000000          NaN   \n",
       "max                   60.000000                      99.000000          NaN   \n",
       "\n",
       "        Claim_Report_Type  Vehicle_Class Vehicle_Size Vehicle_Model  \\\n",
       "count                5001           5001         5001          5001   \n",
       "unique                  4              6            3             4   \n",
       "top                 Agent  Four-Door Car      Midsize        Toyota   \n",
       "freq                 1889           2535         3523          1278   \n",
       "mean                  NaN            NaN          NaN           NaN   \n",
       "std                   NaN            NaN          NaN           NaN   \n",
       "min                   NaN            NaN          NaN           NaN   \n",
       "25%                   NaN            NaN          NaN           NaN   \n",
       "50%                   NaN            NaN          NaN           NaN   \n",
       "75%                   NaN            NaN          NaN           NaN   \n",
       "max                   NaN            NaN          NaN           NaN   \n",
       "\n",
       "       Outstanding_Balance Fraudulent_Claim  Claimant__Number  \n",
       "count          4992.000000             5001       5001.000000  \n",
       "unique                 NaN                2               NaN  \n",
       "top                    NaN                N               NaN  \n",
       "freq                   NaN             4694               NaN  \n",
       "mean          23728.152644              NaN       3501.000000  \n",
       "std           13827.401917              NaN       1443.808678  \n",
       "min               4.000000              NaN       1001.000000  \n",
       "25%           11528.750000              NaN       2251.000000  \n",
       "50%           23993.500000              NaN       3501.000000  \n",
       "75%           35574.000000              NaN       4751.000000  \n",
       "max           47996.000000              NaN       6001.000000  \n",
       "\n",
       "[11 rows x 22 columns]"
      ]
     },
     "execution_count": 64,
     "metadata": {},
     "output_type": "execute_result"
    }
   ],
   "source": [
    "data_train.describe(include='all')"
   ]
  },
  {
   "cell_type": "code",
   "execution_count": 65,
   "metadata": {},
   "outputs": [
    {
     "data": {
      "image/png": "[encoded data removed]",
      "text/plain": [
       "<Figure size 864x648 with 2 Axes>"
      ]
     },
     "metadata": {
      "needs_background": "light"
     },
     "output_type": "display_data"
    }
   ],
   "source": [
    "import matplotlib.pyplot as plt\n",
    "import seaborn as sns\n",
    "corrmat= data_train.corr()\n",
    "f, ax = plt.subplots(figsize=(12, 9))\n",
    "sns.heatmap(corrmat, vmax=.8, square=True);"
   ]
  },
  {
   "cell_type": "markdown",
   "metadata": {},
   "source": [
    "#### Heat map using cufflinks library"
   ]
  },
  {
   "cell_type": "markdown",
   "metadata": {},
   "source": [
    "Cufflinks is an extention of plotly that makes it more compatable with pandas dataframes"
   ]
  },
  {
   "cell_type": "code",
   "execution_count": 67,
   "metadata": {},
   "outputs": [],
   "source": [
    "import cufflinks as cf\n",
    "import plotly\n",
    "plotly.tools.set_credentials_file(username='cd412', api_key='kOyvGEmesjT6yen20LcW')"
   ]
  },
  {
   "cell_type": "code",
   "execution_count": 126,
   "metadata": {},
   "outputs": [],
   "source": [
    "def make_heatmap(a, b, agg='count', colorscale='Greys'):\n",
    "    \"\"\"Make heatmap from two categorical variables\"\"\"\n",
    "    df = data_train[[a, b, 'Fraudulent_Claim']].copy(deep=True)\n",
    "    df['Fraudulent_Claim'] = df['Fraudulent_Claim'].replace(('Y', 'N'), (1, 0))\n",
    "    ct = pd.crosstab(df[a], df[b], values=df['Fraudulent_Claim'], aggfunc=agg)\n",
    "    df_hm = pd.DataFrame(data=ct.values, index=ct.index.astype('str'), columns=ct.columns)\n",
    "    print(df_hm)\n",
    "    return df_hm.iplot(kind='heatmap', colorscale=colorscale)"
   ]
  },
  {
   "cell_type": "code",
   "execution_count": 127,
   "metadata": {},
   "outputs": [
    {
     "name": "stdout",
     "output_type": "stream",
     "text": [
      "Education  Bachelor   College    Doctor  High School or Below    Master\n",
      "State                                                                  \n",
      "Iowa       0.069620  0.058947  0.069444              0.073892  0.051282\n",
      "Kansas     0.070866  0.076336  0.000000              0.078014  0.111111\n",
      "Missouri   0.056306  0.049550  0.078431              0.047382  0.049505\n",
      "Nebraska   0.056291  0.074830  0.022222              0.060811  0.108434\n",
      "Oklahoma   0.048611  0.040541  0.105263              0.055901  0.081633\n"
     ]
    },
    {
     "data": {
      "text/html": [
       "<iframe id=\"igraph\" scrolling=\"no\" style=\"border:none;\" seamless=\"seamless\" src=\"https://plot.ly/~cd412/86.embed\" height=\"525px\" width=\"100%\"></iframe>"
      ],
      "text/plain": [
       "<plotly.tools.PlotlyDisplay object>"
      ]
     },
     "execution_count": 127,
     "metadata": {},
     "output_type": "execute_result"
    }
   ],
   "source": [
    "make_heatmap('State', 'Education', 'mean', 'Reds') "
   ]
  },
  {
   "cell_type": "code",
   "execution_count": 128,
   "metadata": {},
   "outputs": [
    {
     "name": "stdout",
     "output_type": "stream",
     "text": [
      "Education  Bachelor  College  Doctor  High School or Below  Master\n",
      "State                                                             \n",
      "Iowa            474      475      72                   406     117\n",
      "Kansas          127      131      20                   141      45\n",
      "Missouri        444      444      51                   401     101\n",
      "Nebraska        302      294      45                   296      83\n",
      "Oklahoma        144      148      19                   161      49\n"
     ]
    },
    {
     "data": {
      "text/html": [
       "<iframe id=\"igraph\" scrolling=\"no\" style=\"border:none;\" seamless=\"seamless\" src=\"https://plot.ly/~cd412/88.embed\" height=\"525px\" width=\"100%\"></iframe>"
      ],
      "text/plain": [
       "<plotly.tools.PlotlyDisplay object>"
      ]
     },
     "execution_count": 128,
     "metadata": {},
     "output_type": "execute_result"
    }
   ],
   "source": [
    "make_heatmap('State', 'Education') "
   ]
  },
  {
   "cell_type": "code",
   "execution_count": 129,
   "metadata": {},
   "outputs": [
    {
     "name": "stdout",
     "output_type": "stream",
     "text": [
      "Vehicle_Model  Chevrolet  Ford  Honda  Toyota\n",
      "Vehicle_Size                                 \n",
      "Compact              225   259    244     237\n",
      "Luxury               148   121    116     128\n",
      "Midsize              894   885    831     913\n"
     ]
    },
    {
     "data": {
      "text/html": [
       "<iframe id=\"igraph\" scrolling=\"no\" style=\"border:none;\" seamless=\"seamless\" src=\"https://plot.ly/~cd412/90.embed\" height=\"525px\" width=\"100%\"></iframe>"
      ],
      "text/plain": [
       "<plotly.tools.PlotlyDisplay object>"
      ]
     },
     "execution_count": 129,
     "metadata": {},
     "output_type": "execute_result"
    }
   ],
   "source": [
    "make_heatmap('Vehicle_Size', 'Vehicle_Model')"
   ]
  },
  {
   "cell_type": "code",
   "execution_count": null,
   "metadata": {},
   "outputs": [],
   "source": [
    "#potential log tranformation\n",
    "data_train['Claim_Amount'].hist()"
   ]
  },
  {
   "cell_type": "code",
   "execution_count": null,
   "metadata": {},
   "outputs": [],
   "source": [
    "data_train['Income'].describe()\n",
    "data_train['Income'].hist()"
   ]
  },
  {
   "cell_type": "code",
   "execution_count": null,
   "metadata": {},
   "outputs": [],
   "source": [
    "data=data_train['Income'].where(data_train['Income']<=100000,other=100001)\n",
    "data.hist()"
   ]
  },
  {
   "cell_type": "code",
   "execution_count": null,
   "metadata": {},
   "outputs": [],
   "source": [
    "data_train['Annual_Premium'].hist()"
   ]
  },
  {
   "cell_type": "code",
   "execution_count": null,
   "metadata": {},
   "outputs": [],
   "source": [
    "data_train['Monthly_Premium'].hist()"
   ]
  },
  {
   "cell_type": "code",
   "execution_count": null,
   "metadata": {},
   "outputs": [],
   "source": [
    "data_train['Months_Since_Last_Claim'].hist()"
   ]
  },
  {
   "cell_type": "code",
   "execution_count": null,
   "metadata": {},
   "outputs": [],
   "source": [
    "data_train['Months_Since_Policy_Inception'].hist()"
   ]
  },
  {
   "cell_type": "code",
   "execution_count": null,
   "metadata": {},
   "outputs": [],
   "source": [
    "data_train['Outstanding_Balance'].hist()"
   ]
  },
  {
   "cell_type": "code",
   "execution_count": null,
   "metadata": {},
   "outputs": [],
   "source": [
    "data_train.isna().sum()"
   ]
  },
  {
   "cell_type": "code",
   "execution_count": null,
   "metadata": {},
   "outputs": [],
   "source": [
    "sns.catplot(x=\"Fraudulent_Claim\", y=\"Claim_Amount\", kind=\"violin\",data=data_train);"
   ]
  },
  {
   "cell_type": "code",
   "execution_count": null,
   "metadata": {},
   "outputs": [],
   "source": [
    "sns.catplot(x=\"Gender\", y=\"Claim_Amount\", kind=\"violin\", \n",
    "            split=True, hue=\"Fraudulent_Claim\", data=data_train, inner=None, cut=0, palette={\"Y\":\"r\", \"N\":\"w\"}, scale=\"width\");"
   ]
  },
  {
   "cell_type": "code",
   "execution_count": null,
   "metadata": {},
   "outputs": [],
   "source": [
    "sns.catplot(x=\"Fraudulent_Claim\", y=\"Income\", kind=\"violin\",data=data_train);"
   ]
  }
 ],
 "metadata": {
  "kernelspec": {
   "display_name": "Python 3",
   "language": "python",
   "name": "python3"
  },
  "language_info": {
   "codemirror_mode": {
    "name": "ipython",
    "version": 3
   },
   "file_extension": ".py",
   "mimetype": "text/x-python",
   "name": "python",
   "nbconvert_exporter": "python",
   "pygments_lexer": "ipython3",
   "version": "3.7.0"
  }
 },
 "nbformat": 4,
 "nbformat_minor": 2
}
