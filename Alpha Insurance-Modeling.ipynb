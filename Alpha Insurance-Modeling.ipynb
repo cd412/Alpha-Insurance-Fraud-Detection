{
 "cells": [
  {
   "cell_type": "code",
   "execution_count": 1,
   "metadata": {},
   "outputs": [],
   "source": [
    "import numpy as np\n",
    "import pandas as pd\n",
    "# import missingno as msno\n",
    "import matplotlib.pyplot as plt\n",
    "import seaborn as sns"
   ]
  },
  {
   "cell_type": "markdown",
   "metadata": {},
   "source": [
    "## Exploration"
   ]
  },
  {
   "cell_type": "code",
   "execution_count": 2,
   "metadata": {},
   "outputs": [],
   "source": [
    "#import statsmodels.api as sm\n",
    "#from statsmodels.formula.api import ols\n",
    "\n",
    "#def anova_test(x, data=data_train):\n",
    "#    mod = ols('Fraudulent_Claim ~ {}'.format(x), data=data).fit()\n",
    "#    aov_table = sm.stats.anova_lm(mod, tpy=2)\n",
    "#    print(aov_table)"
   ]
  },
  {
   "cell_type": "code",
   "execution_count": 3,
   "metadata": {},
   "outputs": [],
   "source": [
    "#anova_test('State_Code')"
   ]
  },
  {
   "cell_type": "markdown",
   "metadata": {},
   "source": [
    "## Tranformations"
   ]
  },
  {
   "cell_type": "code",
   "execution_count": 4,
   "metadata": {},
   "outputs": [],
   "source": [
    "dtype = {\n",
    " 'Annual_Premium': 'int64',\n",
    " 'Claim_Amount': 'float64',\n",
    " 'Claim_Cause': 'category',\n",
    " 'Claim_Date': 'category',\n",
    " 'Claim_Report_Type': 'category',\n",
    " 'Claimant__Number': 'int64',\n",
    " 'Education': 'category',\n",
    " 'Employment_Status': 'category',\n",
    " 'Fraudulent_Claim': 'category',\n",
    " 'Gender': 'category',\n",
    " 'Income': 'int64',\n",
    " 'Location': 'category',\n",
    " 'Marital_Status': 'category',\n",
    " 'Monthly_Premium': 'int64',\n",
    " 'Months_Since_Last_Claim': 'int64',\n",
    " 'Months_Since_Policy_Inception': 'int64',\n",
    " 'Outstanding_Balance': 'float64',\n",
    " 'State': 'category',\n",
    " 'State_Code': 'category',\n",
    " 'Vehicle_Class': 'category',\n",
    " 'Vehicle_Model': 'category',\n",
    " 'Vehicle_Size': 'category'}\n",
    "    \n",
    "df0 = pd.read_csv('claim_data_v2_train.csv', dtype=dtype, usecols=[*dtype])"
   ]
  },
  {
   "cell_type": "code",
   "execution_count": 5,
   "metadata": {},
   "outputs": [
    {
     "data": {
      "text/html": [
       "<div>\n",
       "<style scoped>\n",
       "    .dataframe tbody tr th:only-of-type {\n",
       "        vertical-align: middle;\n",
       "    }\n",
       "\n",
       "    .dataframe tbody tr th {\n",
       "        vertical-align: top;\n",
       "    }\n",
       "\n",
       "    .dataframe thead th {\n",
       "        text-align: right;\n",
       "    }\n",
       "</style>\n",
       "<table border=\"1\" class=\"dataframe\">\n",
       "  <thead>\n",
       "    <tr style=\"text-align: right;\">\n",
       "      <th></th>\n",
       "      <th>State_Code</th>\n",
       "      <th>State</th>\n",
       "      <th>Claim_Amount</th>\n",
       "      <th>Education</th>\n",
       "      <th>Claim_Date</th>\n",
       "      <th>Employment_Status</th>\n",
       "      <th>Gender</th>\n",
       "      <th>Income</th>\n",
       "      <th>Location</th>\n",
       "      <th>Marital_Status</th>\n",
       "      <th>...</th>\n",
       "      <th>Months_Since_Last_Claim</th>\n",
       "      <th>Months_Since_Policy_Inception</th>\n",
       "      <th>Claim_Cause</th>\n",
       "      <th>Claim_Report_Type</th>\n",
       "      <th>Vehicle_Class</th>\n",
       "      <th>Vehicle_Size</th>\n",
       "      <th>Vehicle_Model</th>\n",
       "      <th>Outstanding_Balance</th>\n",
       "      <th>Fraudulent_Claim</th>\n",
       "      <th>Claimant__Number</th>\n",
       "    </tr>\n",
       "  </thead>\n",
       "  <tbody>\n",
       "    <tr>\n",
       "      <th>0</th>\n",
       "      <td>KS</td>\n",
       "      <td>Kansas</td>\n",
       "      <td>575.560000</td>\n",
       "      <td>Bachelor</td>\n",
       "      <td>12/01/2018</td>\n",
       "      <td>Employed</td>\n",
       "      <td>F</td>\n",
       "      <td>56274</td>\n",
       "      <td>Suburban</td>\n",
       "      <td>Married</td>\n",
       "      <td>...</td>\n",
       "      <td>32</td>\n",
       "      <td>5</td>\n",
       "      <td>Collision</td>\n",
       "      <td>Agent</td>\n",
       "      <td>Two-Door Car</td>\n",
       "      <td>Midsize</td>\n",
       "      <td>Toyota</td>\n",
       "      <td>25781.0</td>\n",
       "      <td>N</td>\n",
       "      <td>1001</td>\n",
       "    </tr>\n",
       "    <tr>\n",
       "      <th>1</th>\n",
       "      <td>NE</td>\n",
       "      <td>Nebraska</td>\n",
       "      <td>697.953590</td>\n",
       "      <td>Bachelor</td>\n",
       "      <td>12/01/2018</td>\n",
       "      <td>Unemployed</td>\n",
       "      <td>F</td>\n",
       "      <td>0</td>\n",
       "      <td>NaN</td>\n",
       "      <td>Single</td>\n",
       "      <td>...</td>\n",
       "      <td>13</td>\n",
       "      <td>42</td>\n",
       "      <td>Scratch/Dent</td>\n",
       "      <td>Agent</td>\n",
       "      <td>Four-Door Car</td>\n",
       "      <td>Midsize</td>\n",
       "      <td>Chevrolet</td>\n",
       "      <td>37061.0</td>\n",
       "      <td>N</td>\n",
       "      <td>1002</td>\n",
       "    </tr>\n",
       "    <tr>\n",
       "      <th>2</th>\n",
       "      <td>OK</td>\n",
       "      <td>Oklahoma</td>\n",
       "      <td>1288.743165</td>\n",
       "      <td>Bachelor</td>\n",
       "      <td>12/01/2018</td>\n",
       "      <td>Employed</td>\n",
       "      <td>F</td>\n",
       "      <td>48767</td>\n",
       "      <td>Suburban</td>\n",
       "      <td>Married</td>\n",
       "      <td>...</td>\n",
       "      <td>18</td>\n",
       "      <td>38</td>\n",
       "      <td>Collision</td>\n",
       "      <td>Agent</td>\n",
       "      <td>Two-Door Car</td>\n",
       "      <td>Midsize</td>\n",
       "      <td>Chevrolet</td>\n",
       "      <td>17236.0</td>\n",
       "      <td>N</td>\n",
       "      <td>1003</td>\n",
       "    </tr>\n",
       "    <tr>\n",
       "      <th>3</th>\n",
       "      <td>MO</td>\n",
       "      <td>Missouri</td>\n",
       "      <td>764.586183</td>\n",
       "      <td>Bachelor</td>\n",
       "      <td>12/01/2018</td>\n",
       "      <td>Unemployed</td>\n",
       "      <td>M</td>\n",
       "      <td>0</td>\n",
       "      <td>Suburban</td>\n",
       "      <td>Married</td>\n",
       "      <td>...</td>\n",
       "      <td>18</td>\n",
       "      <td>65</td>\n",
       "      <td>Collision</td>\n",
       "      <td>Call Center</td>\n",
       "      <td>SUV</td>\n",
       "      <td>Midsize</td>\n",
       "      <td>Honda</td>\n",
       "      <td>30270.0</td>\n",
       "      <td>N</td>\n",
       "      <td>1004</td>\n",
       "    </tr>\n",
       "    <tr>\n",
       "      <th>4</th>\n",
       "      <td>KS</td>\n",
       "      <td>Kansas</td>\n",
       "      <td>281.369258</td>\n",
       "      <td>Bachelor</td>\n",
       "      <td>12/01/2018</td>\n",
       "      <td>Employed</td>\n",
       "      <td>M</td>\n",
       "      <td>43836</td>\n",
       "      <td>Rural</td>\n",
       "      <td>Single</td>\n",
       "      <td>...</td>\n",
       "      <td>52</td>\n",
       "      <td>44</td>\n",
       "      <td>Collision</td>\n",
       "      <td>Agent</td>\n",
       "      <td>Four-Door Car</td>\n",
       "      <td>Midsize</td>\n",
       "      <td>Ford</td>\n",
       "      <td>16263.0</td>\n",
       "      <td>N</td>\n",
       "      <td>1005</td>\n",
       "    </tr>\n",
       "  </tbody>\n",
       "</table>\n",
       "<p>5 rows × 22 columns</p>\n",
       "</div>"
      ],
      "text/plain": [
       "  State_Code     State  Claim_Amount Education  Claim_Date Employment_Status  \\\n",
       "0         KS    Kansas    575.560000  Bachelor  12/01/2018          Employed   \n",
       "1         NE  Nebraska    697.953590  Bachelor  12/01/2018        Unemployed   \n",
       "2         OK  Oklahoma   1288.743165  Bachelor  12/01/2018          Employed   \n",
       "3         MO  Missouri    764.586183  Bachelor  12/01/2018        Unemployed   \n",
       "4         KS    Kansas    281.369258  Bachelor  12/01/2018          Employed   \n",
       "\n",
       "  Gender  Income  Location Marital_Status        ...         \\\n",
       "0      F   56274  Suburban        Married        ...          \n",
       "1      F       0       NaN         Single        ...          \n",
       "2      F   48767  Suburban        Married        ...          \n",
       "3      M       0  Suburban        Married        ...          \n",
       "4      M   43836     Rural         Single        ...          \n",
       "\n",
       "   Months_Since_Last_Claim  Months_Since_Policy_Inception   Claim_Cause  \\\n",
       "0                       32                              5     Collision   \n",
       "1                       13                             42  Scratch/Dent   \n",
       "2                       18                             38     Collision   \n",
       "3                       18                             65     Collision   \n",
       "4                       52                             44     Collision   \n",
       "\n",
       "   Claim_Report_Type  Vehicle_Class Vehicle_Size Vehicle_Model  \\\n",
       "0              Agent   Two-Door Car      Midsize        Toyota   \n",
       "1              Agent  Four-Door Car      Midsize     Chevrolet   \n",
       "2              Agent   Two-Door Car      Midsize     Chevrolet   \n",
       "3        Call Center            SUV      Midsize         Honda   \n",
       "4              Agent  Four-Door Car      Midsize          Ford   \n",
       "\n",
       "  Outstanding_Balance Fraudulent_Claim  Claimant__Number  \n",
       "0             25781.0                N              1001  \n",
       "1             37061.0                N              1002  \n",
       "2             17236.0                N              1003  \n",
       "3             30270.0                N              1004  \n",
       "4             16263.0                N              1005  \n",
       "\n",
       "[5 rows x 22 columns]"
      ]
     },
     "execution_count": 5,
     "metadata": {},
     "output_type": "execute_result"
    }
   ],
   "source": [
    "df0.head()"
   ]
  },
  {
   "cell_type": "code",
   "execution_count": 6,
   "metadata": {},
   "outputs": [
    {
     "data": {
      "text/plain": [
       "Index(['State_Code', 'State', 'Claim_Amount', 'Education', 'Claim_Date',\n",
       "       'Employment_Status', 'Gender', 'Income', 'Location', 'Marital_Status',\n",
       "       'Monthly_Premium', 'Annual_Premium', 'Months_Since_Last_Claim',\n",
       "       'Months_Since_Policy_Inception', 'Claim_Cause', 'Claim_Report_Type',\n",
       "       'Vehicle_Class', 'Vehicle_Size', 'Vehicle_Model', 'Outstanding_Balance',\n",
       "       'Fraudulent_Claim', 'Claimant__Number'],\n",
       "      dtype='object')"
      ]
     },
     "execution_count": 6,
     "metadata": {},
     "output_type": "execute_result"
    }
   ],
   "source": [
    "df0.columns"
   ]
  },
  {
   "cell_type": "markdown",
   "metadata": {},
   "source": [
    "## Encoding"
   ]
  },
  {
   "cell_type": "markdown",
   "metadata": {},
   "source": [
    "##### One-Hot Encoding: Vehicle_Class, Employee_Status\n",
    "##### Numeric: Target, Gender, Vehicle_Size\n",
    "##### Not Sure: Location, Claim_Cause, Claim_Report"
   ]
  },
  {
   "cell_type": "code",
   "execution_count": 7,
   "metadata": {},
   "outputs": [],
   "source": [
    "def encode_target(df):\n",
    "    # Convert Fraud Claim data from Y/N to 1/0\n",
    "    df['Fraudulent_Claim'] = df['Fraudulent_Claim'].replace(('Y', 'N'), (1, 0))\n",
    "    return df"
   ]
  },
  {
   "cell_type": "code",
   "execution_count": 8,
   "metadata": {},
   "outputs": [],
   "source": [
    "def encode_gender(df):\n",
    "    # Convert Gender data from M/F to 1/0\n",
    "    df['Gender'] = df['Gender'].replace(('M', 'F'), (1, 0))\n",
    "    return df"
   ]
  },
  {
   "cell_type": "code",
   "execution_count": 9,
   "metadata": {},
   "outputs": [],
   "source": [
    "def encode_employee(df):\n",
    "    # Convert Employment_Status data\n",
    "    df['Employment_Status'] = df['Employment_Status'].replace(('Employed', 'Unemployed', 'Disabled', 'Medical Leave', 'Retired'), (1, 0, 2, 3, 4))\n",
    "    return df\n",
    "\n",
    "# Maybe One-Hot Encode?"
   ]
  },
  {
   "cell_type": "code",
   "execution_count": 10,
   "metadata": {},
   "outputs": [],
   "source": [
    "def encode_marital(df):\n",
    "    # Convert Marital_Status data from Single/Married/Divorced to 0/1/2\n",
    "    df['Marital_Status'] = df['Marital_Status'].replace(('Married', 'Single', 'Divorced'), (1, 0, 2))\n",
    "    return df\n",
    "\n",
    "# Maybe One-Hot Encode?"
   ]
  },
  {
   "cell_type": "code",
   "execution_count": 11,
   "metadata": {},
   "outputs": [],
   "source": [
    "def encode_vsize(df):\n",
    "    # Convert Vehicle Size from Compact, Midsize, and Luxury to 1, 2, and 3\n",
    "    df['Vehicle_Size'] = df['Vehicle_Size'].replace(('Compact', 'Midsize', 'Luxury'), (1,2,3))\n",
    "    return df"
   ]
  },
  {
   "cell_type": "code",
   "execution_count": 12,
   "metadata": {},
   "outputs": [],
   "source": [
    "def simplify_claim_amount(df):\n",
    "    # Apply a log transformation to claim amount\n",
    "    df['Claim_Amount'] = df['Claim_Amount'].apply(np.log)\n",
    "    return df"
   ]
  },
  {
   "cell_type": "code",
   "execution_count": 13,
   "metadata": {},
   "outputs": [],
   "source": [
    "def simplify_income(df):\n",
    "    # Simplify income into bins\n",
    "    bins = (-1, 10000, 50000, 90000, 999999999) \n",
    "    group_names = [0, 1, 2, 3] \n",
    "    categories = pd.cut(df['Income'], bins, labels=group_names) \n",
    "    df['Income'] = categories \n",
    "    return df"
   ]
  },
  {
   "cell_type": "code",
   "execution_count": 14,
   "metadata": {},
   "outputs": [],
   "source": [
    "def simplify_location(df):\n",
    "    # Fill missing values with mode\n",
    "    df['Location'] = df['Location'].fillna('Suburban')\n",
    "    return df"
   ]
  },
  {
   "cell_type": "code",
   "execution_count": 15,
   "metadata": {},
   "outputs": [],
   "source": [
    "def simplify_outstanding_balance(df):\n",
    "    # Fill missing values with 0 meaning there is no outstanding balance\n",
    "    df['Outstanding_Balance'] = df['Outstanding_Balance'].fillna(0)\n",
    "    return df"
   ]
  },
  {
   "cell_type": "code",
   "execution_count": 16,
   "metadata": {},
   "outputs": [],
   "source": [
    "def simplify_education(df):\n",
    "    # Fill missing values with mode\n",
    "    df['Education'] = df['Education'].fillna('College')\n",
    "    \n",
    "    # Encode as numeric representing years of schooling\n",
    "    encode = {'High School or Below': 12,\n",
    "              'College': 14,\n",
    "              'Bachelor': 16,\n",
    "              'Master': 18,\n",
    "              'Doctor': 20}\n",
    "    \n",
    "    # Encode = {'High School or Below': 0,\n",
    "    #          'College': 1,\n",
    "    #          'Bachelor': 1,\n",
    "    #          'Master': 1,\n",
    "    #          'Doctor': 1}\n",
    "    \n",
    "    df['Education'] = df['Education'].map(encode).astype(np.int8)\n",
    "    return df"
   ]
  },
  {
   "cell_type": "code",
   "execution_count": 17,
   "metadata": {},
   "outputs": [],
   "source": [
    "def drop_features(df):\n",
    "    features = ['State', 'Annual_Premium', 'Vehicle_Model']\n",
    "    df = df.drop(features, axis='columns')\n",
    "    return df"
   ]
  },
  {
   "cell_type": "code",
   "execution_count": 18,
   "metadata": {},
   "outputs": [],
   "source": [
    "def transform_features(df):\n",
    "    df = encode_target(df)\n",
    "    df = encode_gender(df)\n",
    "    df = encode_employee(df)\n",
    "    df = encode_marital(df)\n",
    "    df = encode_vsize(df)\n",
    "    df = simplify_claim_amount(df)\n",
    "    df = simplify_income(df)\n",
    "    df = simplify_location(df)\n",
    "    df = simplify_outstanding_balance(df)\n",
    "    df = simplify_education(df)\n",
    "    df = drop_features(df)\n",
    "    return df"
   ]
  },
  {
   "cell_type": "code",
   "execution_count": 19,
   "metadata": {},
   "outputs": [],
   "source": [
    "data_train = transform_features(df0.copy(deep=True))"
   ]
  },
  {
   "cell_type": "code",
   "execution_count": 20,
   "metadata": {
    "scrolled": true
   },
   "outputs": [
    {
     "data": {
      "text/plain": [
       "State_Code                       0\n",
       "Claim_Amount                     0\n",
       "Education                        0\n",
       "Claim_Date                       0\n",
       "Employment_Status                0\n",
       "Gender                           0\n",
       "Income                           0\n",
       "Location                         0\n",
       "Marital_Status                   0\n",
       "Monthly_Premium                  0\n",
       "Months_Since_Last_Claim          0\n",
       "Months_Since_Policy_Inception    0\n",
       "Claim_Cause                      0\n",
       "Claim_Report_Type                0\n",
       "Vehicle_Class                    0\n",
       "Vehicle_Size                     0\n",
       "Outstanding_Balance              0\n",
       "Fraudulent_Claim                 0\n",
       "Claimant__Number                 0\n",
       "dtype: int64"
      ]
     },
     "execution_count": 20,
     "metadata": {},
     "output_type": "execute_result"
    }
   ],
   "source": [
    "data_train.isna().sum()"
   ]
  },
  {
   "cell_type": "code",
   "execution_count": 21,
   "metadata": {},
   "outputs": [
    {
     "data": {
      "text/html": [
       "<div>\n",
       "<style scoped>\n",
       "    .dataframe tbody tr th:only-of-type {\n",
       "        vertical-align: middle;\n",
       "    }\n",
       "\n",
       "    .dataframe tbody tr th {\n",
       "        vertical-align: top;\n",
       "    }\n",
       "\n",
       "    .dataframe thead th {\n",
       "        text-align: right;\n",
       "    }\n",
       "</style>\n",
       "<table border=\"1\" class=\"dataframe\">\n",
       "  <thead>\n",
       "    <tr style=\"text-align: right;\">\n",
       "      <th></th>\n",
       "      <th>State_Code</th>\n",
       "      <th>Claim_Amount</th>\n",
       "      <th>Education</th>\n",
       "      <th>Claim_Date</th>\n",
       "      <th>Employment_Status</th>\n",
       "      <th>Gender</th>\n",
       "      <th>Income</th>\n",
       "      <th>Location</th>\n",
       "      <th>Marital_Status</th>\n",
       "      <th>Monthly_Premium</th>\n",
       "      <th>Months_Since_Last_Claim</th>\n",
       "      <th>Months_Since_Policy_Inception</th>\n",
       "      <th>Claim_Cause</th>\n",
       "      <th>Claim_Report_Type</th>\n",
       "      <th>Vehicle_Class</th>\n",
       "      <th>Vehicle_Size</th>\n",
       "      <th>Outstanding_Balance</th>\n",
       "      <th>Fraudulent_Claim</th>\n",
       "      <th>Claimant__Number</th>\n",
       "    </tr>\n",
       "  </thead>\n",
       "  <tbody>\n",
       "    <tr>\n",
       "      <th>0</th>\n",
       "      <td>KS</td>\n",
       "      <td>6.355343</td>\n",
       "      <td>16</td>\n",
       "      <td>12/01/2018</td>\n",
       "      <td>1</td>\n",
       "      <td>0</td>\n",
       "      <td>2</td>\n",
       "      <td>Suburban</td>\n",
       "      <td>1</td>\n",
       "      <td>113</td>\n",
       "      <td>32</td>\n",
       "      <td>5</td>\n",
       "      <td>Collision</td>\n",
       "      <td>Agent</td>\n",
       "      <td>Two-Door Car</td>\n",
       "      <td>2</td>\n",
       "      <td>25781.0</td>\n",
       "      <td>0</td>\n",
       "      <td>1001</td>\n",
       "    </tr>\n",
       "    <tr>\n",
       "      <th>1</th>\n",
       "      <td>NE</td>\n",
       "      <td>6.548153</td>\n",
       "      <td>16</td>\n",
       "      <td>12/01/2018</td>\n",
       "      <td>0</td>\n",
       "      <td>0</td>\n",
       "      <td>0</td>\n",
       "      <td>Suburban</td>\n",
       "      <td>0</td>\n",
       "      <td>109</td>\n",
       "      <td>13</td>\n",
       "      <td>42</td>\n",
       "      <td>Scratch/Dent</td>\n",
       "      <td>Agent</td>\n",
       "      <td>Four-Door Car</td>\n",
       "      <td>2</td>\n",
       "      <td>37061.0</td>\n",
       "      <td>0</td>\n",
       "      <td>1002</td>\n",
       "    </tr>\n",
       "    <tr>\n",
       "      <th>2</th>\n",
       "      <td>OK</td>\n",
       "      <td>7.161423</td>\n",
       "      <td>16</td>\n",
       "      <td>12/01/2018</td>\n",
       "      <td>1</td>\n",
       "      <td>0</td>\n",
       "      <td>1</td>\n",
       "      <td>Suburban</td>\n",
       "      <td>1</td>\n",
       "      <td>126</td>\n",
       "      <td>18</td>\n",
       "      <td>38</td>\n",
       "      <td>Collision</td>\n",
       "      <td>Agent</td>\n",
       "      <td>Two-Door Car</td>\n",
       "      <td>2</td>\n",
       "      <td>17236.0</td>\n",
       "      <td>0</td>\n",
       "      <td>1003</td>\n",
       "    </tr>\n",
       "    <tr>\n",
       "      <th>3</th>\n",
       "      <td>MO</td>\n",
       "      <td>6.639335</td>\n",
       "      <td>16</td>\n",
       "      <td>12/01/2018</td>\n",
       "      <td>0</td>\n",
       "      <td>1</td>\n",
       "      <td>0</td>\n",
       "      <td>Suburban</td>\n",
       "      <td>1</td>\n",
       "      <td>101</td>\n",
       "      <td>18</td>\n",
       "      <td>65</td>\n",
       "      <td>Collision</td>\n",
       "      <td>Call Center</td>\n",
       "      <td>SUV</td>\n",
       "      <td>2</td>\n",
       "      <td>30270.0</td>\n",
       "      <td>0</td>\n",
       "      <td>1004</td>\n",
       "    </tr>\n",
       "    <tr>\n",
       "      <th>4</th>\n",
       "      <td>KS</td>\n",
       "      <td>5.639668</td>\n",
       "      <td>16</td>\n",
       "      <td>12/01/2018</td>\n",
       "      <td>1</td>\n",
       "      <td>1</td>\n",
       "      <td>1</td>\n",
       "      <td>Rural</td>\n",
       "      <td>0</td>\n",
       "      <td>137</td>\n",
       "      <td>52</td>\n",
       "      <td>44</td>\n",
       "      <td>Collision</td>\n",
       "      <td>Agent</td>\n",
       "      <td>Four-Door Car</td>\n",
       "      <td>2</td>\n",
       "      <td>16263.0</td>\n",
       "      <td>0</td>\n",
       "      <td>1005</td>\n",
       "    </tr>\n",
       "  </tbody>\n",
       "</table>\n",
       "</div>"
      ],
      "text/plain": [
       "  State_Code  Claim_Amount  Education  Claim_Date  Employment_Status  Gender  \\\n",
       "0         KS      6.355343         16  12/01/2018                  1       0   \n",
       "1         NE      6.548153         16  12/01/2018                  0       0   \n",
       "2         OK      7.161423         16  12/01/2018                  1       0   \n",
       "3         MO      6.639335         16  12/01/2018                  0       1   \n",
       "4         KS      5.639668         16  12/01/2018                  1       1   \n",
       "\n",
       "  Income  Location  Marital_Status  Monthly_Premium  Months_Since_Last_Claim  \\\n",
       "0      2  Suburban               1              113                       32   \n",
       "1      0  Suburban               0              109                       13   \n",
       "2      1  Suburban               1              126                       18   \n",
       "3      0  Suburban               1              101                       18   \n",
       "4      1     Rural               0              137                       52   \n",
       "\n",
       "   Months_Since_Policy_Inception   Claim_Cause Claim_Report_Type  \\\n",
       "0                              5     Collision             Agent   \n",
       "1                             42  Scratch/Dent             Agent   \n",
       "2                             38     Collision             Agent   \n",
       "3                             65     Collision       Call Center   \n",
       "4                             44     Collision             Agent   \n",
       "\n",
       "   Vehicle_Class  Vehicle_Size  Outstanding_Balance  Fraudulent_Claim  \\\n",
       "0   Two-Door Car             2              25781.0                 0   \n",
       "1  Four-Door Car             2              37061.0                 0   \n",
       "2   Two-Door Car             2              17236.0                 0   \n",
       "3            SUV             2              30270.0                 0   \n",
       "4  Four-Door Car             2              16263.0                 0   \n",
       "\n",
       "   Claimant__Number  \n",
       "0              1001  \n",
       "1              1002  \n",
       "2              1003  \n",
       "3              1004  \n",
       "4              1005  "
      ]
     },
     "execution_count": 21,
     "metadata": {},
     "output_type": "execute_result"
    }
   ],
   "source": [
    "data_train.head()"
   ]
  },
  {
   "cell_type": "code",
   "execution_count": 22,
   "metadata": {},
   "outputs": [
    {
     "data": {
      "image/png": "[encoded data removed]",
      "text/plain": [
       "<Figure size 864x648 with 2 Axes>"
      ]
     },
     "metadata": {},
     "output_type": "display_data"
    }
   ],
   "source": [
    "corrmat= data_train.drop('Claimant__Number', axis='columns').corr()\n",
    "f, ax = plt.subplots(figsize=(12, 9))\n",
    "sns.heatmap(corrmat, vmax=.8, square=True);"
   ]
  },
  {
   "cell_type": "markdown",
   "metadata": {},
   "source": [
    "## Sampling"
   ]
  },
  {
   "cell_type": "code",
   "execution_count": null,
   "metadata": {},
   "outputs": [],
   "source": []
  },
  {
   "cell_type": "markdown",
   "metadata": {},
   "source": [
    "## Encoding"
   ]
  },
  {
   "cell_type": "code",
   "execution_count": 24,
   "metadata": {},
   "outputs": [],
   "source": [
    "# Above"
   ]
  },
  {
   "cell_type": "markdown",
   "metadata": {},
   "source": [
    "## Modeling"
   ]
  },
  {
   "cell_type": "code",
   "execution_count": null,
   "metadata": {},
   "outputs": [],
   "source": []
  },
  {
   "cell_type": "code",
   "execution_count": null,
   "metadata": {},
   "outputs": [],
   "source": []
  }
 ],
 "metadata": {
  "kernelspec": {
   "display_name": "Python 3",
   "language": "python",
   "name": "python3"
  },
  "language_info": {
   "codemirror_mode": {
    "name": "ipython",
    "version": 3
   },
   "file_extension": ".py",
   "mimetype": "text/x-python",
   "name": "python",
   "nbconvert_exporter": "python",
   "pygments_lexer": "ipython3",
   "version": "3.6.5"
  }
 },
 "nbformat": 4,
 "nbformat_minor": 2
}
