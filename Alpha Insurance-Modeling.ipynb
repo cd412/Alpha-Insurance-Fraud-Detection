{
 "cells": [
  {
   "cell_type": "code",
   "execution_count": 1,
   "metadata": {},
   "outputs": [],
   "source": [
    "import numpy as np\n",
    "import pandas as pd\n",
    "# import missingno as msno\n",
    "import matplotlib.pyplot as plt\n",
    "import seaborn as sns\n",
    "from pprint import pprint"
   ]
  },
  {
   "cell_type": "code",
   "execution_count": 2,
   "metadata": {},
   "outputs": [],
   "source": [
    "# Global variables\n",
    "RANDOM_STATE = 0"
   ]
  },
  {
   "cell_type": "code",
   "execution_count": null,
   "metadata": {},
   "outputs": [],
   "source": []
  },
  {
   "cell_type": "markdown",
   "metadata": {},
   "source": [
    "## Import"
   ]
  },
  {
   "cell_type": "code",
   "execution_count": 3,
   "metadata": {},
   "outputs": [],
   "source": [
    "#import statsmodels.api as sm\n",
    "#from statsmodels.formula.api import ols\n",
    "\n",
    "#def anova_test(x, data=data_train):\n",
    "#    mod = ols('Fraudulent_Claim ~ {}'.format(x), data=data).fit()\n",
    "#    aov_table = sm.stats.anova_lm(mod, tpy=2)\n",
    "#    print(aov_table)"
   ]
  },
  {
   "cell_type": "code",
   "execution_count": 4,
   "metadata": {},
   "outputs": [],
   "source": [
    "#anova_test('State_Code')"
   ]
  },
  {
   "cell_type": "code",
   "execution_count": 5,
   "metadata": {},
   "outputs": [],
   "source": [
    "dtype = {\n",
    " 'Annual_Premium': 'int64',\n",
    " 'Claim_Amount': 'float64',\n",
    " 'Claim_Cause': 'category',\n",
    " 'Claim_Date': 'category',\n",
    " 'Claim_Report_Type': 'category',\n",
    " 'Claimant__Number': 'int64',\n",
    " 'Education': 'category',\n",
    " 'Employment_Status': 'category',\n",
    " 'Fraudulent_Claim': 'category',\n",
    " 'Gender': 'category',\n",
    " 'Income': 'int64',\n",
    " 'Location': 'category',\n",
    " 'Marital_Status': 'category',\n",
    " 'Monthly_Premium': 'int64',\n",
    " 'Months_Since_Last_Claim': 'int64',\n",
    " 'Months_Since_Policy_Inception': 'int64',\n",
    " 'Outstanding_Balance': 'float64',\n",
    " 'State': 'category',\n",
    " 'State_Code': 'category',\n",
    " 'Vehicle_Class': 'category',\n",
    " 'Vehicle_Model': 'category',\n",
    " 'Vehicle_Size': 'category'}\n",
    "    \n",
    "df0 = pd.read_csv('claim_data_v2_train.csv', dtype=dtype, usecols=[*dtype])"
   ]
  },
  {
   "cell_type": "code",
   "execution_count": 6,
   "metadata": {
    "scrolled": true
   },
   "outputs": [
    {
     "data": {
      "text/html": [
       "<div>\n",
       "<style scoped>\n",
       "    .dataframe tbody tr th:only-of-type {\n",
       "        vertical-align: middle;\n",
       "    }\n",
       "\n",
       "    .dataframe tbody tr th {\n",
       "        vertical-align: top;\n",
       "    }\n",
       "\n",
       "    .dataframe thead th {\n",
       "        text-align: right;\n",
       "    }\n",
       "</style>\n",
       "<table border=\"1\" class=\"dataframe\">\n",
       "  <thead>\n",
       "    <tr style=\"text-align: right;\">\n",
       "      <th></th>\n",
       "      <th>State_Code</th>\n",
       "      <th>State</th>\n",
       "      <th>Claim_Amount</th>\n",
       "      <th>Education</th>\n",
       "      <th>Claim_Date</th>\n",
       "      <th>Employment_Status</th>\n",
       "      <th>Gender</th>\n",
       "      <th>Income</th>\n",
       "      <th>Location</th>\n",
       "      <th>Marital_Status</th>\n",
       "      <th>...</th>\n",
       "      <th>Months_Since_Last_Claim</th>\n",
       "      <th>Months_Since_Policy_Inception</th>\n",
       "      <th>Claim_Cause</th>\n",
       "      <th>Claim_Report_Type</th>\n",
       "      <th>Vehicle_Class</th>\n",
       "      <th>Vehicle_Size</th>\n",
       "      <th>Vehicle_Model</th>\n",
       "      <th>Outstanding_Balance</th>\n",
       "      <th>Fraudulent_Claim</th>\n",
       "      <th>Claimant__Number</th>\n",
       "    </tr>\n",
       "  </thead>\n",
       "  <tbody>\n",
       "    <tr>\n",
       "      <th>0</th>\n",
       "      <td>KS</td>\n",
       "      <td>Kansas</td>\n",
       "      <td>575.560000</td>\n",
       "      <td>Bachelor</td>\n",
       "      <td>12/01/2018</td>\n",
       "      <td>Employed</td>\n",
       "      <td>F</td>\n",
       "      <td>56274</td>\n",
       "      <td>Suburban</td>\n",
       "      <td>Married</td>\n",
       "      <td>...</td>\n",
       "      <td>32</td>\n",
       "      <td>5</td>\n",
       "      <td>Collision</td>\n",
       "      <td>Agent</td>\n",
       "      <td>Two-Door Car</td>\n",
       "      <td>Midsize</td>\n",
       "      <td>Toyota</td>\n",
       "      <td>25781.0</td>\n",
       "      <td>N</td>\n",
       "      <td>1001</td>\n",
       "    </tr>\n",
       "    <tr>\n",
       "      <th>1</th>\n",
       "      <td>NE</td>\n",
       "      <td>Nebraska</td>\n",
       "      <td>697.953590</td>\n",
       "      <td>Bachelor</td>\n",
       "      <td>12/01/2018</td>\n",
       "      <td>Unemployed</td>\n",
       "      <td>F</td>\n",
       "      <td>0</td>\n",
       "      <td>NaN</td>\n",
       "      <td>Single</td>\n",
       "      <td>...</td>\n",
       "      <td>13</td>\n",
       "      <td>42</td>\n",
       "      <td>Scratch/Dent</td>\n",
       "      <td>Agent</td>\n",
       "      <td>Four-Door Car</td>\n",
       "      <td>Midsize</td>\n",
       "      <td>Chevrolet</td>\n",
       "      <td>37061.0</td>\n",
       "      <td>N</td>\n",
       "      <td>1002</td>\n",
       "    </tr>\n",
       "    <tr>\n",
       "      <th>2</th>\n",
       "      <td>OK</td>\n",
       "      <td>Oklahoma</td>\n",
       "      <td>1288.743165</td>\n",
       "      <td>Bachelor</td>\n",
       "      <td>12/01/2018</td>\n",
       "      <td>Employed</td>\n",
       "      <td>F</td>\n",
       "      <td>48767</td>\n",
       "      <td>Suburban</td>\n",
       "      <td>Married</td>\n",
       "      <td>...</td>\n",
       "      <td>18</td>\n",
       "      <td>38</td>\n",
       "      <td>Collision</td>\n",
       "      <td>Agent</td>\n",
       "      <td>Two-Door Car</td>\n",
       "      <td>Midsize</td>\n",
       "      <td>Chevrolet</td>\n",
       "      <td>17236.0</td>\n",
       "      <td>N</td>\n",
       "      <td>1003</td>\n",
       "    </tr>\n",
       "    <tr>\n",
       "      <th>3</th>\n",
       "      <td>MO</td>\n",
       "      <td>Missouri</td>\n",
       "      <td>764.586183</td>\n",
       "      <td>Bachelor</td>\n",
       "      <td>12/01/2018</td>\n",
       "      <td>Unemployed</td>\n",
       "      <td>M</td>\n",
       "      <td>0</td>\n",
       "      <td>Suburban</td>\n",
       "      <td>Married</td>\n",
       "      <td>...</td>\n",
       "      <td>18</td>\n",
       "      <td>65</td>\n",
       "      <td>Collision</td>\n",
       "      <td>Call Center</td>\n",
       "      <td>SUV</td>\n",
       "      <td>Midsize</td>\n",
       "      <td>Honda</td>\n",
       "      <td>30270.0</td>\n",
       "      <td>N</td>\n",
       "      <td>1004</td>\n",
       "    </tr>\n",
       "    <tr>\n",
       "      <th>4</th>\n",
       "      <td>KS</td>\n",
       "      <td>Kansas</td>\n",
       "      <td>281.369258</td>\n",
       "      <td>Bachelor</td>\n",
       "      <td>12/01/2018</td>\n",
       "      <td>Employed</td>\n",
       "      <td>M</td>\n",
       "      <td>43836</td>\n",
       "      <td>Rural</td>\n",
       "      <td>Single</td>\n",
       "      <td>...</td>\n",
       "      <td>52</td>\n",
       "      <td>44</td>\n",
       "      <td>Collision</td>\n",
       "      <td>Agent</td>\n",
       "      <td>Four-Door Car</td>\n",
       "      <td>Midsize</td>\n",
       "      <td>Ford</td>\n",
       "      <td>16263.0</td>\n",
       "      <td>N</td>\n",
       "      <td>1005</td>\n",
       "    </tr>\n",
       "  </tbody>\n",
       "</table>\n",
       "<p>5 rows × 22 columns</p>\n",
       "</div>"
      ],
      "text/plain": [
       "  State_Code     State  Claim_Amount Education  Claim_Date Employment_Status  \\\n",
       "0         KS    Kansas    575.560000  Bachelor  12/01/2018          Employed   \n",
       "1         NE  Nebraska    697.953590  Bachelor  12/01/2018        Unemployed   \n",
       "2         OK  Oklahoma   1288.743165  Bachelor  12/01/2018          Employed   \n",
       "3         MO  Missouri    764.586183  Bachelor  12/01/2018        Unemployed   \n",
       "4         KS    Kansas    281.369258  Bachelor  12/01/2018          Employed   \n",
       "\n",
       "  Gender  Income  Location Marital_Status        ...         \\\n",
       "0      F   56274  Suburban        Married        ...          \n",
       "1      F       0       NaN         Single        ...          \n",
       "2      F   48767  Suburban        Married        ...          \n",
       "3      M       0  Suburban        Married        ...          \n",
       "4      M   43836     Rural         Single        ...          \n",
       "\n",
       "   Months_Since_Last_Claim  Months_Since_Policy_Inception   Claim_Cause  \\\n",
       "0                       32                              5     Collision   \n",
       "1                       13                             42  Scratch/Dent   \n",
       "2                       18                             38     Collision   \n",
       "3                       18                             65     Collision   \n",
       "4                       52                             44     Collision   \n",
       "\n",
       "   Claim_Report_Type  Vehicle_Class Vehicle_Size Vehicle_Model  \\\n",
       "0              Agent   Two-Door Car      Midsize        Toyota   \n",
       "1              Agent  Four-Door Car      Midsize     Chevrolet   \n",
       "2              Agent   Two-Door Car      Midsize     Chevrolet   \n",
       "3        Call Center            SUV      Midsize         Honda   \n",
       "4              Agent  Four-Door Car      Midsize          Ford   \n",
       "\n",
       "  Outstanding_Balance Fraudulent_Claim  Claimant__Number  \n",
       "0             25781.0                N              1001  \n",
       "1             37061.0                N              1002  \n",
       "2             17236.0                N              1003  \n",
       "3             30270.0                N              1004  \n",
       "4             16263.0                N              1005  \n",
       "\n",
       "[5 rows x 22 columns]"
      ]
     },
     "execution_count": 6,
     "metadata": {},
     "output_type": "execute_result"
    }
   ],
   "source": [
    "df0.head()"
   ]
  },
  {
   "cell_type": "code",
   "execution_count": 7,
   "metadata": {},
   "outputs": [
    {
     "data": {
      "text/plain": [
       "Index(['State_Code', 'State', 'Claim_Amount', 'Education', 'Claim_Date',\n",
       "       'Employment_Status', 'Gender', 'Income', 'Location', 'Marital_Status',\n",
       "       'Monthly_Premium', 'Annual_Premium', 'Months_Since_Last_Claim',\n",
       "       'Months_Since_Policy_Inception', 'Claim_Cause', 'Claim_Report_Type',\n",
       "       'Vehicle_Class', 'Vehicle_Size', 'Vehicle_Model', 'Outstanding_Balance',\n",
       "       'Fraudulent_Claim', 'Claimant__Number'],\n",
       "      dtype='object')"
      ]
     },
     "execution_count": 7,
     "metadata": {},
     "output_type": "execute_result"
    }
   ],
   "source": [
    "df0.columns"
   ]
  },
  {
   "cell_type": "markdown",
   "metadata": {},
   "source": [
    "## Test Train Split"
   ]
  },
  {
   "cell_type": "code",
   "execution_count": 8,
   "metadata": {},
   "outputs": [],
   "source": [
    "from sklearn.model_selection import train_test_split \n",
    "\n",
    "num_test = 0.20 \n",
    "\n",
    "data_train0, data_test0 = train_test_split(df0, test_size=num_test, random_state=RANDOM_STATE)"
   ]
  },
  {
   "cell_type": "code",
   "execution_count": 9,
   "metadata": {},
   "outputs": [
    {
     "data": {
      "text/plain": [
       "(4000, 22)"
      ]
     },
     "execution_count": 9,
     "metadata": {},
     "output_type": "execute_result"
    }
   ],
   "source": [
    "data_train0.shape"
   ]
  },
  {
   "cell_type": "code",
   "execution_count": 10,
   "metadata": {},
   "outputs": [
    {
     "data": {
      "text/plain": [
       "(1001, 22)"
      ]
     },
     "execution_count": 10,
     "metadata": {},
     "output_type": "execute_result"
    }
   ],
   "source": [
    "data_test0.shape"
   ]
  },
  {
   "cell_type": "code",
   "execution_count": 11,
   "metadata": {},
   "outputs": [],
   "source": [
    "data_train0.to_csv(\"data_train0.csv\")\n",
    "data_test0.to_csv(\"data_test0.csv\")"
   ]
  },
  {
   "cell_type": "markdown",
   "metadata": {},
   "source": [
    "## Tranformations and Encoding"
   ]
  },
  {
   "cell_type": "code",
   "execution_count": 12,
   "metadata": {},
   "outputs": [],
   "source": [
    "def encode_target(df):\n",
    "    # Convert Fraud Claim data from Y/N to 1/0\n",
    "    df['Fraudulent_Claim'] = df['Fraudulent_Claim'].replace(('Y', 'N'), (1, 0))\n",
    "    return df"
   ]
  },
  {
   "cell_type": "code",
   "execution_count": 13,
   "metadata": {},
   "outputs": [],
   "source": [
    "def encode_gender(df):\n",
    "    # Convert Gender data from M/F to 1/0\n",
    "    df['Gender'] = df['Gender'].replace(('M', 'F'), (1, 0))\n",
    "    return df"
   ]
  },
  {
   "cell_type": "code",
   "execution_count": 14,
   "metadata": {},
   "outputs": [],
   "source": [
    "def simplify_employee(df):\n",
    "    # Fill missing values with mode\n",
    "    df['Employment_Status'] = df['Employment_Status'].fillna('Employed')\n",
    "    \n",
    "    # Encode as numeric representing years of schooling\n",
    "    encode = {'Employed': 'Employed',\n",
    "              'Unemployed': 'Unemployed',\n",
    "              'Disabled': 'Employed',\n",
    "              'Medical Leave': 'Medical Leave',\n",
    "              'Retired': 'Retired'}\n",
    "    \n",
    "    df['Employment_Status'] = df['Employment_Status'].map(encode)\n",
    "    return df"
   ]
  },
  {
   "cell_type": "code",
   "execution_count": 15,
   "metadata": {},
   "outputs": [],
   "source": [
    "def encode_marital(df):\n",
    "    # Convert Marital_Status data from Single/Married/Divorced to 0/1/2\n",
    "    df['Marital_Status'] = df['Marital_Status'].replace(('Married', 'Single', 'Divorced'), (1, 0, 2))\n",
    "    return df"
   ]
  },
  {
   "cell_type": "code",
   "execution_count": 16,
   "metadata": {},
   "outputs": [],
   "source": [
    "def encode_vsize(df):\n",
    "    # Convert Vehicle Size from Compact, Midsize, and Luxury to 1, 2, and 3\n",
    "    df['Vehicle_Size'] = df['Vehicle_Size'].replace(('Compact', 'Midsize', 'Luxury'), (1,2,3))\n",
    "    return df"
   ]
  },
  {
   "cell_type": "code",
   "execution_count": 17,
   "metadata": {},
   "outputs": [],
   "source": [
    "def simplify_claim_amount(df):\n",
    "    # Apply a log transformation to claim amount\n",
    "    df['Claim_Amount'] = df['Claim_Amount'].apply(np.log)\n",
    "    return df"
   ]
  },
  {
   "cell_type": "code",
   "execution_count": 18,
   "metadata": {},
   "outputs": [],
   "source": [
    "def simplify_income(df):\n",
    "    # Simplify income into bins\n",
    "    bins = (-1, 10000, 50000, 90000, 999999999) \n",
    "    group_names = [0, 1, 2, 3] \n",
    "    categories = pd.cut(df['Income'], bins, labels=group_names) \n",
    "    df['Income'] = categories.astype('int8')\n",
    "    return df"
   ]
  },
  {
   "cell_type": "code",
   "execution_count": 19,
   "metadata": {},
   "outputs": [],
   "source": [
    "def simplify_location(df):\n",
    "    # Fill missing values with mode\n",
    "    df['Location'] = df['Location'].fillna('Suburban')\n",
    "    return df"
   ]
  },
  {
   "cell_type": "code",
   "execution_count": 20,
   "metadata": {},
   "outputs": [],
   "source": [
    "def simplify_outstanding_balance(df):\n",
    "    # Fill missing values with 0 meaning there is no outstanding balance\n",
    "    df['Outstanding_Balance'] = df['Outstanding_Balance'].fillna(0)\n",
    "    return df"
   ]
  },
  {
   "cell_type": "code",
   "execution_count": 21,
   "metadata": {},
   "outputs": [],
   "source": [
    "def simplify_education(df):\n",
    "    # Fill missing values with mode\n",
    "    df['Education'] = df['Education'].fillna('College')\n",
    "    \n",
    "    # Encode as numeric representing years of schooling\n",
    "    encode = {'High School or Below': 'High School or Below',\n",
    "              'College': 'College',\n",
    "              'Bachelor': 'Bachelor',\n",
    "              'Master': 'Graduate',\n",
    "              'Doctor': 'Graduate'}\n",
    "\n",
    "    df['Education'] = df['Education'].map(encode)\n",
    "    return df"
   ]
  },
  {
   "cell_type": "code",
   "execution_count": 22,
   "metadata": {},
   "outputs": [],
   "source": [
    "def simplify_claim_cause(df):\n",
    "\n",
    "    # Encode as numeric representing years of schooling\n",
    "    encode = {'Collision': 'Collision',\n",
    "              'Hail': 'Hail',\n",
    "              'Scratch/Dent': 'Scratch/Dent',\n",
    "              'Other': 'Other',\n",
    "              'Fire': 'Fire'}\n",
    "\n",
    "    df['Claim_Cause'] = df['Claim_Cause'].map(encode)\n",
    "    return df"
   ]
  },
  {
   "cell_type": "code",
   "execution_count": 23,
   "metadata": {},
   "outputs": [],
   "source": [
    "def drop_features(df):\n",
    "    features = ['State', 'Annual_Premium', 'Vehicle_Model']\n",
    "    df = df.drop(features, axis='columns')\n",
    "    return df"
   ]
  },
  {
   "cell_type": "code",
   "execution_count": 24,
   "metadata": {},
   "outputs": [],
   "source": [
    "def transform_features(df):\n",
    "    df = encode_target(df)\n",
    "    df = encode_gender(df)\n",
    "    df = simplify_employee(df)\n",
    "    df = encode_marital(df)\n",
    "    df = encode_vsize(df)\n",
    "    df = simplify_claim_amount(df)\n",
    "    df = simplify_income(df)\n",
    "    df = simplify_location(df)\n",
    "    df = simplify_outstanding_balance(df)\n",
    "    df = simplify_education(df)\n",
    "    df = simplify_claim_cause(df)\n",
    "    df = drop_features(df)\n",
    "    return df"
   ]
  },
  {
   "cell_type": "code",
   "execution_count": 26,
   "metadata": {},
   "outputs": [],
   "source": [
    "data_train = transform_features(data_train0.copy(deep=True))"
   ]
  },
  {
   "cell_type": "code",
   "execution_count": 27,
   "metadata": {},
   "outputs": [],
   "source": [
    "data_test = transform_features(data_test0.copy(deep=True))"
   ]
  },
  {
   "cell_type": "code",
   "execution_count": 28,
   "metadata": {
    "scrolled": true
   },
   "outputs": [
    {
     "data": {
      "text/plain": [
       "State_Code                       0\n",
       "Claim_Amount                     0\n",
       "Education                        0\n",
       "Claim_Date                       0\n",
       "Employment_Status                0\n",
       "Gender                           0\n",
       "Income                           0\n",
       "Location                         0\n",
       "Marital_Status                   0\n",
       "Monthly_Premium                  0\n",
       "Months_Since_Last_Claim          0\n",
       "Months_Since_Policy_Inception    0\n",
       "Claim_Cause                      0\n",
       "Claim_Report_Type                0\n",
       "Vehicle_Class                    0\n",
       "Vehicle_Size                     0\n",
       "Outstanding_Balance              0\n",
       "Fraudulent_Claim                 0\n",
       "Claimant__Number                 0\n",
       "dtype: int64"
      ]
     },
     "execution_count": 28,
     "metadata": {},
     "output_type": "execute_result"
    }
   ],
   "source": [
    "data_train.isna().sum()"
   ]
  },
  {
   "cell_type": "code",
   "execution_count": 29,
   "metadata": {},
   "outputs": [
    {
     "data": {
      "text/html": [
       "<div>\n",
       "<style scoped>\n",
       "    .dataframe tbody tr th:only-of-type {\n",
       "        vertical-align: middle;\n",
       "    }\n",
       "\n",
       "    .dataframe tbody tr th {\n",
       "        vertical-align: top;\n",
       "    }\n",
       "\n",
       "    .dataframe thead th {\n",
       "        text-align: right;\n",
       "    }\n",
       "</style>\n",
       "<table border=\"1\" class=\"dataframe\">\n",
       "  <thead>\n",
       "    <tr style=\"text-align: right;\">\n",
       "      <th></th>\n",
       "      <th>State_Code</th>\n",
       "      <th>Claim_Amount</th>\n",
       "      <th>Education</th>\n",
       "      <th>Claim_Date</th>\n",
       "      <th>Employment_Status</th>\n",
       "      <th>Gender</th>\n",
       "      <th>Income</th>\n",
       "      <th>Location</th>\n",
       "      <th>Marital_Status</th>\n",
       "      <th>Monthly_Premium</th>\n",
       "      <th>Months_Since_Last_Claim</th>\n",
       "      <th>Months_Since_Policy_Inception</th>\n",
       "      <th>Claim_Cause</th>\n",
       "      <th>Claim_Report_Type</th>\n",
       "      <th>Vehicle_Class</th>\n",
       "      <th>Vehicle_Size</th>\n",
       "      <th>Outstanding_Balance</th>\n",
       "      <th>Fraudulent_Claim</th>\n",
       "      <th>Claimant__Number</th>\n",
       "    </tr>\n",
       "  </thead>\n",
       "  <tbody>\n",
       "    <tr>\n",
       "      <th>2715</th>\n",
       "      <td>MO</td>\n",
       "      <td>6.506815</td>\n",
       "      <td>Graduate</td>\n",
       "      <td>12/15/2018</td>\n",
       "      <td>Employed</td>\n",
       "      <td>0</td>\n",
       "      <td>2</td>\n",
       "      <td>Rural</td>\n",
       "      <td>1</td>\n",
       "      <td>58</td>\n",
       "      <td>18</td>\n",
       "      <td>79</td>\n",
       "      <td>Hail</td>\n",
       "      <td>Call Center</td>\n",
       "      <td>Four-Door Car</td>\n",
       "      <td>2</td>\n",
       "      <td>30634.0</td>\n",
       "      <td>0</td>\n",
       "      <td>3716</td>\n",
       "    </tr>\n",
       "    <tr>\n",
       "      <th>788</th>\n",
       "      <td>IA</td>\n",
       "      <td>5.446624</td>\n",
       "      <td>College</td>\n",
       "      <td>12/01/2018</td>\n",
       "      <td>Unemployed</td>\n",
       "      <td>0</td>\n",
       "      <td>0</td>\n",
       "      <td>Suburban</td>\n",
       "      <td>0</td>\n",
       "      <td>104</td>\n",
       "      <td>31</td>\n",
       "      <td>53</td>\n",
       "      <td>Scratch/Dent</td>\n",
       "      <td>Branch</td>\n",
       "      <td>Four-Door Car</td>\n",
       "      <td>2</td>\n",
       "      <td>10658.0</td>\n",
       "      <td>0</td>\n",
       "      <td>1789</td>\n",
       "    </tr>\n",
       "    <tr>\n",
       "      <th>1457</th>\n",
       "      <td>MO</td>\n",
       "      <td>6.200470</td>\n",
       "      <td>High School or Below</td>\n",
       "      <td>12/01/2018</td>\n",
       "      <td>Unemployed</td>\n",
       "      <td>0</td>\n",
       "      <td>0</td>\n",
       "      <td>Suburban</td>\n",
       "      <td>0</td>\n",
       "      <td>91</td>\n",
       "      <td>25</td>\n",
       "      <td>21</td>\n",
       "      <td>Other</td>\n",
       "      <td>Call Center</td>\n",
       "      <td>Four-Door Car</td>\n",
       "      <td>2</td>\n",
       "      <td>41743.0</td>\n",
       "      <td>0</td>\n",
       "      <td>2458</td>\n",
       "    </tr>\n",
       "    <tr>\n",
       "      <th>3568</th>\n",
       "      <td>IA</td>\n",
       "      <td>6.046150</td>\n",
       "      <td>Bachelor</td>\n",
       "      <td>12/15/2018</td>\n",
       "      <td>Unemployed</td>\n",
       "      <td>1</td>\n",
       "      <td>0</td>\n",
       "      <td>Suburban</td>\n",
       "      <td>0</td>\n",
       "      <td>80</td>\n",
       "      <td>9</td>\n",
       "      <td>88</td>\n",
       "      <td>Collision</td>\n",
       "      <td>Call Center</td>\n",
       "      <td>Four-Door Car</td>\n",
       "      <td>2</td>\n",
       "      <td>46886.0</td>\n",
       "      <td>0</td>\n",
       "      <td>4569</td>\n",
       "    </tr>\n",
       "    <tr>\n",
       "      <th>3529</th>\n",
       "      <td>IA</td>\n",
       "      <td>6.571308</td>\n",
       "      <td>High School or Below</td>\n",
       "      <td>12/15/2018</td>\n",
       "      <td>Employed</td>\n",
       "      <td>1</td>\n",
       "      <td>2</td>\n",
       "      <td>Suburban</td>\n",
       "      <td>1</td>\n",
       "      <td>69</td>\n",
       "      <td>9</td>\n",
       "      <td>81</td>\n",
       "      <td>Other</td>\n",
       "      <td>Agent</td>\n",
       "      <td>Four-Door Car</td>\n",
       "      <td>3</td>\n",
       "      <td>45168.0</td>\n",
       "      <td>0</td>\n",
       "      <td>4530</td>\n",
       "    </tr>\n",
       "  </tbody>\n",
       "</table>\n",
       "</div>"
      ],
      "text/plain": [
       "     State_Code  Claim_Amount             Education  Claim_Date  \\\n",
       "2715         MO      6.506815              Graduate  12/15/2018   \n",
       "788          IA      5.446624               College  12/01/2018   \n",
       "1457         MO      6.200470  High School or Below  12/01/2018   \n",
       "3568         IA      6.046150              Bachelor  12/15/2018   \n",
       "3529         IA      6.571308  High School or Below  12/15/2018   \n",
       "\n",
       "     Employment_Status  Gender  Income  Location  Marital_Status  \\\n",
       "2715          Employed       0       2     Rural               1   \n",
       "788         Unemployed       0       0  Suburban               0   \n",
       "1457        Unemployed       0       0  Suburban               0   \n",
       "3568        Unemployed       1       0  Suburban               0   \n",
       "3529          Employed       1       2  Suburban               1   \n",
       "\n",
       "      Monthly_Premium  Months_Since_Last_Claim  Months_Since_Policy_Inception  \\\n",
       "2715               58                       18                             79   \n",
       "788               104                       31                             53   \n",
       "1457               91                       25                             21   \n",
       "3568               80                        9                             88   \n",
       "3529               69                        9                             81   \n",
       "\n",
       "       Claim_Cause Claim_Report_Type  Vehicle_Class  Vehicle_Size  \\\n",
       "2715          Hail       Call Center  Four-Door Car             2   \n",
       "788   Scratch/Dent            Branch  Four-Door Car             2   \n",
       "1457         Other       Call Center  Four-Door Car             2   \n",
       "3568     Collision       Call Center  Four-Door Car             2   \n",
       "3529         Other             Agent  Four-Door Car             3   \n",
       "\n",
       "      Outstanding_Balance  Fraudulent_Claim  Claimant__Number  \n",
       "2715              30634.0                 0              3716  \n",
       "788               10658.0                 0              1789  \n",
       "1457              41743.0                 0              2458  \n",
       "3568              46886.0                 0              4569  \n",
       "3529              45168.0                 0              4530  "
      ]
     },
     "execution_count": 29,
     "metadata": {},
     "output_type": "execute_result"
    }
   ],
   "source": [
    "data_train.head()"
   ]
  },
  {
   "cell_type": "code",
   "execution_count": 29,
   "metadata": {
    "scrolled": true
   },
   "outputs": [
    {
     "data": {
      "image/png": "[encoded data removed]",
      "text/plain": [
       "<Figure size 864x648 with 2 Axes>"
      ]
     },
     "metadata": {
      "needs_background": "light"
     },
     "output_type": "display_data"
    }
   ],
   "source": [
    "corrmat= data_train.drop('Claimant__Number', axis='columns').corr()\n",
    "f, ax = plt.subplots(figsize=(12, 9))\n",
    "sns.heatmap(corrmat, vmax=.8, square=True);"
   ]
  },
  {
   "cell_type": "markdown",
   "metadata": {},
   "source": [
    "## Encoding"
   ]
  },
  {
   "cell_type": "code",
   "execution_count": 30,
   "metadata": {},
   "outputs": [],
   "source": [
    "def one_hot_encode(columns, train, test):\n",
    "    df_train = pd.get_dummies(train, columns=columns, prefix=columns)\n",
    "    print(\"Train Original Shape:\", df_train.shape)\n",
    "    df_test = pd.get_dummies(test, columns=columns, prefix=columns)\n",
    "    print(\"Test Original Shape:\", df_test.shape)\n",
    "    final_train, final_test = df_train.align(df_test, join='inner', axis=1)  # inner join - return only columns that are the same\n",
    "    return final_train, final_test"
   ]
  },
  {
   "cell_type": "code",
   "execution_count": 31,
   "metadata": {},
   "outputs": [],
   "source": [
    "# Chose the columns to one hot encode\n",
    "columns = ['Vehicle_Class', 'Employment_Status', 'Education', 'State_Code', 'Claim_Date', 'Location', 'Claim_Cause', 'Claim_Report_Type']"
   ]
  },
  {
   "cell_type": "code",
   "execution_count": 32,
   "metadata": {},
   "outputs": [
    {
     "name": "stdout",
     "output_type": "stream",
     "text": [
      "Train Original Shape: (4000, 45)\n",
      "Test Original Shape: (1001, 44)\n"
     ]
    }
   ],
   "source": [
    "train_encoded, test_encoded = one_hot_encode(columns, data_train, data_test)"
   ]
  },
  {
   "cell_type": "code",
   "execution_count": 33,
   "metadata": {},
   "outputs": [
    {
     "data": {
      "text/plain": [
       "(4000, 44)"
      ]
     },
     "execution_count": 33,
     "metadata": {},
     "output_type": "execute_result"
    }
   ],
   "source": [
    "train_encoded.shape"
   ]
  },
  {
   "cell_type": "code",
   "execution_count": 34,
   "metadata": {},
   "outputs": [
    {
     "data": {
      "text/plain": [
       "(1001, 44)"
      ]
     },
     "execution_count": 34,
     "metadata": {},
     "output_type": "execute_result"
    }
   ],
   "source": [
    "test_encoded.shape"
   ]
  },
  {
   "cell_type": "code",
   "execution_count": 35,
   "metadata": {},
   "outputs": [
    {
     "data": {
      "text/plain": [
       "Index(['Claim_Amount', 'Gender', 'Income', 'Marital_Status', 'Monthly_Premium',\n",
       "       'Months_Since_Last_Claim', 'Months_Since_Policy_Inception',\n",
       "       'Vehicle_Size', 'Outstanding_Balance', 'Fraudulent_Claim',\n",
       "       'Claimant__Number', 'Vehicle_Class_Four-Door Car',\n",
       "       'Vehicle_Class_Luxury Car', 'Vehicle_Class_Luxury SUV',\n",
       "       'Vehicle_Class_SUV', 'Vehicle_Class_Sports Car',\n",
       "       'Vehicle_Class_Two-Door Car', 'Employment_Status_Employed',\n",
       "       'Employment_Status_Medical Leave', 'Employment_Status_Retired',\n",
       "       'Employment_Status_Unemployed', 'Education_Bachelor',\n",
       "       'Education_College', 'Education_Graduate',\n",
       "       'Education_High School or Below', 'State_Code_IA', 'State_Code_KS',\n",
       "       'State_Code_MO', 'State_Code_NE', 'State_Code_OK',\n",
       "       'Claim_Date_01/15/2019', 'Claim_Date_12/01/2018',\n",
       "       'Claim_Date_12/15/2018', 'Location_Rural', 'Location_Suburban',\n",
       "       'Location_Urban', 'Claim_Cause_Collision', 'Claim_Cause_Hail',\n",
       "       'Claim_Cause_Other', 'Claim_Cause_Scratch/Dent',\n",
       "       'Claim_Report_Type_Agent', 'Claim_Report_Type_Branch',\n",
       "       'Claim_Report_Type_Call Center', 'Claim_Report_Type_Web'],\n",
       "      dtype='object')"
      ]
     },
     "execution_count": 35,
     "metadata": {},
     "output_type": "execute_result"
    }
   ],
   "source": [
    "train_encoded.columns"
   ]
  },
  {
   "cell_type": "code",
   "execution_count": 36,
   "metadata": {
    "scrolled": false
   },
   "outputs": [
    {
     "data": {
      "text/plain": [
       "Claim_Amount                       float64\n",
       "Gender                               int64\n",
       "Income                                int8\n",
       "Marital_Status                       int64\n",
       "Monthly_Premium                      int64\n",
       "Months_Since_Last_Claim              int64\n",
       "Months_Since_Policy_Inception        int64\n",
       "Vehicle_Size                         int64\n",
       "Outstanding_Balance                float64\n",
       "Fraudulent_Claim                     int64\n",
       "Claimant__Number                     int64\n",
       "Vehicle_Class_Four-Door Car          uint8\n",
       "Vehicle_Class_Luxury Car             uint8\n",
       "Vehicle_Class_Luxury SUV             uint8\n",
       "Vehicle_Class_SUV                    uint8\n",
       "Vehicle_Class_Sports Car             uint8\n",
       "Vehicle_Class_Two-Door Car           uint8\n",
       "Employment_Status_Employed           uint8\n",
       "Employment_Status_Medical Leave      uint8\n",
       "Employment_Status_Retired            uint8\n",
       "Employment_Status_Unemployed         uint8\n",
       "Education_Bachelor                   uint8\n",
       "Education_College                    uint8\n",
       "Education_Graduate                   uint8\n",
       "Education_High School or Below       uint8\n",
       "State_Code_IA                        uint8\n",
       "State_Code_KS                        uint8\n",
       "State_Code_MO                        uint8\n",
       "State_Code_NE                        uint8\n",
       "State_Code_OK                        uint8\n",
       "Claim_Date_01/15/2019                uint8\n",
       "Claim_Date_12/01/2018                uint8\n",
       "Claim_Date_12/15/2018                uint8\n",
       "Location_Rural                       uint8\n",
       "Location_Suburban                    uint8\n",
       "Location_Urban                       uint8\n",
       "Claim_Cause_Collision                uint8\n",
       "Claim_Cause_Hail                     uint8\n",
       "Claim_Cause_Other                    uint8\n",
       "Claim_Cause_Scratch/Dent             uint8\n",
       "Claim_Report_Type_Agent              uint8\n",
       "Claim_Report_Type_Branch             uint8\n",
       "Claim_Report_Type_Call Center        uint8\n",
       "Claim_Report_Type_Web                uint8\n",
       "dtype: object"
      ]
     },
     "execution_count": 36,
     "metadata": {},
     "output_type": "execute_result"
    }
   ],
   "source": [
    "train_encoded.dtypes"
   ]
  },
  {
   "cell_type": "code",
   "execution_count": 37,
   "metadata": {},
   "outputs": [
    {
     "name": "stdout",
     "output_type": "stream",
     "text": [
      "Shape of X: (4000, 43)\n",
      "Shape of y: (4000, 1)\n"
     ]
    },
    {
     "name": "stderr",
     "output_type": "stream",
     "text": [
      "c:\\users\\student\\appdata\\local\\programs\\python\\python37-32\\lib\\site-packages\\ipykernel_launcher.py:2: DeprecationWarning: \n",
      ".ix is deprecated. Please use\n",
      ".loc for label based indexing or\n",
      ".iloc for positional indexing\n",
      "\n",
      "See the documentation here:\n",
      "http://pandas.pydata.org/pandas-docs/stable/indexing.html#ix-indexer-is-deprecated\n",
      "  \n",
      "c:\\users\\student\\appdata\\local\\programs\\python\\python37-32\\lib\\site-packages\\ipykernel_launcher.py:3: DeprecationWarning: \n",
      ".ix is deprecated. Please use\n",
      ".loc for label based indexing or\n",
      ".iloc for positional indexing\n",
      "\n",
      "See the documentation here:\n",
      "http://pandas.pydata.org/pandas-docs/stable/indexing.html#ix-indexer-is-deprecated\n",
      "  This is separate from the ipykernel package so we can avoid doing imports until\n"
     ]
    }
   ],
   "source": [
    "import numpy as np\n",
    "X = np.array(train_encoded.ix[:, train_encoded.columns != 'Fraudulent_Claim'])\n",
    "y = np.array(train_encoded.ix[:, train_encoded.columns == 'Fraudulent_Claim'])\n",
    "print('Shape of X: {}'.format(X.shape))\n",
    "print('Shape of y: {}'.format(y.shape))"
   ]
  },
  {
   "cell_type": "code",
   "execution_count": 38,
   "metadata": {},
   "outputs": [
    {
     "name": "stdout",
     "output_type": "stream",
     "text": [
      "Number transactions X_train dataset:  (2800, 43)\n",
      "Number transactions y_train dataset:  (2800, 1)\n",
      "Number transactions X_test dataset:  (1200, 43)\n",
      "Number transactions y_test dataset:  (1200, 1)\n"
     ]
    }
   ],
   "source": [
    "from imblearn.over_sampling import SMOTE\n",
    "\n",
    "from sklearn.model_selection import train_test_split\n",
    "\n",
    "X_train, X_test, y_train, y_test = train_test_split(X, y, test_size=0.3, random_state=0)\n",
    "\n",
    "print(\"Number transactions X_train dataset: \", X_train.shape)\n",
    "print(\"Number transactions y_train dataset: \", y_train.shape)\n",
    "print(\"Number transactions X_test dataset: \", X_test.shape)\n",
    "print(\"Number transactions y_test dataset: \", y_test.shape)"
   ]
  },
  {
   "cell_type": "code",
   "execution_count": 39,
   "metadata": {},
   "outputs": [
    {
     "name": "stdout",
     "output_type": "stream",
     "text": [
      "Before OverSampling, counts of label '1': [168]\n",
      "Before OverSampling, counts of label '0': [2632] \n",
      "\n",
      "After OverSampling, the shape of train_X: (5264, 43)\n",
      "After OverSampling, the shape of train_y: (5264,) \n",
      "\n",
      "After OverSampling, counts of label '1': 2632\n",
      "After OverSampling, counts of label '0': 2632\n"
     ]
    }
   ],
   "source": [
    "print(\"Before OverSampling, counts of label '1': {}\".format(sum(y_train==1)))\n",
    "print(\"Before OverSampling, counts of label '0': {} \\n\".format(sum(y_train==0)))\n",
    "\n",
    "sm = SMOTE(random_state=2)\n",
    "X_train_res, y_train_res = sm.fit_sample(X_train, y_train.ravel())\n",
    "\n",
    "print('After OverSampling, the shape of train_X: {}'.format(X_train_res.shape))\n",
    "print('After OverSampling, the shape of train_y: {} \\n'.format(y_train_res.shape))\n",
    "\n",
    "print(\"After OverSampling, counts of label '1': {}\".format(sum(y_train_res==1)))\n",
    "print(\"After OverSampling, counts of label '0': {}\".format(sum(y_train_res==0)))"
   ]
  },
  {
   "cell_type": "markdown",
   "metadata": {},
   "source": [
    "## Sampling"
   ]
  },
  {
   "cell_type": "markdown",
   "metadata": {},
   "source": [
    "Apply sampling to train_encoded only"
   ]
  },
  {
   "cell_type": "code",
   "execution_count": 37,
   "metadata": {},
   "outputs": [
    {
     "data": {
      "text/plain": [
       "count    490.000000\n",
       "mean       0.500000\n",
       "std        0.500511\n",
       "min        0.000000\n",
       "25%        0.000000\n",
       "50%        0.500000\n",
       "75%        1.000000\n",
       "max        1.000000\n",
       "Name: Fraudulent_Claim, dtype: float64"
      ]
     },
     "execution_count": 37,
     "metadata": {},
     "output_type": "execute_result"
    }
   ],
   "source": [
    "#Finds the number of fraud samples \n",
    "no_frauds = len(train_encoded[train_encoded['Fraudulent_Claim'] == 1])\n",
    "\n",
    "#gets indices of nonfraud samples\n",
    "non_fraud_indices = train_encoded[train_encoded.Fraudulent_Claim == 0].index\n",
    "\n",
    "#Random sample non fraud indices\n",
    "random_indices = np.random.choice(non_fraud_indices, no_frauds, replace=False, )\n",
    "\n",
    "#Find the indices of fraud samples\n",
    "fraud_indices = train_encoded[train_encoded.Fraudulent_Claim == 1].index\n",
    "\n",
    "#Concat fraud indices with sample non-fraud ones\n",
    "under_sample_indices = np.concatenate([fraud_indices, random_indices])\n",
    "\n",
    "#Get Balance Dataframe\n",
    "under_sample = train_encoded.loc[under_sample_indices]\n",
    "\n",
    "#Results\n",
    "under_sample[\"Fraudulent_Claim\"].describe()"
   ]
  },
  {
   "cell_type": "markdown",
   "metadata": {},
   "source": [
    "## Modeling"
   ]
  },
  {
   "cell_type": "markdown",
   "metadata": {},
   "source": [
    "Select dataframe to use for modeling"
   ]
  },
  {
   "cell_type": "code",
   "execution_count": 38,
   "metadata": {},
   "outputs": [],
   "source": [
    "data_modeling = train_encoded.copy(deep=True)"
   ]
  },
  {
   "cell_type": "code",
   "execution_count": 39,
   "metadata": {},
   "outputs": [],
   "source": [
    "from sklearn.metrics import accuracy_score\n",
    "from sklearn.metrics import confusion_matrix"
   ]
  },
  {
   "cell_type": "markdown",
   "metadata": {},
   "source": [
    "#### Modeling Pipeline"
   ]
  },
  {
   "cell_type": "code",
   "execution_count": 40,
   "metadata": {},
   "outputs": [],
   "source": [
    "models = {}"
   ]
  },
  {
   "cell_type": "code",
   "execution_count": 41,
   "metadata": {},
   "outputs": [],
   "source": [
    "def run_model(ID, clf, train, test):\n",
    "    # Split X=independent variables and y=dependent variable\n",
    "    X_train = train.drop([\"Claimant__Number\", \"Fraudulent_Claim\"], axis=\"columns\")\n",
    "    X_test = test.drop([\"Claimant__Number\", \"Fraudulent_Claim\"], axis=\"columns\")\n",
    "    y_train = train[\"Fraudulent_Claim\"]\n",
    "    y_test = test[\"Fraudulent_Claim\"]\n",
    "    \n",
    "    # Train model\n",
    "    clf.fit(X_train, y_train)\n",
    "    \n",
    "    # Make predictions\n",
    "    train_predictions = clf.predict(X_train)\n",
    "    test_predictions = clf.predict(X_test)\n",
    "    \n",
    "    # Get fraud prediction percent\n",
    "    train_fraud_pct = np.array(train_predictions).mean()\n",
    "    test_fraud_pct = np.array(test_predictions).mean()\n",
    "    \n",
    "    # Score predictions\n",
    "    train_score = accuracy_score(y_train, train_predictions)\n",
    "    test_score = accuracy_score(y_test, test_predictions)\n",
    "    \n",
    "    confusion_mtx = confusion_matrix(y_test, test_predictions)\n",
    "    tn, fp, fn, tp = confusion_mtx.ravel()\n",
    "    \n",
    "    # Save model and results to dictionary\n",
    "    models[ID] = {\"clf\": clf,\n",
    "                  \"test_score\": test_score, \n",
    "                  \"train_score\": train_score,\n",
    "                  \"test_pred_pct_fraud\": test_fraud_pct,\n",
    "                  \"train_pred_pct_fraud\": train_fraud_pct,\n",
    "                  \"true negative\": tn,\n",
    "                  \"false positive\": fp,\n",
    "                  \"false negative\": fn,\n",
    "                  \"true positive\": tp\n",
    "                 }\n",
    "    \n",
    "    # Pretty-Print results\n",
    "    pprint(models[ID])\n",
    "    print(\"Confusion Matrix:\\n\", confusion_mtx)    "
   ]
  },
  {
   "cell_type": "markdown",
   "metadata": {},
   "source": [
    "#### Simple Model (Predict all are not fraud)"
   ]
  },
  {
   "cell_type": "code",
   "execution_count": 42,
   "metadata": {},
   "outputs": [],
   "source": [
    "class simple_model():\n",
    "    def __repr__(self):\n",
    "        return \"Predicts non-fraud for everyone\"\n",
    "    \n",
    "    def fit(self, X, y):\n",
    "        pass\n",
    "    \n",
    "    def predict(self, X, prediction=0):\n",
    "        return np.array([prediction]*len(X))"
   ]
  },
  {
   "cell_type": "code",
   "execution_count": 43,
   "metadata": {},
   "outputs": [],
   "source": [
    "clf = simple_model()"
   ]
  },
  {
   "cell_type": "code",
   "execution_count": 44,
   "metadata": {},
   "outputs": [
    {
     "name": "stdout",
     "output_type": "stream",
     "text": [
      "{'clf': Predicts non-fraud for everyone,\n",
      " 'false negative': 62,\n",
      " 'false positive': 0,\n",
      " 'test_pred_pct_fraud': 0.0,\n",
      " 'test_score': 0.938061938061938,\n",
      " 'train_pred_pct_fraud': 0.0,\n",
      " 'train_score': 0.93875,\n",
      " 'true negative': 939,\n",
      " 'true positive': 0}\n",
      "Confusion Matrix:\n",
      " [[939   0]\n",
      " [ 62   0]]\n"
     ]
    }
   ],
   "source": [
    "run_model(\"Simple Model\", clf, train_encoded, test_encoded)"
   ]
  },
  {
   "cell_type": "markdown",
   "metadata": {},
   "source": [
    "### Imbalanced Data"
   ]
  },
  {
   "cell_type": "markdown",
   "metadata": {},
   "source": [
    "#### Decision Tree"
   ]
  },
  {
   "cell_type": "code",
   "execution_count": 45,
   "metadata": {},
   "outputs": [],
   "source": [
    "from sklearn.tree import DecisionTreeClassifier"
   ]
  },
  {
   "cell_type": "code",
   "execution_count": 46,
   "metadata": {},
   "outputs": [],
   "source": [
    "clf = DecisionTreeClassifier(random_state=RANDOM_STATE,\n",
    "                            max_depth=5\n",
    "                            )"
   ]
  },
  {
   "cell_type": "code",
   "execution_count": 47,
   "metadata": {},
   "outputs": [
    {
     "name": "stdout",
     "output_type": "stream",
     "text": [
      "{'clf': DecisionTreeClassifier(class_weight=None, criterion='gini', max_depth=5,\n",
      "            max_features=None, max_leaf_nodes=None,\n",
      "            min_impurity_decrease=0.0, min_impurity_split=None,\n",
      "            min_samples_leaf=1, min_samples_split=2,\n",
      "            min_weight_fraction_leaf=0.0, presort=False, random_state=0,\n",
      "            splitter='best'),\n",
      " 'false negative': 62,\n",
      " 'false positive': 3,\n",
      " 'test_pred_pct_fraud': 0.002997002997002997,\n",
      " 'test_score': 0.935064935064935,\n",
      " 'train_pred_pct_fraud': 0.0015,\n",
      " 'train_score': 0.94025,\n",
      " 'true negative': 936,\n",
      " 'true positive': 0}\n",
      "Confusion Matrix:\n",
      " [[936   3]\n",
      " [ 62   0]]\n"
     ]
    }
   ],
   "source": [
    "run_model(\"Decision Tree - Imbalanced Data\", clf, train_encoded, test_encoded)"
   ]
  },
  {
   "cell_type": "markdown",
   "metadata": {},
   "source": [
    "#### Gradient Boosting"
   ]
  },
  {
   "cell_type": "code",
   "execution_count": 48,
   "metadata": {},
   "outputs": [
    {
     "name": "stderr",
     "output_type": "stream",
     "text": [
      "c:\\users\\student\\appdata\\local\\programs\\python\\python37\\lib\\site-packages\\sklearn\\ensemble\\weight_boosting.py:29: DeprecationWarning: numpy.core.umath_tests is an internal NumPy module and should not be imported. It will be removed in a future NumPy release.\n",
      "  from numpy.core.umath_tests import inner1d\n"
     ]
    }
   ],
   "source": [
    "from sklearn.ensemble import GradientBoostingClassifier"
   ]
  },
  {
   "cell_type": "code",
   "execution_count": 49,
   "metadata": {},
   "outputs": [],
   "source": [
    "clf = GradientBoostingClassifier(random_state=RANDOM_STATE,\n",
    "                            max_depth=12\n",
    "                            )"
   ]
  },
  {
   "cell_type": "code",
   "execution_count": 50,
   "metadata": {},
   "outputs": [
    {
     "name": "stdout",
     "output_type": "stream",
     "text": [
      "{'clf': GradientBoostingClassifier(criterion='friedman_mse', init=None,\n",
      "              learning_rate=0.1, loss='deviance', max_depth=12,\n",
      "              max_features=None, max_leaf_nodes=None,\n",
      "              min_impurity_decrease=0.0, min_impurity_split=None,\n",
      "              min_samples_leaf=1, min_samples_split=2,\n",
      "              min_weight_fraction_leaf=0.0, n_estimators=100,\n",
      "              presort='auto', random_state=0, subsample=1.0, verbose=0,\n",
      "              warm_start=False),\n",
      " 'false negative': 61,\n",
      " 'false positive': 5,\n",
      " 'test_pred_pct_fraud': 0.005994005994005994,\n",
      " 'test_score': 0.9340659340659341,\n",
      " 'train_pred_pct_fraud': 0.06125,\n",
      " 'train_score': 1.0,\n",
      " 'true negative': 934,\n",
      " 'true positive': 1}\n",
      "Confusion Matrix:\n",
      " [[934   5]\n",
      " [ 61   1]]\n"
     ]
    }
   ],
   "source": [
    "run_model(\"Gradient Boosting - Imbalanced Data\", clf, train_encoded, test_encoded)"
   ]
  },
  {
   "cell_type": "markdown",
   "metadata": {},
   "source": [
    "#### Logistic Regression"
   ]
  },
  {
   "cell_type": "code",
   "execution_count": 51,
   "metadata": {},
   "outputs": [],
   "source": [
    "from sklearn.linear_model import LogisticRegression"
   ]
  },
  {
   "cell_type": "code",
   "execution_count": 52,
   "metadata": {},
   "outputs": [],
   "source": [
    "clf = LogisticRegression(random_state=RANDOM_STATE)"
   ]
  },
  {
   "cell_type": "code",
   "execution_count": 53,
   "metadata": {},
   "outputs": [
    {
     "name": "stdout",
     "output_type": "stream",
     "text": [
      "{'clf': LogisticRegression(C=1.0, class_weight=None, dual=False, fit_intercept=True,\n",
      "          intercept_scaling=1, max_iter=100, multi_class='ovr', n_jobs=1,\n",
      "          penalty='l2', random_state=0, solver='liblinear', tol=0.0001,\n",
      "          verbose=0, warm_start=False),\n",
      " 'false negative': 62,\n",
      " 'false positive': 0,\n",
      " 'test_pred_pct_fraud': 0.0,\n",
      " 'test_score': 0.938061938061938,\n",
      " 'train_pred_pct_fraud': 0.0,\n",
      " 'train_score': 0.93875,\n",
      " 'true negative': 939,\n",
      " 'true positive': 0}\n",
      "Confusion Matrix:\n",
      " [[939   0]\n",
      " [ 62   0]]\n"
     ]
    }
   ],
   "source": [
    "run_model(\"Logistic Regression - Imbalanced Data\", clf, train_encoded, test_encoded)"
   ]
  },
  {
   "cell_type": "markdown",
   "metadata": {},
   "source": [
    "#### Neural Network"
   ]
  },
  {
   "cell_type": "code",
   "execution_count": 54,
   "metadata": {},
   "outputs": [],
   "source": [
    "from sklearn.neural_network import MLPClassifier"
   ]
  },
  {
   "cell_type": "code",
   "execution_count": 55,
   "metadata": {},
   "outputs": [],
   "source": [
    "clf = MLPClassifier(random_state=RANDOM_STATE)"
   ]
  },
  {
   "cell_type": "code",
   "execution_count": 56,
   "metadata": {
    "scrolled": false
   },
   "outputs": [
    {
     "name": "stdout",
     "output_type": "stream",
     "text": [
      "{'clf': MLPClassifier(activation='relu', alpha=0.0001, batch_size='auto', beta_1=0.9,\n",
      "       beta_2=0.999, early_stopping=False, epsilon=1e-08,\n",
      "       hidden_layer_sizes=(100,), learning_rate='constant',\n",
      "       learning_rate_init=0.001, max_iter=200, momentum=0.9,\n",
      "       nesterovs_momentum=True, power_t=0.5, random_state=0, shuffle=True,\n",
      "       solver='adam', tol=0.0001, validation_fraction=0.1, verbose=False,\n",
      "       warm_start=False),\n",
      " 'false negative': 62,\n",
      " 'false positive': 0,\n",
      " 'test_pred_pct_fraud': 0.0,\n",
      " 'test_score': 0.938061938061938,\n",
      " 'train_pred_pct_fraud': 0.0,\n",
      " 'train_score': 0.93875,\n",
      " 'true negative': 939,\n",
      " 'true positive': 0}\n",
      "Confusion Matrix:\n",
      " [[939   0]\n",
      " [ 62   0]]\n"
     ]
    }
   ],
   "source": [
    "run_model(\"Neural Net - Imbalanced Data\", clf, train_encoded, test_encoded)"
   ]
  },
  {
   "cell_type": "markdown",
   "metadata": {},
   "source": [
    "### Undersampled Data"
   ]
  },
  {
   "cell_type": "markdown",
   "metadata": {},
   "source": [
    "#### Decision Tree"
   ]
  },
  {
   "cell_type": "code",
   "execution_count": 57,
   "metadata": {},
   "outputs": [],
   "source": [
    "from sklearn.tree import DecisionTreeClassifier"
   ]
  },
  {
   "cell_type": "code",
   "execution_count": 58,
   "metadata": {},
   "outputs": [],
   "source": [
    "clf = DecisionTreeClassifier(random_state=RANDOM_STATE,\n",
    "                            max_depth=5\n",
    "                            )"
   ]
  },
  {
   "cell_type": "code",
   "execution_count": 59,
   "metadata": {},
   "outputs": [
    {
     "name": "stdout",
     "output_type": "stream",
     "text": [
      "{'clf': DecisionTreeClassifier(class_weight=None, criterion='gini', max_depth=5,\n",
      "            max_features=None, max_leaf_nodes=None,\n",
      "            min_impurity_decrease=0.0, min_impurity_split=None,\n",
      "            min_samples_leaf=1, min_samples_split=2,\n",
      "            min_weight_fraction_leaf=0.0, presort=False, random_state=0,\n",
      "            splitter='best'),\n",
      " 'false negative': 1,\n",
      " 'false positive': 413,\n",
      " 'test_pred_pct_fraud': 0.47352647352647353,\n",
      " 'test_score': 0.5864135864135864,\n",
      " 'train_pred_pct_fraud': 0.7,\n",
      " 'train_score': 0.7918367346938775,\n",
      " 'true negative': 526,\n",
      " 'true positive': 61}\n",
      "Confusion Matrix:\n",
      " [[526 413]\n",
      " [  1  61]]\n"
     ]
    }
   ],
   "source": [
    "run_model(\"Decision Tree - Under Sampled\", clf, under_sample, test_encoded)"
   ]
  },
  {
   "cell_type": "markdown",
   "metadata": {},
   "source": [
    "#### Gradient Boosting"
   ]
  },
  {
   "cell_type": "code",
   "execution_count": 60,
   "metadata": {},
   "outputs": [],
   "source": [
    "from sklearn.ensemble import GradientBoostingClassifier"
   ]
  },
  {
   "cell_type": "code",
   "execution_count": 61,
   "metadata": {},
   "outputs": [],
   "source": [
    "clf = GradientBoostingClassifier(random_state=RANDOM_STATE,\n",
    "                            max_depth=12\n",
    "                            )"
   ]
  },
  {
   "cell_type": "code",
   "execution_count": 62,
   "metadata": {},
   "outputs": [
    {
     "name": "stdout",
     "output_type": "stream",
     "text": [
      "{'clf': GradientBoostingClassifier(criterion='friedman_mse', init=None,\n",
      "              learning_rate=0.1, loss='deviance', max_depth=12,\n",
      "              max_features=None, max_leaf_nodes=None,\n",
      "              min_impurity_decrease=0.0, min_impurity_split=None,\n",
      "              min_samples_leaf=1, min_samples_split=2,\n",
      "              min_weight_fraction_leaf=0.0, n_estimators=100,\n",
      "              presort='auto', random_state=0, subsample=1.0, verbose=0,\n",
      "              warm_start=False),\n",
      " 'false negative': 12,\n",
      " 'false positive': 303,\n",
      " 'test_pred_pct_fraud': 0.35264735264735264,\n",
      " 'test_score': 0.6853146853146853,\n",
      " 'train_pred_pct_fraud': 0.5,\n",
      " 'train_score': 1.0,\n",
      " 'true negative': 636,\n",
      " 'true positive': 50}\n",
      "Confusion Matrix:\n",
      " [[636 303]\n",
      " [ 12  50]]\n"
     ]
    }
   ],
   "source": [
    "run_model(\"Gradient Boosting - Under Sampled\", clf, under_sample, test_encoded)"
   ]
  },
  {
   "cell_type": "markdown",
   "metadata": {},
   "source": [
    "#### Logistic Regression"
   ]
  },
  {
   "cell_type": "code",
   "execution_count": 63,
   "metadata": {},
   "outputs": [],
   "source": [
    "from sklearn.linear_model import LogisticRegression"
   ]
  },
  {
   "cell_type": "code",
   "execution_count": 64,
   "metadata": {},
   "outputs": [],
   "source": [
    "clf = LogisticRegression(random_state=RANDOM_STATE)"
   ]
  },
  {
   "cell_type": "code",
   "execution_count": 65,
   "metadata": {},
   "outputs": [
    {
     "name": "stdout",
     "output_type": "stream",
     "text": [
      "{'clf': LogisticRegression(C=1.0, class_weight=None, dual=False, fit_intercept=True,\n",
      "          intercept_scaling=1, max_iter=100, multi_class='ovr', n_jobs=1,\n",
      "          penalty='l2', random_state=0, solver='liblinear', tol=0.0001,\n",
      "          verbose=0, warm_start=False),\n",
      " 'false negative': 13,\n",
      " 'false positive': 310,\n",
      " 'test_pred_pct_fraud': 0.35864135864135865,\n",
      " 'test_score': 0.6773226773226774,\n",
      " 'train_pred_pct_fraud': 0.5673469387755102,\n",
      " 'train_score': 0.7979591836734694,\n",
      " 'true negative': 629,\n",
      " 'true positive': 49}\n",
      "Confusion Matrix:\n",
      " [[629 310]\n",
      " [ 13  49]]\n"
     ]
    }
   ],
   "source": [
    "run_model(\"Logistic Regression - Under Sampled\", clf, under_sample, test_encoded)"
   ]
  },
  {
   "cell_type": "markdown",
   "metadata": {},
   "source": [
    "#### Neural Network"
   ]
  },
  {
   "cell_type": "code",
   "execution_count": 66,
   "metadata": {},
   "outputs": [],
   "source": [
    "from sklearn.neural_network import MLPClassifier"
   ]
  },
  {
   "cell_type": "code",
   "execution_count": 67,
   "metadata": {},
   "outputs": [],
   "source": [
    "clf = MLPClassifier(random_state=RANDOM_STATE)"
   ]
  },
  {
   "cell_type": "code",
   "execution_count": 68,
   "metadata": {
    "scrolled": true
   },
   "outputs": [
    {
     "name": "stdout",
     "output_type": "stream",
     "text": [
      "{'clf': MLPClassifier(activation='relu', alpha=0.0001, batch_size='auto', beta_1=0.9,\n",
      "       beta_2=0.999, early_stopping=False, epsilon=1e-08,\n",
      "       hidden_layer_sizes=(100,), learning_rate='constant',\n",
      "       learning_rate_init=0.001, max_iter=200, momentum=0.9,\n",
      "       nesterovs_momentum=True, power_t=0.5, random_state=0, shuffle=True,\n",
      "       solver='adam', tol=0.0001, validation_fraction=0.1, verbose=False,\n",
      "       warm_start=False),\n",
      " 'false negative': 4,\n",
      " 'false positive': 925,\n",
      " 'test_pred_pct_fraud': 0.9820179820179821,\n",
      " 'test_score': 0.07192807192807193,\n",
      " 'train_pred_pct_fraud': 0.9775510204081632,\n",
      " 'train_score': 0.5020408163265306,\n",
      " 'true negative': 14,\n",
      " 'true positive': 58}\n",
      "Confusion Matrix:\n",
      " [[ 14 925]\n",
      " [  4  58]]\n"
     ]
    }
   ],
   "source": [
    "run_model(\"Neural Net - Under Sampled\", clf, under_sample, test_encoded)"
   ]
  },
  {
   "cell_type": "markdown",
   "metadata": {},
   "source": [
    "#### Model Selection"
   ]
  },
  {
   "cell_type": "code",
   "execution_count": 69,
   "metadata": {},
   "outputs": [
    {
     "data": {
      "text/html": [
       "<div>\n",
       "<style scoped>\n",
       "    .dataframe tbody tr th:only-of-type {\n",
       "        vertical-align: middle;\n",
       "    }\n",
       "\n",
       "    .dataframe tbody tr th {\n",
       "        vertical-align: top;\n",
       "    }\n",
       "\n",
       "    .dataframe thead th {\n",
       "        text-align: right;\n",
       "    }\n",
       "</style>\n",
       "<table border=\"1\" class=\"dataframe\">\n",
       "  <thead>\n",
       "    <tr style=\"text-align: right;\">\n",
       "      <th></th>\n",
       "      <th>clf</th>\n",
       "      <th>false negative</th>\n",
       "      <th>false positive</th>\n",
       "      <th>test_pred_pct_fraud</th>\n",
       "      <th>test_score</th>\n",
       "      <th>train_pred_pct_fraud</th>\n",
       "      <th>train_score</th>\n",
       "      <th>true negative</th>\n",
       "      <th>true positive</th>\n",
       "    </tr>\n",
       "  </thead>\n",
       "  <tbody>\n",
       "    <tr>\n",
       "      <th>Simple Model</th>\n",
       "      <td>Predicts non-fraud for everyone</td>\n",
       "      <td>62</td>\n",
       "      <td>0</td>\n",
       "      <td>0</td>\n",
       "      <td>0.938062</td>\n",
       "      <td>0</td>\n",
       "      <td>0.93875</td>\n",
       "      <td>939</td>\n",
       "      <td>0</td>\n",
       "    </tr>\n",
       "    <tr>\n",
       "      <th>Decision Tree - Imbalanced Data</th>\n",
       "      <td>DecisionTreeClassifier(class_weight=None, crit...</td>\n",
       "      <td>62</td>\n",
       "      <td>3</td>\n",
       "      <td>0.002997</td>\n",
       "      <td>0.935065</td>\n",
       "      <td>0.0015</td>\n",
       "      <td>0.94025</td>\n",
       "      <td>936</td>\n",
       "      <td>0</td>\n",
       "    </tr>\n",
       "    <tr>\n",
       "      <th>Gradient Boosting - Imbalanced Data</th>\n",
       "      <td>([DecisionTreeRegressor(criterion='friedman_ms...</td>\n",
       "      <td>61</td>\n",
       "      <td>5</td>\n",
       "      <td>0.00599401</td>\n",
       "      <td>0.934066</td>\n",
       "      <td>0.06125</td>\n",
       "      <td>1</td>\n",
       "      <td>934</td>\n",
       "      <td>1</td>\n",
       "    </tr>\n",
       "    <tr>\n",
       "      <th>Logistic Regression - Imbalanced Data</th>\n",
       "      <td>LogisticRegression(C=1.0, class_weight=None, d...</td>\n",
       "      <td>62</td>\n",
       "      <td>0</td>\n",
       "      <td>0</td>\n",
       "      <td>0.938062</td>\n",
       "      <td>0</td>\n",
       "      <td>0.93875</td>\n",
       "      <td>939</td>\n",
       "      <td>0</td>\n",
       "    </tr>\n",
       "    <tr>\n",
       "      <th>Neural Net - Imbalanced Data</th>\n",
       "      <td>MLPClassifier(activation='relu', alpha=0.0001,...</td>\n",
       "      <td>62</td>\n",
       "      <td>0</td>\n",
       "      <td>0</td>\n",
       "      <td>0.938062</td>\n",
       "      <td>0</td>\n",
       "      <td>0.93875</td>\n",
       "      <td>939</td>\n",
       "      <td>0</td>\n",
       "    </tr>\n",
       "    <tr>\n",
       "      <th>Decision Tree - Under Sampled</th>\n",
       "      <td>DecisionTreeClassifier(class_weight=None, crit...</td>\n",
       "      <td>1</td>\n",
       "      <td>413</td>\n",
       "      <td>0.473526</td>\n",
       "      <td>0.586414</td>\n",
       "      <td>0.7</td>\n",
       "      <td>0.791837</td>\n",
       "      <td>526</td>\n",
       "      <td>61</td>\n",
       "    </tr>\n",
       "    <tr>\n",
       "      <th>Gradient Boosting - Under Sampled</th>\n",
       "      <td>([DecisionTreeRegressor(criterion='friedman_ms...</td>\n",
       "      <td>12</td>\n",
       "      <td>303</td>\n",
       "      <td>0.352647</td>\n",
       "      <td>0.685315</td>\n",
       "      <td>0.5</td>\n",
       "      <td>1</td>\n",
       "      <td>636</td>\n",
       "      <td>50</td>\n",
       "    </tr>\n",
       "    <tr>\n",
       "      <th>Logistic Regression - Under Sampled</th>\n",
       "      <td>LogisticRegression(C=1.0, class_weight=None, d...</td>\n",
       "      <td>13</td>\n",
       "      <td>310</td>\n",
       "      <td>0.358641</td>\n",
       "      <td>0.677323</td>\n",
       "      <td>0.567347</td>\n",
       "      <td>0.797959</td>\n",
       "      <td>629</td>\n",
       "      <td>49</td>\n",
       "    </tr>\n",
       "    <tr>\n",
       "      <th>Neural Net - Under Sampled</th>\n",
       "      <td>MLPClassifier(activation='relu', alpha=0.0001,...</td>\n",
       "      <td>4</td>\n",
       "      <td>925</td>\n",
       "      <td>0.982018</td>\n",
       "      <td>0.0719281</td>\n",
       "      <td>0.977551</td>\n",
       "      <td>0.502041</td>\n",
       "      <td>14</td>\n",
       "      <td>58</td>\n",
       "    </tr>\n",
       "  </tbody>\n",
       "</table>\n",
       "</div>"
      ],
      "text/plain": [
       "                                                                                     clf  \\\n",
       "Simple Model                                             Predicts non-fraud for everyone   \n",
       "Decision Tree - Imbalanced Data        DecisionTreeClassifier(class_weight=None, crit...   \n",
       "Gradient Boosting - Imbalanced Data    ([DecisionTreeRegressor(criterion='friedman_ms...   \n",
       "Logistic Regression - Imbalanced Data  LogisticRegression(C=1.0, class_weight=None, d...   \n",
       "Neural Net - Imbalanced Data           MLPClassifier(activation='relu', alpha=0.0001,...   \n",
       "Decision Tree - Under Sampled          DecisionTreeClassifier(class_weight=None, crit...   \n",
       "Gradient Boosting - Under Sampled      ([DecisionTreeRegressor(criterion='friedman_ms...   \n",
       "Logistic Regression - Under Sampled    LogisticRegression(C=1.0, class_weight=None, d...   \n",
       "Neural Net - Under Sampled             MLPClassifier(activation='relu', alpha=0.0001,...   \n",
       "\n",
       "                                      false negative false positive  \\\n",
       "Simple Model                                      62              0   \n",
       "Decision Tree - Imbalanced Data                   62              3   \n",
       "Gradient Boosting - Imbalanced Data               61              5   \n",
       "Logistic Regression - Imbalanced Data             62              0   \n",
       "Neural Net - Imbalanced Data                      62              0   \n",
       "Decision Tree - Under Sampled                      1            413   \n",
       "Gradient Boosting - Under Sampled                 12            303   \n",
       "Logistic Regression - Under Sampled               13            310   \n",
       "Neural Net - Under Sampled                         4            925   \n",
       "\n",
       "                                      test_pred_pct_fraud test_score  \\\n",
       "Simple Model                                            0   0.938062   \n",
       "Decision Tree - Imbalanced Data                  0.002997   0.935065   \n",
       "Gradient Boosting - Imbalanced Data            0.00599401   0.934066   \n",
       "Logistic Regression - Imbalanced Data                   0   0.938062   \n",
       "Neural Net - Imbalanced Data                            0   0.938062   \n",
       "Decision Tree - Under Sampled                    0.473526   0.586414   \n",
       "Gradient Boosting - Under Sampled                0.352647   0.685315   \n",
       "Logistic Regression - Under Sampled              0.358641   0.677323   \n",
       "Neural Net - Under Sampled                       0.982018  0.0719281   \n",
       "\n",
       "                                      train_pred_pct_fraud train_score  \\\n",
       "Simple Model                                             0     0.93875   \n",
       "Decision Tree - Imbalanced Data                     0.0015     0.94025   \n",
       "Gradient Boosting - Imbalanced Data                0.06125           1   \n",
       "Logistic Regression - Imbalanced Data                    0     0.93875   \n",
       "Neural Net - Imbalanced Data                             0     0.93875   \n",
       "Decision Tree - Under Sampled                          0.7    0.791837   \n",
       "Gradient Boosting - Under Sampled                      0.5           1   \n",
       "Logistic Regression - Under Sampled               0.567347    0.797959   \n",
       "Neural Net - Under Sampled                        0.977551    0.502041   \n",
       "\n",
       "                                      true negative true positive  \n",
       "Simple Model                                    939             0  \n",
       "Decision Tree - Imbalanced Data                 936             0  \n",
       "Gradient Boosting - Imbalanced Data             934             1  \n",
       "Logistic Regression - Imbalanced Data           939             0  \n",
       "Neural Net - Imbalanced Data                    939             0  \n",
       "Decision Tree - Under Sampled                   526            61  \n",
       "Gradient Boosting - Under Sampled               636            50  \n",
       "Logistic Regression - Under Sampled             629            49  \n",
       "Neural Net - Under Sampled                       14            58  "
      ]
     },
     "execution_count": 69,
     "metadata": {},
     "output_type": "execute_result"
    }
   ],
   "source": [
    "pd.DataFrame(models).transpose()"
   ]
  },
  {
   "cell_type": "code",
   "execution_count": null,
   "metadata": {},
   "outputs": [],
   "source": []
  },
  {
   "cell_type": "code",
   "execution_count": null,
   "metadata": {},
   "outputs": [],
   "source": []
  }
 ],
 "metadata": {
  "kernelspec": {
   "display_name": "Python 3",
   "language": "python",
   "name": "python3"
  },
  "language_info": {
   "codemirror_mode": {
    "name": "ipython",
    "version": 3
   },
   "file_extension": ".py",
   "mimetype": "text/x-python",
   "name": "python",
   "nbconvert_exporter": "python",
   "pygments_lexer": "ipython3",
   "version": "3.7.0"
  }
 },
 "nbformat": 4,
 "nbformat_minor": 2
}
