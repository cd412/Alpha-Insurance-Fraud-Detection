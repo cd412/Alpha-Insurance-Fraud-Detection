{
 "cells": [
  {
   "cell_type": "markdown",
   "metadata": {},
   "source": [
    "## Alpha Insurance Modeling Notebook\n",
    "#### This notebook is used for modeling and prediction\n"
   ]
  },
  {
   "cell_type": "markdown",
   "metadata": {},
   "source": [
    "#### Importing Packages"
   ]
  },
  {
   "cell_type": "code",
   "execution_count": 1,
   "metadata": {},
   "outputs": [],
   "source": [
    "import numpy as np\n",
    "import pandas as pd\n",
    "# import missingno as msno\n",
    "import matplotlib.pyplot as plt\n",
    "import seaborn as sns\n",
    "from pprint import pprint\n",
    "# Global variables\n",
    "RANDOM_STATE = 0"
   ]
  },
  {
   "cell_type": "markdown",
   "metadata": {},
   "source": [
    "## Import"
   ]
  },
  {
   "cell_type": "code",
   "execution_count": 2,
   "metadata": {},
   "outputs": [],
   "source": [
    "#import statsmodels.api as sm\n",
    "#from statsmodels.formula.api import ols\n",
    "\n",
    "#def anova_test(x, data=data_train):\n",
    "#    mod = ols('Fraudulent_Claim ~ {}'.format(x), data=data).fit()\n",
    "#    aov_table = sm.stats.anova_lm(mod, tpy=2)\n",
    "#    print(aov_table)"
   ]
  },
  {
   "cell_type": "code",
   "execution_count": 3,
   "metadata": {},
   "outputs": [],
   "source": [
    "#anova_test('State_Code')"
   ]
  },
  {
   "cell_type": "code",
   "execution_count": 4,
   "metadata": {},
   "outputs": [],
   "source": [
    "dtype = {\n",
    " 'Annual_Premium': 'int64',\n",
    " 'Claim_Amount': 'float64',\n",
    " 'Claim_Cause': 'category',\n",
    " 'Claim_Date': 'category',\n",
    " 'Claim_Report_Type': 'category',\n",
    " 'Claimant__Number': 'int64',\n",
    " 'Education': 'category',\n",
    " 'Employment_Status': 'category',\n",
    " 'Fraudulent_Claim': 'category',\n",
    " 'Gender': 'category',\n",
    " 'Income': 'int64',\n",
    " 'Location': 'category',\n",
    " 'Marital_Status': 'category',\n",
    " 'Monthly_Premium': 'int64',\n",
    " 'Months_Since_Last_Claim': 'int64',\n",
    " 'Months_Since_Policy_Inception': 'int64',\n",
    " 'Outstanding_Balance': 'float64',\n",
    " 'State': 'category',\n",
    " 'State_Code': 'category',\n",
    " 'Vehicle_Class': 'category',\n",
    " 'Vehicle_Model': 'category',\n",
    " 'Vehicle_Size': 'category'}\n",
    "    \n",
    "df0 = pd.read_csv('claim_data_v2_train.csv', dtype=dtype, usecols=[*dtype])"
   ]
  },
  {
   "cell_type": "code",
   "execution_count": 5,
   "metadata": {
    "scrolled": true
   },
   "outputs": [
    {
     "data": {
      "text/html": [
       "<div>\n",
       "<style scoped>\n",
       "    .dataframe tbody tr th:only-of-type {\n",
       "        vertical-align: middle;\n",
       "    }\n",
       "\n",
       "    .dataframe tbody tr th {\n",
       "        vertical-align: top;\n",
       "    }\n",
       "\n",
       "    .dataframe thead th {\n",
       "        text-align: right;\n",
       "    }\n",
       "</style>\n",
       "<table border=\"1\" class=\"dataframe\">\n",
       "  <thead>\n",
       "    <tr style=\"text-align: right;\">\n",
       "      <th></th>\n",
       "      <th>State_Code</th>\n",
       "      <th>State</th>\n",
       "      <th>Claim_Amount</th>\n",
       "      <th>Education</th>\n",
       "      <th>Claim_Date</th>\n",
       "      <th>Employment_Status</th>\n",
       "      <th>Gender</th>\n",
       "      <th>Income</th>\n",
       "      <th>Location</th>\n",
       "      <th>Marital_Status</th>\n",
       "      <th>...</th>\n",
       "      <th>Months_Since_Last_Claim</th>\n",
       "      <th>Months_Since_Policy_Inception</th>\n",
       "      <th>Claim_Cause</th>\n",
       "      <th>Claim_Report_Type</th>\n",
       "      <th>Vehicle_Class</th>\n",
       "      <th>Vehicle_Size</th>\n",
       "      <th>Vehicle_Model</th>\n",
       "      <th>Outstanding_Balance</th>\n",
       "      <th>Fraudulent_Claim</th>\n",
       "      <th>Claimant__Number</th>\n",
       "    </tr>\n",
       "  </thead>\n",
       "  <tbody>\n",
       "    <tr>\n",
       "      <th>0</th>\n",
       "      <td>KS</td>\n",
       "      <td>Kansas</td>\n",
       "      <td>575.560000</td>\n",
       "      <td>Bachelor</td>\n",
       "      <td>12/01/2018</td>\n",
       "      <td>Employed</td>\n",
       "      <td>F</td>\n",
       "      <td>56274</td>\n",
       "      <td>Suburban</td>\n",
       "      <td>Married</td>\n",
       "      <td>...</td>\n",
       "      <td>32</td>\n",
       "      <td>5</td>\n",
       "      <td>Collision</td>\n",
       "      <td>Agent</td>\n",
       "      <td>Two-Door Car</td>\n",
       "      <td>Midsize</td>\n",
       "      <td>Toyota</td>\n",
       "      <td>25781.0</td>\n",
       "      <td>N</td>\n",
       "      <td>1001</td>\n",
       "    </tr>\n",
       "    <tr>\n",
       "      <th>1</th>\n",
       "      <td>NE</td>\n",
       "      <td>Nebraska</td>\n",
       "      <td>697.953590</td>\n",
       "      <td>Bachelor</td>\n",
       "      <td>12/01/2018</td>\n",
       "      <td>Unemployed</td>\n",
       "      <td>F</td>\n",
       "      <td>0</td>\n",
       "      <td>NaN</td>\n",
       "      <td>Single</td>\n",
       "      <td>...</td>\n",
       "      <td>13</td>\n",
       "      <td>42</td>\n",
       "      <td>Scratch/Dent</td>\n",
       "      <td>Agent</td>\n",
       "      <td>Four-Door Car</td>\n",
       "      <td>Midsize</td>\n",
       "      <td>Chevrolet</td>\n",
       "      <td>37061.0</td>\n",
       "      <td>N</td>\n",
       "      <td>1002</td>\n",
       "    </tr>\n",
       "    <tr>\n",
       "      <th>2</th>\n",
       "      <td>OK</td>\n",
       "      <td>Oklahoma</td>\n",
       "      <td>1288.743165</td>\n",
       "      <td>Bachelor</td>\n",
       "      <td>12/01/2018</td>\n",
       "      <td>Employed</td>\n",
       "      <td>F</td>\n",
       "      <td>48767</td>\n",
       "      <td>Suburban</td>\n",
       "      <td>Married</td>\n",
       "      <td>...</td>\n",
       "      <td>18</td>\n",
       "      <td>38</td>\n",
       "      <td>Collision</td>\n",
       "      <td>Agent</td>\n",
       "      <td>Two-Door Car</td>\n",
       "      <td>Midsize</td>\n",
       "      <td>Chevrolet</td>\n",
       "      <td>17236.0</td>\n",
       "      <td>N</td>\n",
       "      <td>1003</td>\n",
       "    </tr>\n",
       "    <tr>\n",
       "      <th>3</th>\n",
       "      <td>MO</td>\n",
       "      <td>Missouri</td>\n",
       "      <td>764.586183</td>\n",
       "      <td>Bachelor</td>\n",
       "      <td>12/01/2018</td>\n",
       "      <td>Unemployed</td>\n",
       "      <td>M</td>\n",
       "      <td>0</td>\n",
       "      <td>Suburban</td>\n",
       "      <td>Married</td>\n",
       "      <td>...</td>\n",
       "      <td>18</td>\n",
       "      <td>65</td>\n",
       "      <td>Collision</td>\n",
       "      <td>Call Center</td>\n",
       "      <td>SUV</td>\n",
       "      <td>Midsize</td>\n",
       "      <td>Honda</td>\n",
       "      <td>30270.0</td>\n",
       "      <td>N</td>\n",
       "      <td>1004</td>\n",
       "    </tr>\n",
       "    <tr>\n",
       "      <th>4</th>\n",
       "      <td>KS</td>\n",
       "      <td>Kansas</td>\n",
       "      <td>281.369258</td>\n",
       "      <td>Bachelor</td>\n",
       "      <td>12/01/2018</td>\n",
       "      <td>Employed</td>\n",
       "      <td>M</td>\n",
       "      <td>43836</td>\n",
       "      <td>Rural</td>\n",
       "      <td>Single</td>\n",
       "      <td>...</td>\n",
       "      <td>52</td>\n",
       "      <td>44</td>\n",
       "      <td>Collision</td>\n",
       "      <td>Agent</td>\n",
       "      <td>Four-Door Car</td>\n",
       "      <td>Midsize</td>\n",
       "      <td>Ford</td>\n",
       "      <td>16263.0</td>\n",
       "      <td>N</td>\n",
       "      <td>1005</td>\n",
       "    </tr>\n",
       "  </tbody>\n",
       "</table>\n",
       "<p>5 rows × 22 columns</p>\n",
       "</div>"
      ],
      "text/plain": [
       "  State_Code     State  Claim_Amount Education  Claim_Date Employment_Status  \\\n",
       "0         KS    Kansas    575.560000  Bachelor  12/01/2018          Employed   \n",
       "1         NE  Nebraska    697.953590  Bachelor  12/01/2018        Unemployed   \n",
       "2         OK  Oklahoma   1288.743165  Bachelor  12/01/2018          Employed   \n",
       "3         MO  Missouri    764.586183  Bachelor  12/01/2018        Unemployed   \n",
       "4         KS    Kansas    281.369258  Bachelor  12/01/2018          Employed   \n",
       "\n",
       "  Gender  Income  Location Marital_Status        ...         \\\n",
       "0      F   56274  Suburban        Married        ...          \n",
       "1      F       0       NaN         Single        ...          \n",
       "2      F   48767  Suburban        Married        ...          \n",
       "3      M       0  Suburban        Married        ...          \n",
       "4      M   43836     Rural         Single        ...          \n",
       "\n",
       "   Months_Since_Last_Claim  Months_Since_Policy_Inception   Claim_Cause  \\\n",
       "0                       32                              5     Collision   \n",
       "1                       13                             42  Scratch/Dent   \n",
       "2                       18                             38     Collision   \n",
       "3                       18                             65     Collision   \n",
       "4                       52                             44     Collision   \n",
       "\n",
       "   Claim_Report_Type  Vehicle_Class Vehicle_Size Vehicle_Model  \\\n",
       "0              Agent   Two-Door Car      Midsize        Toyota   \n",
       "1              Agent  Four-Door Car      Midsize     Chevrolet   \n",
       "2              Agent   Two-Door Car      Midsize     Chevrolet   \n",
       "3        Call Center            SUV      Midsize         Honda   \n",
       "4              Agent  Four-Door Car      Midsize          Ford   \n",
       "\n",
       "  Outstanding_Balance Fraudulent_Claim  Claimant__Number  \n",
       "0             25781.0                N              1001  \n",
       "1             37061.0                N              1002  \n",
       "2             17236.0                N              1003  \n",
       "3             30270.0                N              1004  \n",
       "4             16263.0                N              1005  \n",
       "\n",
       "[5 rows x 22 columns]"
      ]
     },
     "execution_count": 5,
     "metadata": {},
     "output_type": "execute_result"
    }
   ],
   "source": [
    "df0.head()"
   ]
  },
  {
   "cell_type": "code",
   "execution_count": 6,
   "metadata": {},
   "outputs": [
    {
     "data": {
      "text/plain": [
       "Index(['State_Code', 'State', 'Claim_Amount', 'Education', 'Claim_Date',\n",
       "       'Employment_Status', 'Gender', 'Income', 'Location', 'Marital_Status',\n",
       "       'Monthly_Premium', 'Annual_Premium', 'Months_Since_Last_Claim',\n",
       "       'Months_Since_Policy_Inception', 'Claim_Cause', 'Claim_Report_Type',\n",
       "       'Vehicle_Class', 'Vehicle_Size', 'Vehicle_Model', 'Outstanding_Balance',\n",
       "       'Fraudulent_Claim', 'Claimant__Number'],\n",
       "      dtype='object')"
      ]
     },
     "execution_count": 6,
     "metadata": {},
     "output_type": "execute_result"
    }
   ],
   "source": [
    "df0.columns"
   ]
  },
  {
   "cell_type": "markdown",
   "metadata": {},
   "source": [
    "#### Data Exploration was completed in separate notebooks for easier organization"
   ]
  },
  {
   "cell_type": "code",
   "execution_count": null,
   "metadata": {},
   "outputs": [],
   "source": []
  },
  {
   "cell_type": "markdown",
   "metadata": {},
   "source": [
    "## Test Train Split"
   ]
  },
  {
   "cell_type": "code",
   "execution_count": 7,
   "metadata": {},
   "outputs": [],
   "source": [
    "from sklearn.model_selection import train_test_split \n",
    "\n",
    "num_test = 0.20 \n",
    "\n",
    "data_train0, data_test0 = train_test_split(df0, test_size=num_test, random_state=RANDOM_STATE)"
   ]
  },
  {
   "cell_type": "code",
   "execution_count": 8,
   "metadata": {},
   "outputs": [
    {
     "data": {
      "text/plain": [
       "(4000, 22)"
      ]
     },
     "execution_count": 8,
     "metadata": {},
     "output_type": "execute_result"
    }
   ],
   "source": [
    "data_train0.shape"
   ]
  },
  {
   "cell_type": "code",
   "execution_count": 9,
   "metadata": {},
   "outputs": [
    {
     "data": {
      "text/plain": [
       "(1001, 22)"
      ]
     },
     "execution_count": 9,
     "metadata": {},
     "output_type": "execute_result"
    }
   ],
   "source": [
    "data_test0.shape"
   ]
  },
  {
   "cell_type": "code",
   "execution_count": 10,
   "metadata": {},
   "outputs": [],
   "source": [
    "data_train0.to_csv(\"data_train0.csv\")\n",
    "data_test0.to_csv(\"data_test0.csv\")"
   ]
  },
  {
   "cell_type": "markdown",
   "metadata": {},
   "source": [
    "## Tranformations and Encoding\n",
    "#### The coding before allows us to create functions to simplify, modify, and manipulate the data for better modeling and predicting. There are variables that we simplify, create bins for, change to 1,0 values etc."
   ]
  },
  {
   "cell_type": "code",
   "execution_count": 11,
   "metadata": {},
   "outputs": [],
   "source": [
    "def encode_target(df):\n",
    "    # Convert Fraud Claim data from Y/N to 1/0\n",
    "    df['Fraudulent_Claim'] = df['Fraudulent_Claim'].replace(('Y', 'N'), (1, 0))\n",
    "    return df"
   ]
  },
  {
   "cell_type": "code",
   "execution_count": 12,
   "metadata": {},
   "outputs": [],
   "source": [
    "def encode_gender(df):\n",
    "    # Convert Gender data from M/F to 1/0\n",
    "    df['Gender'] = df['Gender'].replace(('M', 'F'), (1, 0))\n",
    "    return df"
   ]
  },
  {
   "cell_type": "code",
   "execution_count": 13,
   "metadata": {},
   "outputs": [],
   "source": [
    "def simplify_employee(df):\n",
    "    # Fill missing values with mode\n",
    "    df['Employment_Status'] = df['Employment_Status'].fillna('Employed')\n",
    "    \n",
    "    # Encode as numeric representing years of schooling\n",
    "    encode = {'Employed': 'Employed',\n",
    "              'Unemployed': 'Unemployed',\n",
    "              'Disabled': 'Employed',\n",
    "              'Medical Leave': 'Medical Leave',\n",
    "              'Retired': 'Retired'}\n",
    "    \n",
    "    df['Employment_Status'] = df['Employment_Status'].map(encode)\n",
    "    return df"
   ]
  },
  {
   "cell_type": "code",
   "execution_count": 14,
   "metadata": {},
   "outputs": [],
   "source": [
    "def encode_marital(df):\n",
    "    # Convert Marital_Status data from Single/Married/Divorced to 0/1/2\n",
    "    df['Marital_Status'] = df['Marital_Status'].replace(('Married', 'Single', 'Divorced'), (1, 0, 2))\n",
    "    return df"
   ]
  },
  {
   "cell_type": "code",
   "execution_count": 15,
   "metadata": {},
   "outputs": [],
   "source": [
    "def encode_vsize(df):\n",
    "    # Convert Vehicle Size from Compact, Midsize, and Luxury to 1, 2, and 3\n",
    "    df['Vehicle_Size'] = df['Vehicle_Size'].replace(('Compact', 'Midsize', 'Luxury'), (1,2,3))\n",
    "    return df"
   ]
  },
  {
   "cell_type": "code",
   "execution_count": 16,
   "metadata": {},
   "outputs": [],
   "source": [
    "def simplify_claim_amount(df):\n",
    "    # Apply a log transformation to claim amount\n",
    "    df['Claim_Amount'] = df['Claim_Amount'].apply(np.log)\n",
    "    return df"
   ]
  },
  {
   "cell_type": "code",
   "execution_count": 17,
   "metadata": {},
   "outputs": [],
   "source": [
    "def simplify_income(df):\n",
    "    # Simplify income into bins\n",
    "    bins = (-1, 10000, 50000, 90000, 999999999) \n",
    "    group_names = [0, 1, 2, 3] \n",
    "    categories = pd.cut(df['Income'], bins, labels=group_names) \n",
    "    df['Income'] = categories.astype('int8')\n",
    "    return df"
   ]
  },
  {
   "cell_type": "code",
   "execution_count": 18,
   "metadata": {},
   "outputs": [],
   "source": [
    "def simplify_location(df):\n",
    "    # Fill missing values with mode\n",
    "    df['Location'] = df['Location'].fillna('Suburban')\n",
    "    return df"
   ]
  },
  {
   "cell_type": "code",
   "execution_count": 19,
   "metadata": {},
   "outputs": [],
   "source": [
    "def simplify_outstanding_balance(df):\n",
    "    # Fill missing values with 0 meaning there is no outstanding balance\n",
    "    df['Outstanding_Balance'] = df['Outstanding_Balance'].fillna(0)\n",
    "    return df"
   ]
  },
  {
   "cell_type": "code",
   "execution_count": 20,
   "metadata": {},
   "outputs": [],
   "source": [
    "def simplify_education(df):\n",
    "    # Fill missing values with mode\n",
    "    df['Education'] = df['Education'].fillna('College')\n",
    "    \n",
    "    # Encode as numeric representing years of schooling\n",
    "    encode = {'High School or Below': 'High School or Below',\n",
    "              'College': 'College',\n",
    "              'Bachelor': 'Bachelor',\n",
    "              'Master': 'Graduate',\n",
    "              'Doctor': 'Graduate'}\n",
    "\n",
    "    df['Education'] = df['Education'].map(encode)\n",
    "    return df"
   ]
  },
  {
   "cell_type": "code",
   "execution_count": 21,
   "metadata": {},
   "outputs": [],
   "source": [
    "def simplify_claim_cause(df):\n",
    "\n",
    "    # Encode as numeric representing years of schooling\n",
    "    encode = {'Collision': 'Collision',\n",
    "              'Hail': 'Hail',\n",
    "              'Scratch/Dent': 'Scratch/Dent',\n",
    "              'Other': 'Other',\n",
    "              'Fire': 'Fire'}\n",
    "\n",
    "    df['Claim_Cause'] = df['Claim_Cause'].map(encode)\n",
    "    return df"
   ]
  },
  {
   "cell_type": "code",
   "execution_count": 22,
   "metadata": {},
   "outputs": [],
   "source": [
    "def drop_features(df):\n",
    "    features = ['State', 'Annual_Premium', 'Vehicle_Model']\n",
    "    df = df.drop(features, axis='columns')\n",
    "    return df"
   ]
  },
  {
   "cell_type": "markdown",
   "metadata": {},
   "source": [
    "#### The code below is what transforms the data based on the code blocks above"
   ]
  },
  {
   "cell_type": "code",
   "execution_count": 23,
   "metadata": {},
   "outputs": [],
   "source": [
    "def transform_features(df):\n",
    "    df = encode_target(df)\n",
    "    df = encode_gender(df)\n",
    "    df = simplify_employee(df)\n",
    "    df = encode_marital(df)\n",
    "    df = encode_vsize(df)\n",
    "    df = simplify_claim_amount(df)\n",
    "    df = simplify_income(df)\n",
    "    df = simplify_location(df)\n",
    "    df = simplify_outstanding_balance(df)\n",
    "    df = simplify_education(df)\n",
    "    df = simplify_claim_cause(df)\n",
    "    df = drop_features(df)\n",
    "    return df"
   ]
  },
  {
   "cell_type": "code",
   "execution_count": 24,
   "metadata": {},
   "outputs": [],
   "source": [
    "data_train = transform_features(data_train0.copy(deep=True))"
   ]
  },
  {
   "cell_type": "code",
   "execution_count": 25,
   "metadata": {},
   "outputs": [],
   "source": [
    "data_test = transform_features(data_test0.copy(deep=True))"
   ]
  },
  {
   "cell_type": "markdown",
   "metadata": {},
   "source": [
    "#### Checking to see if missing values were filled correctly"
   ]
  },
  {
   "cell_type": "code",
   "execution_count": 26,
   "metadata": {
    "scrolled": true
   },
   "outputs": [
    {
     "data": {
      "text/plain": [
       "State_Code                       0\n",
       "Claim_Amount                     0\n",
       "Education                        0\n",
       "Claim_Date                       0\n",
       "Employment_Status                0\n",
       "Gender                           0\n",
       "Income                           0\n",
       "Location                         0\n",
       "Marital_Status                   0\n",
       "Monthly_Premium                  0\n",
       "Months_Since_Last_Claim          0\n",
       "Months_Since_Policy_Inception    0\n",
       "Claim_Cause                      0\n",
       "Claim_Report_Type                0\n",
       "Vehicle_Class                    0\n",
       "Vehicle_Size                     0\n",
       "Outstanding_Balance              0\n",
       "Fraudulent_Claim                 0\n",
       "Claimant__Number                 0\n",
       "dtype: int64"
      ]
     },
     "execution_count": 26,
     "metadata": {},
     "output_type": "execute_result"
    }
   ],
   "source": [
    "data_train.isna().sum()"
   ]
  },
  {
   "cell_type": "code",
   "execution_count": 27,
   "metadata": {},
   "outputs": [
    {
     "data": {
      "text/html": [
       "<div>\n",
       "<style scoped>\n",
       "    .dataframe tbody tr th:only-of-type {\n",
       "        vertical-align: middle;\n",
       "    }\n",
       "\n",
       "    .dataframe tbody tr th {\n",
       "        vertical-align: top;\n",
       "    }\n",
       "\n",
       "    .dataframe thead th {\n",
       "        text-align: right;\n",
       "    }\n",
       "</style>\n",
       "<table border=\"1\" class=\"dataframe\">\n",
       "  <thead>\n",
       "    <tr style=\"text-align: right;\">\n",
       "      <th></th>\n",
       "      <th>State_Code</th>\n",
       "      <th>Claim_Amount</th>\n",
       "      <th>Education</th>\n",
       "      <th>Claim_Date</th>\n",
       "      <th>Employment_Status</th>\n",
       "      <th>Gender</th>\n",
       "      <th>Income</th>\n",
       "      <th>Location</th>\n",
       "      <th>Marital_Status</th>\n",
       "      <th>Monthly_Premium</th>\n",
       "      <th>Months_Since_Last_Claim</th>\n",
       "      <th>Months_Since_Policy_Inception</th>\n",
       "      <th>Claim_Cause</th>\n",
       "      <th>Claim_Report_Type</th>\n",
       "      <th>Vehicle_Class</th>\n",
       "      <th>Vehicle_Size</th>\n",
       "      <th>Outstanding_Balance</th>\n",
       "      <th>Fraudulent_Claim</th>\n",
       "      <th>Claimant__Number</th>\n",
       "    </tr>\n",
       "  </thead>\n",
       "  <tbody>\n",
       "    <tr>\n",
       "      <th>2715</th>\n",
       "      <td>MO</td>\n",
       "      <td>6.506815</td>\n",
       "      <td>Graduate</td>\n",
       "      <td>12/15/2018</td>\n",
       "      <td>Employed</td>\n",
       "      <td>0</td>\n",
       "      <td>2</td>\n",
       "      <td>Rural</td>\n",
       "      <td>1</td>\n",
       "      <td>58</td>\n",
       "      <td>18</td>\n",
       "      <td>79</td>\n",
       "      <td>Hail</td>\n",
       "      <td>Call Center</td>\n",
       "      <td>Four-Door Car</td>\n",
       "      <td>2</td>\n",
       "      <td>30634.0</td>\n",
       "      <td>0</td>\n",
       "      <td>3716</td>\n",
       "    </tr>\n",
       "    <tr>\n",
       "      <th>788</th>\n",
       "      <td>IA</td>\n",
       "      <td>5.446624</td>\n",
       "      <td>College</td>\n",
       "      <td>12/01/2018</td>\n",
       "      <td>Unemployed</td>\n",
       "      <td>0</td>\n",
       "      <td>0</td>\n",
       "      <td>Suburban</td>\n",
       "      <td>0</td>\n",
       "      <td>104</td>\n",
       "      <td>31</td>\n",
       "      <td>53</td>\n",
       "      <td>Scratch/Dent</td>\n",
       "      <td>Branch</td>\n",
       "      <td>Four-Door Car</td>\n",
       "      <td>2</td>\n",
       "      <td>10658.0</td>\n",
       "      <td>0</td>\n",
       "      <td>1789</td>\n",
       "    </tr>\n",
       "    <tr>\n",
       "      <th>1457</th>\n",
       "      <td>MO</td>\n",
       "      <td>6.200470</td>\n",
       "      <td>High School or Below</td>\n",
       "      <td>12/01/2018</td>\n",
       "      <td>Unemployed</td>\n",
       "      <td>0</td>\n",
       "      <td>0</td>\n",
       "      <td>Suburban</td>\n",
       "      <td>0</td>\n",
       "      <td>91</td>\n",
       "      <td>25</td>\n",
       "      <td>21</td>\n",
       "      <td>Other</td>\n",
       "      <td>Call Center</td>\n",
       "      <td>Four-Door Car</td>\n",
       "      <td>2</td>\n",
       "      <td>41743.0</td>\n",
       "      <td>0</td>\n",
       "      <td>2458</td>\n",
       "    </tr>\n",
       "    <tr>\n",
       "      <th>3568</th>\n",
       "      <td>IA</td>\n",
       "      <td>6.046150</td>\n",
       "      <td>Bachelor</td>\n",
       "      <td>12/15/2018</td>\n",
       "      <td>Unemployed</td>\n",
       "      <td>1</td>\n",
       "      <td>0</td>\n",
       "      <td>Suburban</td>\n",
       "      <td>0</td>\n",
       "      <td>80</td>\n",
       "      <td>9</td>\n",
       "      <td>88</td>\n",
       "      <td>Collision</td>\n",
       "      <td>Call Center</td>\n",
       "      <td>Four-Door Car</td>\n",
       "      <td>2</td>\n",
       "      <td>46886.0</td>\n",
       "      <td>0</td>\n",
       "      <td>4569</td>\n",
       "    </tr>\n",
       "    <tr>\n",
       "      <th>3529</th>\n",
       "      <td>IA</td>\n",
       "      <td>6.571308</td>\n",
       "      <td>High School or Below</td>\n",
       "      <td>12/15/2018</td>\n",
       "      <td>Employed</td>\n",
       "      <td>1</td>\n",
       "      <td>2</td>\n",
       "      <td>Suburban</td>\n",
       "      <td>1</td>\n",
       "      <td>69</td>\n",
       "      <td>9</td>\n",
       "      <td>81</td>\n",
       "      <td>Other</td>\n",
       "      <td>Agent</td>\n",
       "      <td>Four-Door Car</td>\n",
       "      <td>3</td>\n",
       "      <td>45168.0</td>\n",
       "      <td>0</td>\n",
       "      <td>4530</td>\n",
       "    </tr>\n",
       "  </tbody>\n",
       "</table>\n",
       "</div>"
      ],
      "text/plain": [
       "     State_Code  Claim_Amount             Education  Claim_Date  \\\n",
       "2715         MO      6.506815              Graduate  12/15/2018   \n",
       "788          IA      5.446624               College  12/01/2018   \n",
       "1457         MO      6.200470  High School or Below  12/01/2018   \n",
       "3568         IA      6.046150              Bachelor  12/15/2018   \n",
       "3529         IA      6.571308  High School or Below  12/15/2018   \n",
       "\n",
       "     Employment_Status  Gender  Income  Location  Marital_Status  \\\n",
       "2715          Employed       0       2     Rural               1   \n",
       "788         Unemployed       0       0  Suburban               0   \n",
       "1457        Unemployed       0       0  Suburban               0   \n",
       "3568        Unemployed       1       0  Suburban               0   \n",
       "3529          Employed       1       2  Suburban               1   \n",
       "\n",
       "      Monthly_Premium  Months_Since_Last_Claim  Months_Since_Policy_Inception  \\\n",
       "2715               58                       18                             79   \n",
       "788               104                       31                             53   \n",
       "1457               91                       25                             21   \n",
       "3568               80                        9                             88   \n",
       "3529               69                        9                             81   \n",
       "\n",
       "       Claim_Cause Claim_Report_Type  Vehicle_Class  Vehicle_Size  \\\n",
       "2715          Hail       Call Center  Four-Door Car             2   \n",
       "788   Scratch/Dent            Branch  Four-Door Car             2   \n",
       "1457         Other       Call Center  Four-Door Car             2   \n",
       "3568     Collision       Call Center  Four-Door Car             2   \n",
       "3529         Other             Agent  Four-Door Car             3   \n",
       "\n",
       "      Outstanding_Balance  Fraudulent_Claim  Claimant__Number  \n",
       "2715              30634.0                 0              3716  \n",
       "788               10658.0                 0              1789  \n",
       "1457              41743.0                 0              2458  \n",
       "3568              46886.0                 0              4569  \n",
       "3529              45168.0                 0              4530  "
      ]
     },
     "execution_count": 27,
     "metadata": {},
     "output_type": "execute_result"
    }
   ],
   "source": [
    "data_train.head()"
   ]
  },
  {
   "cell_type": "code",
   "execution_count": 28,
   "metadata": {
    "scrolled": true
   },
   "outputs": [
    {
     "data": {
      "image/png": "[encoded data removed]",
      "text/plain": [
       "<Figure size 864x648 with 2 Axes>"
      ]
     },
     "metadata": {
      "needs_background": "light"
     },
     "output_type": "display_data"
    }
   ],
   "source": [
    "corrmat= data_train.drop('Claimant__Number', axis='columns').corr()\n",
    "f, ax = plt.subplots(figsize=(12, 9))\n",
    "sns.heatmap(corrmat, vmax=.8, square=True);"
   ]
  },
  {
   "cell_type": "markdown",
   "metadata": {},
   "source": [
    "## Encoding\n",
    "#### The code below creates a function that can encode the data in one take"
   ]
  },
  {
   "cell_type": "code",
   "execution_count": 29,
   "metadata": {},
   "outputs": [],
   "source": [
    "def one_hot_encode(columns, train, test):\n",
    "    df_train = pd.get_dummies(train, columns=columns, prefix=columns)\n",
    "    print(\"Train Original Shape:\", df_train.shape)\n",
    "    df_test = pd.get_dummies(test, columns=columns, prefix=columns)\n",
    "    print(\"Test Original Shape:\", df_test.shape)\n",
    "    final_train, final_test = df_train.align(df_test, join='inner', axis=1)  # inner join - return only columns that are the same\n",
    "    return final_train, final_test"
   ]
  },
  {
   "cell_type": "code",
   "execution_count": 30,
   "metadata": {},
   "outputs": [],
   "source": [
    "# Chose the columns to one hot encode\n",
    "columns = ['Vehicle_Class', 'Employment_Status', 'Education', 'State_Code', 'Claim_Date', 'Location', 'Claim_Cause', 'Claim_Report_Type']"
   ]
  },
  {
   "cell_type": "code",
   "execution_count": 31,
   "metadata": {},
   "outputs": [
    {
     "name": "stdout",
     "output_type": "stream",
     "text": [
      "Train Original Shape: (4000, 45)\n",
      "Test Original Shape: (1001, 44)\n"
     ]
    }
   ],
   "source": [
    "train_encoded, test_encoded = one_hot_encode(columns, data_train, data_test)"
   ]
  },
  {
   "cell_type": "code",
   "execution_count": 32,
   "metadata": {},
   "outputs": [
    {
     "data": {
      "text/plain": [
       "(4000, 44)"
      ]
     },
     "execution_count": 32,
     "metadata": {},
     "output_type": "execute_result"
    }
   ],
   "source": [
    "train_encoded.shape"
   ]
  },
  {
   "cell_type": "code",
   "execution_count": 33,
   "metadata": {},
   "outputs": [
    {
     "data": {
      "text/plain": [
       "(1001, 44)"
      ]
     },
     "execution_count": 33,
     "metadata": {},
     "output_type": "execute_result"
    }
   ],
   "source": [
    "test_encoded.shape"
   ]
  },
  {
   "cell_type": "code",
   "execution_count": 34,
   "metadata": {},
   "outputs": [
    {
     "data": {
      "text/plain": [
       "Index(['Claim_Amount', 'Gender', 'Income', 'Marital_Status', 'Monthly_Premium',\n",
       "       'Months_Since_Last_Claim', 'Months_Since_Policy_Inception',\n",
       "       'Vehicle_Size', 'Outstanding_Balance', 'Fraudulent_Claim',\n",
       "       'Claimant__Number', 'Vehicle_Class_Four-Door Car',\n",
       "       'Vehicle_Class_Luxury Car', 'Vehicle_Class_Luxury SUV',\n",
       "       'Vehicle_Class_SUV', 'Vehicle_Class_Sports Car',\n",
       "       'Vehicle_Class_Two-Door Car', 'Employment_Status_Employed',\n",
       "       'Employment_Status_Medical Leave', 'Employment_Status_Retired',\n",
       "       'Employment_Status_Unemployed', 'Education_Bachelor',\n",
       "       'Education_College', 'Education_Graduate',\n",
       "       'Education_High School or Below', 'State_Code_IA', 'State_Code_KS',\n",
       "       'State_Code_MO', 'State_Code_NE', 'State_Code_OK',\n",
       "       'Claim_Date_01/15/2019', 'Claim_Date_12/01/2018',\n",
       "       'Claim_Date_12/15/2018', 'Location_Rural', 'Location_Suburban',\n",
       "       'Location_Urban', 'Claim_Cause_Collision', 'Claim_Cause_Hail',\n",
       "       'Claim_Cause_Other', 'Claim_Cause_Scratch/Dent',\n",
       "       'Claim_Report_Type_Agent', 'Claim_Report_Type_Branch',\n",
       "       'Claim_Report_Type_Call Center', 'Claim_Report_Type_Web'],\n",
       "      dtype='object')"
      ]
     },
     "execution_count": 34,
     "metadata": {},
     "output_type": "execute_result"
    }
   ],
   "source": [
    "train_encoded.columns"
   ]
  },
  {
   "cell_type": "code",
   "execution_count": 35,
   "metadata": {
    "scrolled": false
   },
   "outputs": [
    {
     "data": {
      "text/plain": [
       "Claim_Amount                       float64\n",
       "Gender                               int64\n",
       "Income                                int8\n",
       "Marital_Status                       int64\n",
       "Monthly_Premium                      int64\n",
       "Months_Since_Last_Claim              int64\n",
       "Months_Since_Policy_Inception        int64\n",
       "Vehicle_Size                         int64\n",
       "Outstanding_Balance                float64\n",
       "Fraudulent_Claim                     int64\n",
       "Claimant__Number                     int64\n",
       "Vehicle_Class_Four-Door Car          uint8\n",
       "Vehicle_Class_Luxury Car             uint8\n",
       "Vehicle_Class_Luxury SUV             uint8\n",
       "Vehicle_Class_SUV                    uint8\n",
       "Vehicle_Class_Sports Car             uint8\n",
       "Vehicle_Class_Two-Door Car           uint8\n",
       "Employment_Status_Employed           uint8\n",
       "Employment_Status_Medical Leave      uint8\n",
       "Employment_Status_Retired            uint8\n",
       "Employment_Status_Unemployed         uint8\n",
       "Education_Bachelor                   uint8\n",
       "Education_College                    uint8\n",
       "Education_Graduate                   uint8\n",
       "Education_High School or Below       uint8\n",
       "State_Code_IA                        uint8\n",
       "State_Code_KS                        uint8\n",
       "State_Code_MO                        uint8\n",
       "State_Code_NE                        uint8\n",
       "State_Code_OK                        uint8\n",
       "Claim_Date_01/15/2019                uint8\n",
       "Claim_Date_12/01/2018                uint8\n",
       "Claim_Date_12/15/2018                uint8\n",
       "Location_Rural                       uint8\n",
       "Location_Suburban                    uint8\n",
       "Location_Urban                       uint8\n",
       "Claim_Cause_Collision                uint8\n",
       "Claim_Cause_Hail                     uint8\n",
       "Claim_Cause_Other                    uint8\n",
       "Claim_Cause_Scratch/Dent             uint8\n",
       "Claim_Report_Type_Agent              uint8\n",
       "Claim_Report_Type_Branch             uint8\n",
       "Claim_Report_Type_Call Center        uint8\n",
       "Claim_Report_Type_Web                uint8\n",
       "dtype: object"
      ]
     },
     "execution_count": 35,
     "metadata": {},
     "output_type": "execute_result"
    }
   ],
   "source": [
    "train_encoded.dtypes"
   ]
  },
  {
   "cell_type": "code",
   "execution_count": 36,
   "metadata": {},
   "outputs": [
    {
     "name": "stdout",
     "output_type": "stream",
     "text": [
      "Shape of X: (4000, 43)\n",
      "Shape of y: (4000, 1)\n"
     ]
    },
    {
     "name": "stderr",
     "output_type": "stream",
     "text": [
      "c:\\users\\student\\appdata\\local\\programs\\python\\python37\\lib\\site-packages\\ipykernel_launcher.py:2: DeprecationWarning: \n",
      ".ix is deprecated. Please use\n",
      ".loc for label based indexing or\n",
      ".iloc for positional indexing\n",
      "\n",
      "See the documentation here:\n",
      "http://pandas.pydata.org/pandas-docs/stable/indexing.html#ix-indexer-is-deprecated\n",
      "  \n",
      "c:\\users\\student\\appdata\\local\\programs\\python\\python37\\lib\\site-packages\\ipykernel_launcher.py:3: DeprecationWarning: \n",
      ".ix is deprecated. Please use\n",
      ".loc for label based indexing or\n",
      ".iloc for positional indexing\n",
      "\n",
      "See the documentation here:\n",
      "http://pandas.pydata.org/pandas-docs/stable/indexing.html#ix-indexer-is-deprecated\n",
      "  This is separate from the ipykernel package so we can avoid doing imports until\n"
     ]
    }
   ],
   "source": [
    "import numpy as np\n",
    "X = np.array(train_encoded.ix[:, train_encoded.columns != 'Fraudulent_Claim'])\n",
    "y = np.array(train_encoded.ix[:, train_encoded.columns == 'Fraudulent_Claim'])\n",
    "print('Shape of X: {}'.format(X.shape))\n",
    "print('Shape of y: {}'.format(y.shape))"
   ]
  },
  {
   "cell_type": "markdown",
   "metadata": {},
   "source": [
    "## Oversampling Code\n",
    "#### Oversampling the non fraud claims to match the number of fraud claims"
   ]
  },
  {
   "cell_type": "code",
   "execution_count": 37,
   "metadata": {},
   "outputs": [
    {
     "data": {
      "text/plain": [
       "count    7510.000000\n",
       "mean        0.500000\n",
       "std         0.500033\n",
       "min         0.000000\n",
       "25%         0.000000\n",
       "50%         0.500000\n",
       "75%         1.000000\n",
       "max         1.000000\n",
       "Name: Fraudulent_Claim, dtype: float64"
      ]
     },
     "execution_count": 37,
     "metadata": {},
     "output_type": "execute_result"
    }
   ],
   "source": [
    "#Finds the number of non-fraud samples \n",
    "no_non_frauds = len(train_encoded[train_encoded['Fraudulent_Claim'] == 0])\n",
    "\n",
    "#gets indices of fraud samples\n",
    "fraud_indices = train_encoded[train_encoded.Fraudulent_Claim == 1].index\n",
    "\n",
    "#Random sample fraud indices (with replacement)\n",
    "random_indices = np.random.choice(fraud_indices, no_non_frauds, replace=True)\n",
    "\n",
    "#Find the indices of nonfraud samples\n",
    "non_fraud_indices = train_encoded[train_encoded.Fraudulent_Claim == 0].index\n",
    "\n",
    "#Concat fraud indices with sample non-fraud ones\n",
    "over_sample_indices = np.concatenate([non_fraud_indices, random_indices])\n",
    "\n",
    "#Get Balance Dataframe\n",
    "over_sample = train_encoded.loc[over_sample_indices]\n",
    "\n",
    "#Results\n",
    "over_sample[\"Fraudulent_Claim\"].describe()"
   ]
  },
  {
   "cell_type": "markdown",
   "metadata": {},
   "source": [
    "## Undersampling\n",
    "#### The code below undersamples the majority class"
   ]
  },
  {
   "cell_type": "code",
   "execution_count": 38,
   "metadata": {},
   "outputs": [
    {
     "data": {
      "text/plain": [
       "count    490.000000\n",
       "mean       0.500000\n",
       "std        0.500511\n",
       "min        0.000000\n",
       "25%        0.000000\n",
       "50%        0.500000\n",
       "75%        1.000000\n",
       "max        1.000000\n",
       "Name: Fraudulent_Claim, dtype: float64"
      ]
     },
     "execution_count": 38,
     "metadata": {},
     "output_type": "execute_result"
    }
   ],
   "source": [
    "#Finds the number of fraud samples \n",
    "no_frauds = len(train_encoded[train_encoded['Fraudulent_Claim'] == 1])\n",
    "\n",
    "#gets indices of nonfraud samples\n",
    "non_fraud_indices = train_encoded[train_encoded.Fraudulent_Claim == 0].index\n",
    "\n",
    "#Random sample non fraud indices\n",
    "random_indices = np.random.choice(non_fraud_indices, no_frauds, replace=False, )\n",
    "\n",
    "#Find the indices of fraud samples\n",
    "fraud_indices = train_encoded[train_encoded.Fraudulent_Claim == 1].index\n",
    "\n",
    "#Concat fraud indices with sample non-fraud ones\n",
    "under_sample_indices = np.concatenate([fraud_indices, random_indices])\n",
    "\n",
    "#Get Balance Dataframe\n",
    "under_sample = train_encoded.loc[under_sample_indices]\n",
    "\n",
    "#Results\n",
    "under_sample[\"Fraudulent_Claim\"].describe()"
   ]
  },
  {
   "cell_type": "markdown",
   "metadata": {},
   "source": [
    "## Modeling"
   ]
  },
  {
   "cell_type": "markdown",
   "metadata": {},
   "source": [
    "Select dataframe to use for modeling"
   ]
  },
  {
   "cell_type": "code",
   "execution_count": 39,
   "metadata": {},
   "outputs": [],
   "source": [
    "data_modeling = train_encoded.copy(deep=True)"
   ]
  },
  {
   "cell_type": "code",
   "execution_count": 40,
   "metadata": {},
   "outputs": [],
   "source": [
    "from sklearn.metrics import accuracy_score\n",
    "from sklearn.metrics import confusion_matrix"
   ]
  },
  {
   "cell_type": "markdown",
   "metadata": {},
   "source": [
    "#### The code below creates our Modeling Pipeline"
   ]
  },
  {
   "cell_type": "code",
   "execution_count": 41,
   "metadata": {},
   "outputs": [],
   "source": [
    "models = {}"
   ]
  },
  {
   "cell_type": "code",
   "execution_count": 42,
   "metadata": {},
   "outputs": [],
   "source": [
    "def run_model(ID, clf, train, test):\n",
    "    # Split X=independent variables and y=dependent variable\n",
    "    X_train = train.drop([\"Claimant__Number\", \"Fraudulent_Claim\"], axis=\"columns\")\n",
    "    X_test = test.drop([\"Claimant__Number\", \"Fraudulent_Claim\"], axis=\"columns\")\n",
    "    y_train = train[\"Fraudulent_Claim\"]\n",
    "    y_test = test[\"Fraudulent_Claim\"]\n",
    "    \n",
    "    # Train model\n",
    "    clf.fit(X_train, y_train)\n",
    "    \n",
    "    # Make predictions\n",
    "    train_predictions = clf.predict(X_train)\n",
    "    test_predictions = clf.predict(X_test)\n",
    "    \n",
    "    # Get fraud prediction percent\n",
    "    train_fraud_pct = np.array(train_predictions).mean()\n",
    "    test_fraud_pct = np.array(test_predictions).mean()\n",
    "    \n",
    "    # Score predictions\n",
    "    train_score = accuracy_score(y_train, train_predictions)\n",
    "    test_score = accuracy_score(y_test, test_predictions)\n",
    "    \n",
    "    confusion_mtx = confusion_matrix(y_test, test_predictions)\n",
    "    tn, fp, fn, tp = confusion_mtx.ravel()\n",
    "    \n",
    "    # Save model and results to dictionary\n",
    "    models[ID] = {\"clf\": clf,\n",
    "                  \"test_score\": test_score, \n",
    "                  \"train_score\": train_score,\n",
    "                  \"test_pred_pct_fraud\": test_fraud_pct,\n",
    "                  \"train_pred_pct_fraud\": train_fraud_pct,\n",
    "                  \"true negative\": tn,\n",
    "                  \"false positive\": fp,\n",
    "                  \"false negative\": fn,\n",
    "                  \"true positive\": tp\n",
    "                 }\n",
    "    \n",
    "    # Pretty-Print results\n",
    "    pprint(models[ID])\n",
    "    print(\"Confusion Matrix:\\n\", confusion_mtx)    "
   ]
  },
  {
   "cell_type": "markdown",
   "metadata": {},
   "source": [
    "#### Simple Model (Predict all are not fraud)"
   ]
  },
  {
   "cell_type": "code",
   "execution_count": 43,
   "metadata": {},
   "outputs": [],
   "source": [
    "class simple_model():\n",
    "    def __repr__(self):\n",
    "        return \"Predicts non-fraud for everyone\"\n",
    "    \n",
    "    def fit(self, X, y):\n",
    "        pass\n",
    "    \n",
    "    def predict(self, X, prediction=0):\n",
    "        return np.array([prediction]*len(X))"
   ]
  },
  {
   "cell_type": "code",
   "execution_count": 44,
   "metadata": {},
   "outputs": [],
   "source": [
    "clf = simple_model()"
   ]
  },
  {
   "cell_type": "code",
   "execution_count": 45,
   "metadata": {},
   "outputs": [
    {
     "name": "stdout",
     "output_type": "stream",
     "text": [
      "{'clf': Predicts non-fraud for everyone,\n",
      " 'false negative': 62,\n",
      " 'false positive': 0,\n",
      " 'test_pred_pct_fraud': 0.0,\n",
      " 'test_score': 0.938061938061938,\n",
      " 'train_pred_pct_fraud': 0.0,\n",
      " 'train_score': 0.93875,\n",
      " 'true negative': 939,\n",
      " 'true positive': 0}\n",
      "Confusion Matrix:\n",
      " [[939   0]\n",
      " [ 62   0]]\n"
     ]
    }
   ],
   "source": [
    "run_model(\"Simple Model\", clf, train_encoded, test_encoded)"
   ]
  },
  {
   "cell_type": "markdown",
   "metadata": {},
   "source": [
    "### Imbalanced Data"
   ]
  },
  {
   "cell_type": "markdown",
   "metadata": {},
   "source": [
    "#### Decision Tree"
   ]
  },
  {
   "cell_type": "code",
   "execution_count": 46,
   "metadata": {},
   "outputs": [],
   "source": [
    "from sklearn.tree import DecisionTreeClassifier"
   ]
  },
  {
   "cell_type": "code",
   "execution_count": 47,
   "metadata": {},
   "outputs": [],
   "source": [
    "clf = DecisionTreeClassifier(random_state=RANDOM_STATE,\n",
    "                            max_depth=5\n",
    "                            )"
   ]
  },
  {
   "cell_type": "code",
   "execution_count": 48,
   "metadata": {},
   "outputs": [
    {
     "name": "stdout",
     "output_type": "stream",
     "text": [
      "{'clf': DecisionTreeClassifier(class_weight=None, criterion='gini', max_depth=5,\n",
      "            max_features=None, max_leaf_nodes=None,\n",
      "            min_impurity_decrease=0.0, min_impurity_split=None,\n",
      "            min_samples_leaf=1, min_samples_split=2,\n",
      "            min_weight_fraction_leaf=0.0, presort=False, random_state=0,\n",
      "            splitter='best'),\n",
      " 'false negative': 62,\n",
      " 'false positive': 3,\n",
      " 'test_pred_pct_fraud': 0.002997002997002997,\n",
      " 'test_score': 0.935064935064935,\n",
      " 'train_pred_pct_fraud': 0.0015,\n",
      " 'train_score': 0.94025,\n",
      " 'true negative': 936,\n",
      " 'true positive': 0}\n",
      "Confusion Matrix:\n",
      " [[936   3]\n",
      " [ 62   0]]\n"
     ]
    }
   ],
   "source": [
    "run_model(\"Decision Tree - Imbalanced Data\", clf, train_encoded, test_encoded)"
   ]
  },
  {
   "cell_type": "markdown",
   "metadata": {},
   "source": [
    "#### Gradient Boosting"
   ]
  },
  {
   "cell_type": "code",
   "execution_count": 49,
   "metadata": {},
   "outputs": [],
   "source": [
    "from sklearn.ensemble import GradientBoostingClassifier"
   ]
  },
  {
   "cell_type": "code",
   "execution_count": 50,
   "metadata": {},
   "outputs": [],
   "source": [
    "clf = GradientBoostingClassifier(random_state=RANDOM_STATE,\n",
    "                            max_depth=12\n",
    "                            )"
   ]
  },
  {
   "cell_type": "code",
   "execution_count": 51,
   "metadata": {},
   "outputs": [
    {
     "name": "stdout",
     "output_type": "stream",
     "text": [
      "{'clf': GradientBoostingClassifier(criterion='friedman_mse', init=None,\n",
      "              learning_rate=0.1, loss='deviance', max_depth=12,\n",
      "              max_features=None, max_leaf_nodes=None,\n",
      "              min_impurity_decrease=0.0, min_impurity_split=None,\n",
      "              min_samples_leaf=1, min_samples_split=2,\n",
      "              min_weight_fraction_leaf=0.0, n_estimators=100,\n",
      "              n_iter_no_change=None, presort='auto', random_state=0,\n",
      "              subsample=1.0, tol=0.0001, validation_fraction=0.1,\n",
      "              verbose=0, warm_start=False),\n",
      " 'false negative': 61,\n",
      " 'false positive': 5,\n",
      " 'test_pred_pct_fraud': 0.005994005994005994,\n",
      " 'test_score': 0.9340659340659341,\n",
      " 'train_pred_pct_fraud': 0.06125,\n",
      " 'train_score': 1.0,\n",
      " 'true negative': 934,\n",
      " 'true positive': 1}\n",
      "Confusion Matrix:\n",
      " [[934   5]\n",
      " [ 61   1]]\n"
     ]
    }
   ],
   "source": [
    "run_model(\"Gradient Boosting - Imbalanced Data\", clf, train_encoded, test_encoded)"
   ]
  },
  {
   "cell_type": "markdown",
   "metadata": {},
   "source": [
    "#### Logistic Regression"
   ]
  },
  {
   "cell_type": "code",
   "execution_count": 52,
   "metadata": {},
   "outputs": [],
   "source": [
    "from sklearn.linear_model import LogisticRegression"
   ]
  },
  {
   "cell_type": "code",
   "execution_count": 53,
   "metadata": {},
   "outputs": [],
   "source": [
    "clf = LogisticRegression(random_state=RANDOM_STATE)"
   ]
  },
  {
   "cell_type": "code",
   "execution_count": 54,
   "metadata": {},
   "outputs": [
    {
     "name": "stdout",
     "output_type": "stream",
     "text": [
      "{'clf': LogisticRegression(C=1.0, class_weight=None, dual=False, fit_intercept=True,\n",
      "          intercept_scaling=1, max_iter=100, multi_class='warn',\n",
      "          n_jobs=None, penalty='l2', random_state=0, solver='warn',\n",
      "          tol=0.0001, verbose=0, warm_start=False),\n",
      " 'false negative': 62,\n",
      " 'false positive': 0,\n",
      " 'test_pred_pct_fraud': 0.0,\n",
      " 'test_score': 0.938061938061938,\n",
      " 'train_pred_pct_fraud': 0.0,\n",
      " 'train_score': 0.93875,\n",
      " 'true negative': 939,\n",
      " 'true positive': 0}\n",
      "Confusion Matrix:\n",
      " [[939   0]\n",
      " [ 62   0]]\n"
     ]
    },
    {
     "name": "stderr",
     "output_type": "stream",
     "text": [
      "c:\\users\\student\\appdata\\local\\programs\\python\\python37\\lib\\site-packages\\sklearn\\linear_model\\logistic.py:433: FutureWarning: Default solver will be changed to 'lbfgs' in 0.22. Specify a solver to silence this warning.\n",
      "  FutureWarning)\n"
     ]
    }
   ],
   "source": [
    "run_model(\"Logistic Regression - Imbalanced Data\", clf, train_encoded, test_encoded)"
   ]
  },
  {
   "cell_type": "markdown",
   "metadata": {},
   "source": [
    "#### Neural Network"
   ]
  },
  {
   "cell_type": "code",
   "execution_count": 55,
   "metadata": {},
   "outputs": [],
   "source": [
    "from sklearn.neural_network import MLPClassifier"
   ]
  },
  {
   "cell_type": "code",
   "execution_count": 56,
   "metadata": {},
   "outputs": [],
   "source": [
    "clf = MLPClassifier(random_state=RANDOM_STATE)"
   ]
  },
  {
   "cell_type": "code",
   "execution_count": 57,
   "metadata": {
    "scrolled": false
   },
   "outputs": [
    {
     "name": "stdout",
     "output_type": "stream",
     "text": [
      "{'clf': MLPClassifier(activation='relu', alpha=0.0001, batch_size='auto', beta_1=0.9,\n",
      "       beta_2=0.999, early_stopping=False, epsilon=1e-08,\n",
      "       hidden_layer_sizes=(100,), learning_rate='constant',\n",
      "       learning_rate_init=0.001, max_iter=200, momentum=0.9,\n",
      "       n_iter_no_change=10, nesterovs_momentum=True, power_t=0.5,\n",
      "       random_state=0, shuffle=True, solver='adam', tol=0.0001,\n",
      "       validation_fraction=0.1, verbose=False, warm_start=False),\n",
      " 'false negative': 62,\n",
      " 'false positive': 0,\n",
      " 'test_pred_pct_fraud': 0.0,\n",
      " 'test_score': 0.938061938061938,\n",
      " 'train_pred_pct_fraud': 0.0015,\n",
      " 'train_score': 0.93875,\n",
      " 'true negative': 939,\n",
      " 'true positive': 0}\n",
      "Confusion Matrix:\n",
      " [[939   0]\n",
      " [ 62   0]]\n"
     ]
    }
   ],
   "source": [
    "run_model(\"Neural Net - Imbalanced Data\", clf, train_encoded, test_encoded)"
   ]
  },
  {
   "cell_type": "markdown",
   "metadata": {},
   "source": [
    "#### Support Vector Machine"
   ]
  },
  {
   "cell_type": "code",
   "execution_count": 58,
   "metadata": {},
   "outputs": [],
   "source": [
    "from sklearn.svm import SVC"
   ]
  },
  {
   "cell_type": "code",
   "execution_count": 59,
   "metadata": {},
   "outputs": [],
   "source": [
    "clf = SVC(random_state=RANDOM_STATE)"
   ]
  },
  {
   "cell_type": "code",
   "execution_count": 60,
   "metadata": {},
   "outputs": [
    {
     "name": "stderr",
     "output_type": "stream",
     "text": [
      "c:\\users\\student\\appdata\\local\\programs\\python\\python37\\lib\\site-packages\\sklearn\\svm\\base.py:196: FutureWarning: The default value of gamma will change from 'auto' to 'scale' in version 0.22 to account better for unscaled features. Set gamma explicitly to 'auto' or 'scale' to avoid this warning.\n",
      "  \"avoid this warning.\", FutureWarning)\n"
     ]
    },
    {
     "name": "stdout",
     "output_type": "stream",
     "text": [
      "{'clf': SVC(C=1.0, cache_size=200, class_weight=None, coef0=0.0,\n",
      "  decision_function_shape='ovr', degree=3, gamma='auto_deprecated',\n",
      "  kernel='rbf', max_iter=-1, probability=False, random_state=0,\n",
      "  shrinking=True, tol=0.001, verbose=False),\n",
      " 'false negative': 62,\n",
      " 'false positive': 0,\n",
      " 'test_pred_pct_fraud': 0.0,\n",
      " 'test_score': 0.938061938061938,\n",
      " 'train_pred_pct_fraud': 0.06125,\n",
      " 'train_score': 1.0,\n",
      " 'true negative': 939,\n",
      " 'true positive': 0}\n",
      "Confusion Matrix:\n",
      " [[939   0]\n",
      " [ 62   0]]\n"
     ]
    }
   ],
   "source": [
    "run_model(\"SVM - Imbalanced Data\", clf, train_encoded, test_encoded)"
   ]
  },
  {
   "cell_type": "markdown",
   "metadata": {},
   "source": [
    "### Undersampled Data"
   ]
  },
  {
   "cell_type": "markdown",
   "metadata": {},
   "source": [
    "#### Decision Tree"
   ]
  },
  {
   "cell_type": "code",
   "execution_count": 61,
   "metadata": {},
   "outputs": [],
   "source": [
    "from sklearn.tree import DecisionTreeClassifier"
   ]
  },
  {
   "cell_type": "code",
   "execution_count": 62,
   "metadata": {},
   "outputs": [],
   "source": [
    "clf = DecisionTreeClassifier(random_state=RANDOM_STATE,\n",
    "                            max_depth=5\n",
    "                            )"
   ]
  },
  {
   "cell_type": "code",
   "execution_count": 63,
   "metadata": {},
   "outputs": [
    {
     "name": "stdout",
     "output_type": "stream",
     "text": [
      "{'clf': DecisionTreeClassifier(class_weight=None, criterion='gini', max_depth=5,\n",
      "            max_features=None, max_leaf_nodes=None,\n",
      "            min_impurity_decrease=0.0, min_impurity_split=None,\n",
      "            min_samples_leaf=1, min_samples_split=2,\n",
      "            min_weight_fraction_leaf=0.0, presort=False, random_state=0,\n",
      "            splitter='best'),\n",
      " 'false negative': 2,\n",
      " 'false positive': 404,\n",
      " 'test_pred_pct_fraud': 0.46353646353646355,\n",
      " 'test_score': 0.5944055944055944,\n",
      " 'train_pred_pct_fraud': 0.6795918367346939,\n",
      " 'train_score': 0.8,\n",
      " 'true negative': 535,\n",
      " 'true positive': 60}\n",
      "Confusion Matrix:\n",
      " [[535 404]\n",
      " [  2  60]]\n"
     ]
    }
   ],
   "source": [
    "run_model(\"Decision Tree - Under Sampled\", clf, under_sample, test_encoded)"
   ]
  },
  {
   "cell_type": "markdown",
   "metadata": {},
   "source": [
    "#### Gradient Boosting"
   ]
  },
  {
   "cell_type": "code",
   "execution_count": 64,
   "metadata": {},
   "outputs": [],
   "source": [
    "from sklearn.ensemble import GradientBoostingClassifier"
   ]
  },
  {
   "cell_type": "code",
   "execution_count": 65,
   "metadata": {},
   "outputs": [],
   "source": [
    "clf = GradientBoostingClassifier(random_state=RANDOM_STATE,\n",
    "                            max_depth=12\n",
    "                            )"
   ]
  },
  {
   "cell_type": "code",
   "execution_count": 66,
   "metadata": {},
   "outputs": [
    {
     "name": "stdout",
     "output_type": "stream",
     "text": [
      "{'clf': GradientBoostingClassifier(criterion='friedman_mse', init=None,\n",
      "              learning_rate=0.1, loss='deviance', max_depth=12,\n",
      "              max_features=None, max_leaf_nodes=None,\n",
      "              min_impurity_decrease=0.0, min_impurity_split=None,\n",
      "              min_samples_leaf=1, min_samples_split=2,\n",
      "              min_weight_fraction_leaf=0.0, n_estimators=100,\n",
      "              n_iter_no_change=None, presort='auto', random_state=0,\n",
      "              subsample=1.0, tol=0.0001, validation_fraction=0.1,\n",
      "              verbose=0, warm_start=False),\n",
      " 'false negative': 20,\n",
      " 'false positive': 294,\n",
      " 'test_pred_pct_fraud': 0.3356643356643357,\n",
      " 'test_score': 0.6863136863136863,\n",
      " 'train_pred_pct_fraud': 0.5,\n",
      " 'train_score': 1.0,\n",
      " 'true negative': 645,\n",
      " 'true positive': 42}\n",
      "Confusion Matrix:\n",
      " [[645 294]\n",
      " [ 20  42]]\n"
     ]
    }
   ],
   "source": [
    "run_model(\"Gradient Boosting - Under Sampled\", clf, under_sample, test_encoded)"
   ]
  },
  {
   "cell_type": "markdown",
   "metadata": {},
   "source": [
    "#### Logistic Regression"
   ]
  },
  {
   "cell_type": "code",
   "execution_count": 67,
   "metadata": {},
   "outputs": [],
   "source": [
    "from sklearn.linear_model import LogisticRegression"
   ]
  },
  {
   "cell_type": "code",
   "execution_count": 68,
   "metadata": {},
   "outputs": [],
   "source": [
    "clf = LogisticRegression(random_state=RANDOM_STATE)"
   ]
  },
  {
   "cell_type": "code",
   "execution_count": 69,
   "metadata": {},
   "outputs": [
    {
     "name": "stdout",
     "output_type": "stream",
     "text": [
      "{'clf': LogisticRegression(C=1.0, class_weight=None, dual=False, fit_intercept=True,\n",
      "          intercept_scaling=1, max_iter=100, multi_class='warn',\n",
      "          n_jobs=None, penalty='l2', random_state=0, solver='warn',\n",
      "          tol=0.0001, verbose=0, warm_start=False),\n",
      " 'false negative': 11,\n",
      " 'false positive': 316,\n",
      " 'test_pred_pct_fraud': 0.36663336663336665,\n",
      " 'test_score': 0.6733266733266733,\n",
      " 'train_pred_pct_fraud': 0.5795918367346938,\n",
      " 'train_score': 0.7857142857142857,\n",
      " 'true negative': 623,\n",
      " 'true positive': 51}\n",
      "Confusion Matrix:\n",
      " [[623 316]\n",
      " [ 11  51]]\n"
     ]
    },
    {
     "name": "stderr",
     "output_type": "stream",
     "text": [
      "c:\\users\\student\\appdata\\local\\programs\\python\\python37\\lib\\site-packages\\sklearn\\linear_model\\logistic.py:433: FutureWarning: Default solver will be changed to 'lbfgs' in 0.22. Specify a solver to silence this warning.\n",
      "  FutureWarning)\n"
     ]
    }
   ],
   "source": [
    "run_model(\"Logistic Regression - Under Sampled\", clf, under_sample, test_encoded)"
   ]
  },
  {
   "cell_type": "markdown",
   "metadata": {},
   "source": [
    "#### Neural Network"
   ]
  },
  {
   "cell_type": "code",
   "execution_count": 70,
   "metadata": {},
   "outputs": [],
   "source": [
    "from sklearn.neural_network import MLPClassifier"
   ]
  },
  {
   "cell_type": "code",
   "execution_count": 71,
   "metadata": {},
   "outputs": [],
   "source": [
    "clf = MLPClassifier(random_state=RANDOM_STATE)"
   ]
  },
  {
   "cell_type": "code",
   "execution_count": 72,
   "metadata": {
    "scrolled": true
   },
   "outputs": [
    {
     "name": "stdout",
     "output_type": "stream",
     "text": [
      "{'clf': MLPClassifier(activation='relu', alpha=0.0001, batch_size='auto', beta_1=0.9,\n",
      "       beta_2=0.999, early_stopping=False, epsilon=1e-08,\n",
      "       hidden_layer_sizes=(100,), learning_rate='constant',\n",
      "       learning_rate_init=0.001, max_iter=200, momentum=0.9,\n",
      "       n_iter_no_change=10, nesterovs_momentum=True, power_t=0.5,\n",
      "       random_state=0, shuffle=True, solver='adam', tol=0.0001,\n",
      "       validation_fraction=0.1, verbose=False, warm_start=False),\n",
      " 'false negative': 3,\n",
      " 'false positive': 919,\n",
      " 'test_pred_pct_fraud': 0.977022977022977,\n",
      " 'test_score': 0.07892107892107893,\n",
      " 'train_pred_pct_fraud': 0.9816326530612245,\n",
      " 'train_score': 0.5142857142857142,\n",
      " 'true negative': 20,\n",
      " 'true positive': 59}\n",
      "Confusion Matrix:\n",
      " [[ 20 919]\n",
      " [  3  59]]\n"
     ]
    }
   ],
   "source": [
    "run_model(\"Neural Net - Under Sampled\", clf, under_sample, test_encoded)"
   ]
  },
  {
   "cell_type": "markdown",
   "metadata": {},
   "source": [
    "#### Support Vector Machine"
   ]
  },
  {
   "cell_type": "code",
   "execution_count": 73,
   "metadata": {},
   "outputs": [],
   "source": [
    "from sklearn.svm import SVC"
   ]
  },
  {
   "cell_type": "code",
   "execution_count": 74,
   "metadata": {},
   "outputs": [],
   "source": [
    "clf = SVC(random_state=RANDOM_STATE)"
   ]
  },
  {
   "cell_type": "code",
   "execution_count": 75,
   "metadata": {},
   "outputs": [
    {
     "name": "stderr",
     "output_type": "stream",
     "text": [
      "c:\\users\\student\\appdata\\local\\programs\\python\\python37\\lib\\site-packages\\sklearn\\svm\\base.py:196: FutureWarning: The default value of gamma will change from 'auto' to 'scale' in version 0.22 to account better for unscaled features. Set gamma explicitly to 'auto' or 'scale' to avoid this warning.\n",
      "  \"avoid this warning.\", FutureWarning)\n"
     ]
    },
    {
     "name": "stdout",
     "output_type": "stream",
     "text": [
      "{'clf': SVC(C=1.0, cache_size=200, class_weight=None, coef0=0.0,\n",
      "  decision_function_shape='ovr', degree=3, gamma='auto_deprecated',\n",
      "  kernel='rbf', max_iter=-1, probability=False, random_state=0,\n",
      "  shrinking=True, tol=0.001, verbose=False),\n",
      " 'false negative': 0,\n",
      " 'false positive': 934,\n",
      " 'test_pred_pct_fraud': 0.995004995004995,\n",
      " 'test_score': 0.06693306693306693,\n",
      " 'train_pred_pct_fraud': 0.5,\n",
      " 'train_score': 1.0,\n",
      " 'true negative': 5,\n",
      " 'true positive': 62}\n",
      "Confusion Matrix:\n",
      " [[  5 934]\n",
      " [  0  62]]\n"
     ]
    }
   ],
   "source": [
    "run_model(\"SVM - Under Sampled\", clf, under_sample, test_encoded)"
   ]
  },
  {
   "cell_type": "markdown",
   "metadata": {},
   "source": [
    "## OverSampled Data\n",
    "\n",
    "#### Decision Tree"
   ]
  },
  {
   "cell_type": "code",
   "execution_count": 76,
   "metadata": {},
   "outputs": [],
   "source": [
    "from sklearn.tree import DecisionTreeClassifier"
   ]
  },
  {
   "cell_type": "code",
   "execution_count": 77,
   "metadata": {},
   "outputs": [],
   "source": [
    "clf = DecisionTreeClassifier(random_state=RANDOM_STATE,\n",
    "                            max_depth=5\n",
    "                            )"
   ]
  },
  {
   "cell_type": "code",
   "execution_count": 78,
   "metadata": {},
   "outputs": [
    {
     "name": "stdout",
     "output_type": "stream",
     "text": [
      "{'clf': DecisionTreeClassifier(class_weight=None, criterion='gini', max_depth=5,\n",
      "            max_features=None, max_leaf_nodes=None,\n",
      "            min_impurity_decrease=0.0, min_impurity_split=None,\n",
      "            min_samples_leaf=1, min_samples_split=2,\n",
      "            min_weight_fraction_leaf=0.0, presort=False, random_state=0,\n",
      "            splitter='best'),\n",
      " 'false negative': 5,\n",
      " 'false positive': 373,\n",
      " 'test_pred_pct_fraud': 0.42957042957042957,\n",
      " 'test_score': 0.6223776223776224,\n",
      " 'train_pred_pct_fraud': 0.6834886817576564,\n",
      " 'train_score': 0.7944074567243675,\n",
      " 'true negative': 566,\n",
      " 'true positive': 57}\n",
      "Confusion Matrix:\n",
      " [[566 373]\n",
      " [  5  57]]\n"
     ]
    }
   ],
   "source": [
    "run_model(\"Decision Tree - Over Sampled\", clf, over_sample , test_encoded)"
   ]
  },
  {
   "cell_type": "markdown",
   "metadata": {},
   "source": [
    "\n",
    "#### Gradient Boosting"
   ]
  },
  {
   "cell_type": "code",
   "execution_count": 79,
   "metadata": {},
   "outputs": [],
   "source": [
    "from sklearn.ensemble import GradientBoostingClassifier"
   ]
  },
  {
   "cell_type": "code",
   "execution_count": 80,
   "metadata": {},
   "outputs": [],
   "source": [
    "clf = GradientBoostingClassifier(random_state=RANDOM_STATE,\n",
    "                            max_depth=12\n",
    "                            )"
   ]
  },
  {
   "cell_type": "code",
   "execution_count": 81,
   "metadata": {},
   "outputs": [
    {
     "name": "stdout",
     "output_type": "stream",
     "text": [
      "{'clf': GradientBoostingClassifier(criterion='friedman_mse', init=None,\n",
      "              learning_rate=0.1, loss='deviance', max_depth=12,\n",
      "              max_features=None, max_leaf_nodes=None,\n",
      "              min_impurity_decrease=0.0, min_impurity_split=None,\n",
      "              min_samples_leaf=1, min_samples_split=2,\n",
      "              min_weight_fraction_leaf=0.0, n_estimators=100,\n",
      "              n_iter_no_change=None, presort='auto', random_state=0,\n",
      "              subsample=1.0, tol=0.0001, validation_fraction=0.1,\n",
      "              verbose=0, warm_start=False),\n",
      " 'false negative': 61,\n",
      " 'false positive': 7,\n",
      " 'test_pred_pct_fraud': 0.007992007992007992,\n",
      " 'test_score': 0.932067932067932,\n",
      " 'train_pred_pct_fraud': 0.5,\n",
      " 'train_score': 1.0,\n",
      " 'true negative': 932,\n",
      " 'true positive': 1}\n",
      "Confusion Matrix:\n",
      " [[932   7]\n",
      " [ 61   1]]\n"
     ]
    }
   ],
   "source": [
    "run_model(\"Gradient Boosting - Over Sampled\", clf, over_sample, test_encoded)"
   ]
  },
  {
   "cell_type": "markdown",
   "metadata": {},
   "source": [
    "#### Logistic Regression\n"
   ]
  },
  {
   "cell_type": "code",
   "execution_count": 82,
   "metadata": {},
   "outputs": [],
   "source": [
    "from sklearn.linear_model import LogisticRegression"
   ]
  },
  {
   "cell_type": "code",
   "execution_count": 83,
   "metadata": {},
   "outputs": [],
   "source": [
    "clf = LogisticRegression(random_state=RANDOM_STATE)"
   ]
  },
  {
   "cell_type": "code",
   "execution_count": 84,
   "metadata": {},
   "outputs": [
    {
     "name": "stdout",
     "output_type": "stream",
     "text": [
      "{'clf': LogisticRegression(C=1.0, class_weight=None, dual=False, fit_intercept=True,\n",
      "          intercept_scaling=1, max_iter=100, multi_class='warn',\n",
      "          n_jobs=None, penalty='l2', random_state=0, solver='warn',\n",
      "          tol=0.0001, verbose=0, warm_start=False),\n",
      " 'false negative': 13,\n",
      " 'false positive': 298,\n",
      " 'test_pred_pct_fraud': 0.34665334665334663,\n",
      " 'test_score': 0.6893106893106893,\n",
      " 'train_pred_pct_fraud': 0.5733688415446072,\n",
      " 'train_score': 0.7673768308921438,\n",
      " 'true negative': 641,\n",
      " 'true positive': 49}\n",
      "Confusion Matrix:\n",
      " [[641 298]\n",
      " [ 13  49]]\n"
     ]
    },
    {
     "name": "stderr",
     "output_type": "stream",
     "text": [
      "c:\\users\\student\\appdata\\local\\programs\\python\\python37\\lib\\site-packages\\sklearn\\linear_model\\logistic.py:433: FutureWarning: Default solver will be changed to 'lbfgs' in 0.22. Specify a solver to silence this warning.\n",
      "  FutureWarning)\n"
     ]
    }
   ],
   "source": [
    "run_model(\"Logistic Regression - Over Sampled\", clf, over_sample, test_encoded)"
   ]
  },
  {
   "cell_type": "markdown",
   "metadata": {},
   "source": [
    "#### Neural Networking\n"
   ]
  },
  {
   "cell_type": "code",
   "execution_count": 85,
   "metadata": {},
   "outputs": [],
   "source": [
    "from sklearn.neural_network import MLPClassifier"
   ]
  },
  {
   "cell_type": "code",
   "execution_count": 86,
   "metadata": {},
   "outputs": [],
   "source": [
    "clf = MLPClassifier(random_state=RANDOM_STATE)"
   ]
  },
  {
   "cell_type": "code",
   "execution_count": 87,
   "metadata": {},
   "outputs": [
    {
     "name": "stdout",
     "output_type": "stream",
     "text": [
      "{'clf': MLPClassifier(activation='relu', alpha=0.0001, batch_size='auto', beta_1=0.9,\n",
      "       beta_2=0.999, early_stopping=False, epsilon=1e-08,\n",
      "       hidden_layer_sizes=(100,), learning_rate='constant',\n",
      "       learning_rate_init=0.001, max_iter=200, momentum=0.9,\n",
      "       n_iter_no_change=10, nesterovs_momentum=True, power_t=0.5,\n",
      "       random_state=0, shuffle=True, solver='adam', tol=0.0001,\n",
      "       validation_fraction=0.1, verbose=False, warm_start=False),\n",
      " 'false negative': 3,\n",
      " 'false positive': 911,\n",
      " 'test_pred_pct_fraud': 0.9690309690309691,\n",
      " 'test_score': 0.08691308691308691,\n",
      " 'train_pred_pct_fraud': 0.9840213049267643,\n",
      " 'train_score': 0.5159786950732357,\n",
      " 'true negative': 28,\n",
      " 'true positive': 59}\n",
      "Confusion Matrix:\n",
      " [[ 28 911]\n",
      " [  3  59]]\n"
     ]
    }
   ],
   "source": [
    "run_model(\"Neural Net - Over Sampled\", clf, over_sample, test_encoded)"
   ]
  },
  {
   "cell_type": "markdown",
   "metadata": {},
   "source": [
    "#### Support Vector Machine\n"
   ]
  },
  {
   "cell_type": "code",
   "execution_count": 88,
   "metadata": {},
   "outputs": [],
   "source": [
    "from sklearn.svm import SVC"
   ]
  },
  {
   "cell_type": "code",
   "execution_count": 89,
   "metadata": {},
   "outputs": [],
   "source": [
    "clf = SVC(random_state=RANDOM_STATE)"
   ]
  },
  {
   "cell_type": "code",
   "execution_count": 90,
   "metadata": {},
   "outputs": [
    {
     "name": "stderr",
     "output_type": "stream",
     "text": [
      "c:\\users\\student\\appdata\\local\\programs\\python\\python37\\lib\\site-packages\\sklearn\\svm\\base.py:196: FutureWarning: The default value of gamma will change from 'auto' to 'scale' in version 0.22 to account better for unscaled features. Set gamma explicitly to 'auto' or 'scale' to avoid this warning.\n",
      "  \"avoid this warning.\", FutureWarning)\n"
     ]
    },
    {
     "name": "stdout",
     "output_type": "stream",
     "text": [
      "{'clf': SVC(C=1.0, cache_size=200, class_weight=None, coef0=0.0,\n",
      "  decision_function_shape='ovr', degree=3, gamma='auto_deprecated',\n",
      "  kernel='rbf', max_iter=-1, probability=False, random_state=0,\n",
      "  shrinking=True, tol=0.001, verbose=False),\n",
      " 'false negative': 62,\n",
      " 'false positive': 0,\n",
      " 'test_pred_pct_fraud': 0.0,\n",
      " 'test_score': 0.938061938061938,\n",
      " 'train_pred_pct_fraud': 0.5,\n",
      " 'train_score': 1.0,\n",
      " 'true negative': 939,\n",
      " 'true positive': 0}\n",
      "Confusion Matrix:\n",
      " [[939   0]\n",
      " [ 62   0]]\n"
     ]
    }
   ],
   "source": [
    "run_model(\"SVM - Over Sampled\", clf, over_sample, test_encoded)"
   ]
  },
  {
   "cell_type": "markdown",
   "metadata": {},
   "source": [
    "#### Model Selection"
   ]
  },
  {
   "cell_type": "code",
   "execution_count": 112,
   "metadata": {},
   "outputs": [
    {
     "data": {
      "text/html": [
       "<div>\n",
       "<style scoped>\n",
       "    .dataframe tbody tr th:only-of-type {\n",
       "        vertical-align: middle;\n",
       "    }\n",
       "\n",
       "    .dataframe tbody tr th {\n",
       "        vertical-align: top;\n",
       "    }\n",
       "\n",
       "    .dataframe thead th {\n",
       "        text-align: right;\n",
       "    }\n",
       "</style>\n",
       "<table border=\"1\" class=\"dataframe\">\n",
       "  <thead>\n",
       "    <tr style=\"text-align: right;\">\n",
       "      <th></th>\n",
       "      <th>false negative</th>\n",
       "      <th>false positive</th>\n",
       "      <th>test_pred_pct_fraud</th>\n",
       "      <th>test_score</th>\n",
       "      <th>train_pred_pct_fraud</th>\n",
       "      <th>train_score</th>\n",
       "      <th>true negative</th>\n",
       "      <th>true positive</th>\n",
       "    </tr>\n",
       "  </thead>\n",
       "  <tbody>\n",
       "    <tr>\n",
       "      <th>Simple Model</th>\n",
       "      <td>62</td>\n",
       "      <td>0</td>\n",
       "      <td>0</td>\n",
       "      <td>0.938062</td>\n",
       "      <td>0</td>\n",
       "      <td>0.93875</td>\n",
       "      <td>939</td>\n",
       "      <td>0</td>\n",
       "    </tr>\n",
       "    <tr>\n",
       "      <th>Decision Tree - Imbalanced Data</th>\n",
       "      <td>62</td>\n",
       "      <td>3</td>\n",
       "      <td>0.002997</td>\n",
       "      <td>0.935065</td>\n",
       "      <td>0.0015</td>\n",
       "      <td>0.94025</td>\n",
       "      <td>936</td>\n",
       "      <td>0</td>\n",
       "    </tr>\n",
       "    <tr>\n",
       "      <th>Gradient Boosting - Imbalanced Data</th>\n",
       "      <td>61</td>\n",
       "      <td>5</td>\n",
       "      <td>0.00599401</td>\n",
       "      <td>0.934066</td>\n",
       "      <td>0.06125</td>\n",
       "      <td>1</td>\n",
       "      <td>934</td>\n",
       "      <td>1</td>\n",
       "    </tr>\n",
       "    <tr>\n",
       "      <th>Logistic Regression - Imbalanced Data</th>\n",
       "      <td>62</td>\n",
       "      <td>0</td>\n",
       "      <td>0</td>\n",
       "      <td>0.938062</td>\n",
       "      <td>0</td>\n",
       "      <td>0.93875</td>\n",
       "      <td>939</td>\n",
       "      <td>0</td>\n",
       "    </tr>\n",
       "    <tr>\n",
       "      <th>Neural Net - Imbalanced Data</th>\n",
       "      <td>62</td>\n",
       "      <td>0</td>\n",
       "      <td>0</td>\n",
       "      <td>0.938062</td>\n",
       "      <td>0.0015</td>\n",
       "      <td>0.93875</td>\n",
       "      <td>939</td>\n",
       "      <td>0</td>\n",
       "    </tr>\n",
       "    <tr>\n",
       "      <th>SVM - Imbalanced Data</th>\n",
       "      <td>62</td>\n",
       "      <td>0</td>\n",
       "      <td>0</td>\n",
       "      <td>0.938062</td>\n",
       "      <td>0.06125</td>\n",
       "      <td>1</td>\n",
       "      <td>939</td>\n",
       "      <td>0</td>\n",
       "    </tr>\n",
       "    <tr>\n",
       "      <th>Decision Tree - Under Sampled</th>\n",
       "      <td>2</td>\n",
       "      <td>404</td>\n",
       "      <td>0.463536</td>\n",
       "      <td>0.594406</td>\n",
       "      <td>0.679592</td>\n",
       "      <td>0.8</td>\n",
       "      <td>535</td>\n",
       "      <td>60</td>\n",
       "    </tr>\n",
       "    <tr>\n",
       "      <th>Gradient Boosting - Under Sampled</th>\n",
       "      <td>20</td>\n",
       "      <td>294</td>\n",
       "      <td>0.335664</td>\n",
       "      <td>0.686314</td>\n",
       "      <td>0.5</td>\n",
       "      <td>1</td>\n",
       "      <td>645</td>\n",
       "      <td>42</td>\n",
       "    </tr>\n",
       "    <tr>\n",
       "      <th>Logistic Regression - Under Sampled</th>\n",
       "      <td>11</td>\n",
       "      <td>316</td>\n",
       "      <td>0.366633</td>\n",
       "      <td>0.673327</td>\n",
       "      <td>0.579592</td>\n",
       "      <td>0.785714</td>\n",
       "      <td>623</td>\n",
       "      <td>51</td>\n",
       "    </tr>\n",
       "    <tr>\n",
       "      <th>Neural Net - Under Sampled</th>\n",
       "      <td>3</td>\n",
       "      <td>919</td>\n",
       "      <td>0.977023</td>\n",
       "      <td>0.0789211</td>\n",
       "      <td>0.981633</td>\n",
       "      <td>0.514286</td>\n",
       "      <td>20</td>\n",
       "      <td>59</td>\n",
       "    </tr>\n",
       "    <tr>\n",
       "      <th>SVM - Under Sampled</th>\n",
       "      <td>0</td>\n",
       "      <td>934</td>\n",
       "      <td>0.995005</td>\n",
       "      <td>0.0669331</td>\n",
       "      <td>0.5</td>\n",
       "      <td>1</td>\n",
       "      <td>5</td>\n",
       "      <td>62</td>\n",
       "    </tr>\n",
       "    <tr>\n",
       "      <th>Decision Tree - Over Sampled</th>\n",
       "      <td>5</td>\n",
       "      <td>373</td>\n",
       "      <td>0.42957</td>\n",
       "      <td>0.622378</td>\n",
       "      <td>0.683489</td>\n",
       "      <td>0.794407</td>\n",
       "      <td>566</td>\n",
       "      <td>57</td>\n",
       "    </tr>\n",
       "    <tr>\n",
       "      <th>Gradient Boosting - Over Sampled</th>\n",
       "      <td>61</td>\n",
       "      <td>7</td>\n",
       "      <td>0.00799201</td>\n",
       "      <td>0.932068</td>\n",
       "      <td>0.5</td>\n",
       "      <td>1</td>\n",
       "      <td>932</td>\n",
       "      <td>1</td>\n",
       "    </tr>\n",
       "    <tr>\n",
       "      <th>Logistic Regression - Over Sampled</th>\n",
       "      <td>13</td>\n",
       "      <td>298</td>\n",
       "      <td>0.346653</td>\n",
       "      <td>0.689311</td>\n",
       "      <td>0.573369</td>\n",
       "      <td>0.767377</td>\n",
       "      <td>641</td>\n",
       "      <td>49</td>\n",
       "    </tr>\n",
       "    <tr>\n",
       "      <th>Neural Net - Over Sampled</th>\n",
       "      <td>3</td>\n",
       "      <td>911</td>\n",
       "      <td>0.969031</td>\n",
       "      <td>0.0869131</td>\n",
       "      <td>0.984021</td>\n",
       "      <td>0.515979</td>\n",
       "      <td>28</td>\n",
       "      <td>59</td>\n",
       "    </tr>\n",
       "    <tr>\n",
       "      <th>SVM - Over Sampled</th>\n",
       "      <td>62</td>\n",
       "      <td>0</td>\n",
       "      <td>0</td>\n",
       "      <td>0.938062</td>\n",
       "      <td>0.5</td>\n",
       "      <td>1</td>\n",
       "      <td>939</td>\n",
       "      <td>0</td>\n",
       "    </tr>\n",
       "  </tbody>\n",
       "</table>\n",
       "</div>"
      ],
      "text/plain": [
       "                                      false negative false positive  \\\n",
       "Simple Model                                      62              0   \n",
       "Decision Tree - Imbalanced Data                   62              3   \n",
       "Gradient Boosting - Imbalanced Data               61              5   \n",
       "Logistic Regression - Imbalanced Data             62              0   \n",
       "Neural Net - Imbalanced Data                      62              0   \n",
       "SVM - Imbalanced Data                             62              0   \n",
       "Decision Tree - Under Sampled                      2            404   \n",
       "Gradient Boosting - Under Sampled                 20            294   \n",
       "Logistic Regression - Under Sampled               11            316   \n",
       "Neural Net - Under Sampled                         3            919   \n",
       "SVM - Under Sampled                                0            934   \n",
       "Decision Tree - Over Sampled                       5            373   \n",
       "Gradient Boosting - Over Sampled                  61              7   \n",
       "Logistic Regression - Over Sampled                13            298   \n",
       "Neural Net - Over Sampled                          3            911   \n",
       "SVM - Over Sampled                                62              0   \n",
       "\n",
       "                                      test_pred_pct_fraud test_score  \\\n",
       "Simple Model                                            0   0.938062   \n",
       "Decision Tree - Imbalanced Data                  0.002997   0.935065   \n",
       "Gradient Boosting - Imbalanced Data            0.00599401   0.934066   \n",
       "Logistic Regression - Imbalanced Data                   0   0.938062   \n",
       "Neural Net - Imbalanced Data                            0   0.938062   \n",
       "SVM - Imbalanced Data                                   0   0.938062   \n",
       "Decision Tree - Under Sampled                    0.463536   0.594406   \n",
       "Gradient Boosting - Under Sampled                0.335664   0.686314   \n",
       "Logistic Regression - Under Sampled              0.366633   0.673327   \n",
       "Neural Net - Under Sampled                       0.977023  0.0789211   \n",
       "SVM - Under Sampled                              0.995005  0.0669331   \n",
       "Decision Tree - Over Sampled                      0.42957   0.622378   \n",
       "Gradient Boosting - Over Sampled               0.00799201   0.932068   \n",
       "Logistic Regression - Over Sampled               0.346653   0.689311   \n",
       "Neural Net - Over Sampled                        0.969031  0.0869131   \n",
       "SVM - Over Sampled                                      0   0.938062   \n",
       "\n",
       "                                      train_pred_pct_fraud train_score  \\\n",
       "Simple Model                                             0     0.93875   \n",
       "Decision Tree - Imbalanced Data                     0.0015     0.94025   \n",
       "Gradient Boosting - Imbalanced Data                0.06125           1   \n",
       "Logistic Regression - Imbalanced Data                    0     0.93875   \n",
       "Neural Net - Imbalanced Data                        0.0015     0.93875   \n",
       "SVM - Imbalanced Data                              0.06125           1   \n",
       "Decision Tree - Under Sampled                     0.679592         0.8   \n",
       "Gradient Boosting - Under Sampled                      0.5           1   \n",
       "Logistic Regression - Under Sampled               0.579592    0.785714   \n",
       "Neural Net - Under Sampled                        0.981633    0.514286   \n",
       "SVM - Under Sampled                                    0.5           1   \n",
       "Decision Tree - Over Sampled                      0.683489    0.794407   \n",
       "Gradient Boosting - Over Sampled                       0.5           1   \n",
       "Logistic Regression - Over Sampled                0.573369    0.767377   \n",
       "Neural Net - Over Sampled                         0.984021    0.515979   \n",
       "SVM - Over Sampled                                     0.5           1   \n",
       "\n",
       "                                      true negative true positive  \n",
       "Simple Model                                    939             0  \n",
       "Decision Tree - Imbalanced Data                 936             0  \n",
       "Gradient Boosting - Imbalanced Data             934             1  \n",
       "Logistic Regression - Imbalanced Data           939             0  \n",
       "Neural Net - Imbalanced Data                    939             0  \n",
       "SVM - Imbalanced Data                           939             0  \n",
       "Decision Tree - Under Sampled                   535            60  \n",
       "Gradient Boosting - Under Sampled               645            42  \n",
       "Logistic Regression - Under Sampled             623            51  \n",
       "Neural Net - Under Sampled                       20            59  \n",
       "SVM - Under Sampled                               5            62  \n",
       "Decision Tree - Over Sampled                    566            57  \n",
       "Gradient Boosting - Over Sampled                932             1  \n",
       "Logistic Regression - Over Sampled              641            49  \n",
       "Neural Net - Over Sampled                        28            59  \n",
       "SVM - Over Sampled                              939             0  "
      ]
     },
     "execution_count": 112,
     "metadata": {},
     "output_type": "execute_result"
    }
   ],
   "source": [
    "pd.DataFrame(models).transpose().drop(\"clf\", axis=1)"
   ]
  },
  {
   "cell_type": "markdown",
   "metadata": {},
   "source": [
    "## Testing"
   ]
  },
  {
   "cell_type": "code",
   "execution_count": 92,
   "metadata": {},
   "outputs": [],
   "source": [
    "mdl = models[\"Logistic Regression - Over Sampled\"][\"clf\"]"
   ]
  },
  {
   "cell_type": "code",
   "execution_count": 93,
   "metadata": {},
   "outputs": [],
   "source": [
    "df_test0 = pd.read_csv('Claim_Score_Dataset.csv', dtype=dtype, usecols=[*dtype])"
   ]
  },
  {
   "cell_type": "markdown",
   "metadata": {},
   "source": [
    "Replace claim date 01/10/2020 with 01/15/2019 because the 01/10/2020 date did not appear in the training data"
   ]
  },
  {
   "cell_type": "code",
   "execution_count": 94,
   "metadata": {},
   "outputs": [],
   "source": [
    "df_test0a = df_test0.replace(('01/10/2020'), ('01/15/2019'))"
   ]
  },
  {
   "cell_type": "code",
   "execution_count": 95,
   "metadata": {},
   "outputs": [],
   "source": [
    "data_test1 = transform_features(df_test0a.copy(deep=True))"
   ]
  },
  {
   "cell_type": "code",
   "execution_count": 96,
   "metadata": {},
   "outputs": [],
   "source": [
    "def one_hot_encode(columns, train, test):\n",
    "    df_train = pd.get_dummies(train, columns=columns, prefix=columns)\n",
    "    print(\"Train Original Shape:\", df_train.shape)\n",
    "    df_test = pd.get_dummies(test, columns=columns, prefix=columns)\n",
    "    print(\"Test Original Shape:\", df_test.shape)\n",
    "    final_train, final_test = df_train.align(df_test, join='outer', axis=1)  # inner join - return only columns that are the same\n",
    "    return final_train, final_test"
   ]
  },
  {
   "cell_type": "code",
   "execution_count": 97,
   "metadata": {},
   "outputs": [
    {
     "name": "stdout",
     "output_type": "stream",
     "text": [
      "Train Original Shape: (4000, 45)\n",
      "Test Original Shape: (4008, 42)\n"
     ]
    }
   ],
   "source": [
    "# Chose the columns to one hot encode\n",
    "columns = ['Vehicle_Class', 'Employment_Status', 'Education', 'State_Code', 'Claim_Date', 'Location', 'Claim_Cause', 'Claim_Report_Type']\n",
    "\n",
    "_, df_test_encoded = one_hot_encode(columns, data_train, data_test1)"
   ]
  },
  {
   "cell_type": "code",
   "execution_count": 98,
   "metadata": {},
   "outputs": [
    {
     "data": {
      "text/plain": [
       "(4008, 45)"
      ]
     },
     "execution_count": 98,
     "metadata": {},
     "output_type": "execute_result"
    }
   ],
   "source": [
    "df_test_encoded.shape"
   ]
  },
  {
   "cell_type": "code",
   "execution_count": 99,
   "metadata": {},
   "outputs": [
    {
     "data": {
      "text/html": [
       "<div>\n",
       "<style scoped>\n",
       "    .dataframe tbody tr th:only-of-type {\n",
       "        vertical-align: middle;\n",
       "    }\n",
       "\n",
       "    .dataframe tbody tr th {\n",
       "        vertical-align: top;\n",
       "    }\n",
       "\n",
       "    .dataframe thead th {\n",
       "        text-align: right;\n",
       "    }\n",
       "</style>\n",
       "<table border=\"1\" class=\"dataframe\">\n",
       "  <thead>\n",
       "    <tr style=\"text-align: right;\">\n",
       "      <th></th>\n",
       "      <th>Claim_Amount</th>\n",
       "      <th>Claim_Cause_Collision</th>\n",
       "      <th>Claim_Cause_Fire</th>\n",
       "      <th>Claim_Cause_Hail</th>\n",
       "      <th>Claim_Cause_Other</th>\n",
       "      <th>Claim_Cause_Scratch/Dent</th>\n",
       "      <th>Claim_Date_01/15/2019</th>\n",
       "      <th>Claim_Date_12/01/2018</th>\n",
       "      <th>Claim_Date_12/15/2018</th>\n",
       "      <th>Claim_Report_Type_Agent</th>\n",
       "      <th>...</th>\n",
       "      <th>State_Code_MO</th>\n",
       "      <th>State_Code_NE</th>\n",
       "      <th>State_Code_OK</th>\n",
       "      <th>Vehicle_Class_Four-Door Car</th>\n",
       "      <th>Vehicle_Class_Luxury Car</th>\n",
       "      <th>Vehicle_Class_Luxury SUV</th>\n",
       "      <th>Vehicle_Class_SUV</th>\n",
       "      <th>Vehicle_Class_Sports Car</th>\n",
       "      <th>Vehicle_Class_Two-Door Car</th>\n",
       "      <th>Vehicle_Size</th>\n",
       "    </tr>\n",
       "  </thead>\n",
       "  <tbody>\n",
       "    <tr>\n",
       "      <th>0</th>\n",
       "      <td>7.132611</td>\n",
       "      <td>1</td>\n",
       "      <td>NaN</td>\n",
       "      <td>0</td>\n",
       "      <td>0</td>\n",
       "      <td>0</td>\n",
       "      <td>1</td>\n",
       "      <td>NaN</td>\n",
       "      <td>NaN</td>\n",
       "      <td>0</td>\n",
       "      <td>...</td>\n",
       "      <td>0</td>\n",
       "      <td>0</td>\n",
       "      <td>1</td>\n",
       "      <td>0</td>\n",
       "      <td>0</td>\n",
       "      <td>0</td>\n",
       "      <td>0</td>\n",
       "      <td>0</td>\n",
       "      <td>1</td>\n",
       "      <td>3</td>\n",
       "    </tr>\n",
       "    <tr>\n",
       "      <th>1</th>\n",
       "      <td>6.811225</td>\n",
       "      <td>0</td>\n",
       "      <td>NaN</td>\n",
       "      <td>0</td>\n",
       "      <td>1</td>\n",
       "      <td>0</td>\n",
       "      <td>1</td>\n",
       "      <td>NaN</td>\n",
       "      <td>NaN</td>\n",
       "      <td>1</td>\n",
       "      <td>...</td>\n",
       "      <td>0</td>\n",
       "      <td>0</td>\n",
       "      <td>0</td>\n",
       "      <td>0</td>\n",
       "      <td>0</td>\n",
       "      <td>0</td>\n",
       "      <td>1</td>\n",
       "      <td>0</td>\n",
       "      <td>0</td>\n",
       "      <td>2</td>\n",
       "    </tr>\n",
       "    <tr>\n",
       "      <th>2</th>\n",
       "      <td>6.656367</td>\n",
       "      <td>0</td>\n",
       "      <td>NaN</td>\n",
       "      <td>1</td>\n",
       "      <td>0</td>\n",
       "      <td>0</td>\n",
       "      <td>1</td>\n",
       "      <td>NaN</td>\n",
       "      <td>NaN</td>\n",
       "      <td>0</td>\n",
       "      <td>...</td>\n",
       "      <td>0</td>\n",
       "      <td>1</td>\n",
       "      <td>0</td>\n",
       "      <td>0</td>\n",
       "      <td>0</td>\n",
       "      <td>0</td>\n",
       "      <td>0</td>\n",
       "      <td>0</td>\n",
       "      <td>1</td>\n",
       "      <td>2</td>\n",
       "    </tr>\n",
       "    <tr>\n",
       "      <th>3</th>\n",
       "      <td>6.328237</td>\n",
       "      <td>1</td>\n",
       "      <td>NaN</td>\n",
       "      <td>0</td>\n",
       "      <td>0</td>\n",
       "      <td>0</td>\n",
       "      <td>1</td>\n",
       "      <td>NaN</td>\n",
       "      <td>NaN</td>\n",
       "      <td>0</td>\n",
       "      <td>...</td>\n",
       "      <td>0</td>\n",
       "      <td>0</td>\n",
       "      <td>0</td>\n",
       "      <td>1</td>\n",
       "      <td>0</td>\n",
       "      <td>0</td>\n",
       "      <td>0</td>\n",
       "      <td>0</td>\n",
       "      <td>0</td>\n",
       "      <td>2</td>\n",
       "    </tr>\n",
       "    <tr>\n",
       "      <th>4</th>\n",
       "      <td>5.846161</td>\n",
       "      <td>0</td>\n",
       "      <td>NaN</td>\n",
       "      <td>0</td>\n",
       "      <td>0</td>\n",
       "      <td>1</td>\n",
       "      <td>1</td>\n",
       "      <td>NaN</td>\n",
       "      <td>NaN</td>\n",
       "      <td>0</td>\n",
       "      <td>...</td>\n",
       "      <td>0</td>\n",
       "      <td>1</td>\n",
       "      <td>0</td>\n",
       "      <td>1</td>\n",
       "      <td>0</td>\n",
       "      <td>0</td>\n",
       "      <td>0</td>\n",
       "      <td>0</td>\n",
       "      <td>0</td>\n",
       "      <td>2</td>\n",
       "    </tr>\n",
       "  </tbody>\n",
       "</table>\n",
       "<p>5 rows × 45 columns</p>\n",
       "</div>"
      ],
      "text/plain": [
       "   Claim_Amount  Claim_Cause_Collision  Claim_Cause_Fire  Claim_Cause_Hail  \\\n",
       "0      7.132611                      1               NaN                 0   \n",
       "1      6.811225                      0               NaN                 0   \n",
       "2      6.656367                      0               NaN                 1   \n",
       "3      6.328237                      1               NaN                 0   \n",
       "4      5.846161                      0               NaN                 0   \n",
       "\n",
       "   Claim_Cause_Other  Claim_Cause_Scratch/Dent  Claim_Date_01/15/2019  \\\n",
       "0                  0                         0                      1   \n",
       "1                  1                         0                      1   \n",
       "2                  0                         0                      1   \n",
       "3                  0                         0                      1   \n",
       "4                  0                         1                      1   \n",
       "\n",
       "   Claim_Date_12/01/2018  Claim_Date_12/15/2018  Claim_Report_Type_Agent  \\\n",
       "0                    NaN                    NaN                        0   \n",
       "1                    NaN                    NaN                        1   \n",
       "2                    NaN                    NaN                        0   \n",
       "3                    NaN                    NaN                        0   \n",
       "4                    NaN                    NaN                        0   \n",
       "\n",
       "       ...       State_Code_MO  State_Code_NE  State_Code_OK  \\\n",
       "0      ...                   0              0              1   \n",
       "1      ...                   0              0              0   \n",
       "2      ...                   0              1              0   \n",
       "3      ...                   0              0              0   \n",
       "4      ...                   0              1              0   \n",
       "\n",
       "   Vehicle_Class_Four-Door Car  Vehicle_Class_Luxury Car  \\\n",
       "0                            0                         0   \n",
       "1                            0                         0   \n",
       "2                            0                         0   \n",
       "3                            1                         0   \n",
       "4                            1                         0   \n",
       "\n",
       "   Vehicle_Class_Luxury SUV  Vehicle_Class_SUV  Vehicle_Class_Sports Car  \\\n",
       "0                         0                  0                         0   \n",
       "1                         0                  1                         0   \n",
       "2                         0                  0                         0   \n",
       "3                         0                  0                         0   \n",
       "4                         0                  0                         0   \n",
       "\n",
       "   Vehicle_Class_Two-Door Car  Vehicle_Size  \n",
       "0                           1             3  \n",
       "1                           0             2  \n",
       "2                           1             2  \n",
       "3                           0             2  \n",
       "4                           0             2  \n",
       "\n",
       "[5 rows x 45 columns]"
      ]
     },
     "execution_count": 99,
     "metadata": {},
     "output_type": "execute_result"
    }
   ],
   "source": [
    "df_test_encoded.head()"
   ]
  },
  {
   "cell_type": "code",
   "execution_count": 100,
   "metadata": {
    "scrolled": true
   },
   "outputs": [
    {
     "data": {
      "text/plain": [
       "Claim_Amount                          0\n",
       "Claim_Cause_Collision                 0\n",
       "Claim_Cause_Fire                   4008\n",
       "Claim_Cause_Hail                      0\n",
       "Claim_Cause_Other                     0\n",
       "Claim_Cause_Scratch/Dent              0\n",
       "Claim_Date_01/15/2019                 0\n",
       "Claim_Date_12/01/2018              4008\n",
       "Claim_Date_12/15/2018              4008\n",
       "Claim_Report_Type_Agent               0\n",
       "Claim_Report_Type_Branch              0\n",
       "Claim_Report_Type_Call Center         0\n",
       "Claim_Report_Type_Web                 0\n",
       "Claimant__Number                      0\n",
       "Education_Bachelor                    0\n",
       "Education_College                     0\n",
       "Education_Graduate                    0\n",
       "Education_High School or Below        0\n",
       "Employment_Status_Employed            0\n",
       "Employment_Status_Medical Leave       0\n",
       "Employment_Status_Retired             0\n",
       "Employment_Status_Unemployed          0\n",
       "Fraudulent_Claim                      0\n",
       "Gender                                0\n",
       "Income                                0\n",
       "Location_Rural                        0\n",
       "Location_Suburban                     0\n",
       "Location_Urban                        0\n",
       "Marital_Status                        0\n",
       "Monthly_Premium                       0\n",
       "Months_Since_Last_Claim               0\n",
       "Months_Since_Policy_Inception         0\n",
       "Outstanding_Balance                   0\n",
       "State_Code_IA                         0\n",
       "State_Code_KS                         0\n",
       "State_Code_MO                         0\n",
       "State_Code_NE                         0\n",
       "State_Code_OK                         0\n",
       "Vehicle_Class_Four-Door Car           0\n",
       "Vehicle_Class_Luxury Car              0\n",
       "Vehicle_Class_Luxury SUV              0\n",
       "Vehicle_Class_SUV                     0\n",
       "Vehicle_Class_Sports Car              0\n",
       "Vehicle_Class_Two-Door Car            0\n",
       "Vehicle_Size                          0\n",
       "dtype: int64"
      ]
     },
     "execution_count": 100,
     "metadata": {},
     "output_type": "execute_result"
    }
   ],
   "source": [
    "df_test_encoded.isna().sum()"
   ]
  },
  {
   "cell_type": "code",
   "execution_count": 101,
   "metadata": {},
   "outputs": [],
   "source": [
    "df_test_encoded = df_test_encoded.fillna(0)"
   ]
  },
  {
   "cell_type": "code",
   "execution_count": 102,
   "metadata": {},
   "outputs": [
    {
     "data": {
      "text/html": [
       "<div>\n",
       "<style scoped>\n",
       "    .dataframe tbody tr th:only-of-type {\n",
       "        vertical-align: middle;\n",
       "    }\n",
       "\n",
       "    .dataframe tbody tr th {\n",
       "        vertical-align: top;\n",
       "    }\n",
       "\n",
       "    .dataframe thead th {\n",
       "        text-align: right;\n",
       "    }\n",
       "</style>\n",
       "<table border=\"1\" class=\"dataframe\">\n",
       "  <thead>\n",
       "    <tr style=\"text-align: right;\">\n",
       "      <th></th>\n",
       "      <th>Claim_Amount</th>\n",
       "      <th>Claim_Cause_Collision</th>\n",
       "      <th>Claim_Cause_Fire</th>\n",
       "      <th>Claim_Cause_Hail</th>\n",
       "      <th>Claim_Cause_Other</th>\n",
       "      <th>Claim_Cause_Scratch/Dent</th>\n",
       "      <th>Claim_Date_01/15/2019</th>\n",
       "      <th>Claim_Date_12/01/2018</th>\n",
       "      <th>Claim_Date_12/15/2018</th>\n",
       "      <th>Claim_Report_Type_Agent</th>\n",
       "      <th>...</th>\n",
       "      <th>State_Code_MO</th>\n",
       "      <th>State_Code_NE</th>\n",
       "      <th>State_Code_OK</th>\n",
       "      <th>Vehicle_Class_Four-Door Car</th>\n",
       "      <th>Vehicle_Class_Luxury Car</th>\n",
       "      <th>Vehicle_Class_Luxury SUV</th>\n",
       "      <th>Vehicle_Class_SUV</th>\n",
       "      <th>Vehicle_Class_Sports Car</th>\n",
       "      <th>Vehicle_Class_Two-Door Car</th>\n",
       "      <th>Vehicle_Size</th>\n",
       "    </tr>\n",
       "  </thead>\n",
       "  <tbody>\n",
       "    <tr>\n",
       "      <th>0</th>\n",
       "      <td>7.132611</td>\n",
       "      <td>1</td>\n",
       "      <td>0.0</td>\n",
       "      <td>0</td>\n",
       "      <td>0</td>\n",
       "      <td>0</td>\n",
       "      <td>1</td>\n",
       "      <td>0.0</td>\n",
       "      <td>0.0</td>\n",
       "      <td>0</td>\n",
       "      <td>...</td>\n",
       "      <td>0</td>\n",
       "      <td>0</td>\n",
       "      <td>1</td>\n",
       "      <td>0</td>\n",
       "      <td>0</td>\n",
       "      <td>0</td>\n",
       "      <td>0</td>\n",
       "      <td>0</td>\n",
       "      <td>1</td>\n",
       "      <td>3</td>\n",
       "    </tr>\n",
       "    <tr>\n",
       "      <th>1</th>\n",
       "      <td>6.811225</td>\n",
       "      <td>0</td>\n",
       "      <td>0.0</td>\n",
       "      <td>0</td>\n",
       "      <td>1</td>\n",
       "      <td>0</td>\n",
       "      <td>1</td>\n",
       "      <td>0.0</td>\n",
       "      <td>0.0</td>\n",
       "      <td>1</td>\n",
       "      <td>...</td>\n",
       "      <td>0</td>\n",
       "      <td>0</td>\n",
       "      <td>0</td>\n",
       "      <td>0</td>\n",
       "      <td>0</td>\n",
       "      <td>0</td>\n",
       "      <td>1</td>\n",
       "      <td>0</td>\n",
       "      <td>0</td>\n",
       "      <td>2</td>\n",
       "    </tr>\n",
       "    <tr>\n",
       "      <th>2</th>\n",
       "      <td>6.656367</td>\n",
       "      <td>0</td>\n",
       "      <td>0.0</td>\n",
       "      <td>1</td>\n",
       "      <td>0</td>\n",
       "      <td>0</td>\n",
       "      <td>1</td>\n",
       "      <td>0.0</td>\n",
       "      <td>0.0</td>\n",
       "      <td>0</td>\n",
       "      <td>...</td>\n",
       "      <td>0</td>\n",
       "      <td>1</td>\n",
       "      <td>0</td>\n",
       "      <td>0</td>\n",
       "      <td>0</td>\n",
       "      <td>0</td>\n",
       "      <td>0</td>\n",
       "      <td>0</td>\n",
       "      <td>1</td>\n",
       "      <td>2</td>\n",
       "    </tr>\n",
       "    <tr>\n",
       "      <th>3</th>\n",
       "      <td>6.328237</td>\n",
       "      <td>1</td>\n",
       "      <td>0.0</td>\n",
       "      <td>0</td>\n",
       "      <td>0</td>\n",
       "      <td>0</td>\n",
       "      <td>1</td>\n",
       "      <td>0.0</td>\n",
       "      <td>0.0</td>\n",
       "      <td>0</td>\n",
       "      <td>...</td>\n",
       "      <td>0</td>\n",
       "      <td>0</td>\n",
       "      <td>0</td>\n",
       "      <td>1</td>\n",
       "      <td>0</td>\n",
       "      <td>0</td>\n",
       "      <td>0</td>\n",
       "      <td>0</td>\n",
       "      <td>0</td>\n",
       "      <td>2</td>\n",
       "    </tr>\n",
       "    <tr>\n",
       "      <th>4</th>\n",
       "      <td>5.846161</td>\n",
       "      <td>0</td>\n",
       "      <td>0.0</td>\n",
       "      <td>0</td>\n",
       "      <td>0</td>\n",
       "      <td>1</td>\n",
       "      <td>1</td>\n",
       "      <td>0.0</td>\n",
       "      <td>0.0</td>\n",
       "      <td>0</td>\n",
       "      <td>...</td>\n",
       "      <td>0</td>\n",
       "      <td>1</td>\n",
       "      <td>0</td>\n",
       "      <td>1</td>\n",
       "      <td>0</td>\n",
       "      <td>0</td>\n",
       "      <td>0</td>\n",
       "      <td>0</td>\n",
       "      <td>0</td>\n",
       "      <td>2</td>\n",
       "    </tr>\n",
       "  </tbody>\n",
       "</table>\n",
       "<p>5 rows × 45 columns</p>\n",
       "</div>"
      ],
      "text/plain": [
       "   Claim_Amount  Claim_Cause_Collision  Claim_Cause_Fire  Claim_Cause_Hail  \\\n",
       "0      7.132611                      1               0.0                 0   \n",
       "1      6.811225                      0               0.0                 0   \n",
       "2      6.656367                      0               0.0                 1   \n",
       "3      6.328237                      1               0.0                 0   \n",
       "4      5.846161                      0               0.0                 0   \n",
       "\n",
       "   Claim_Cause_Other  Claim_Cause_Scratch/Dent  Claim_Date_01/15/2019  \\\n",
       "0                  0                         0                      1   \n",
       "1                  1                         0                      1   \n",
       "2                  0                         0                      1   \n",
       "3                  0                         0                      1   \n",
       "4                  0                         1                      1   \n",
       "\n",
       "   Claim_Date_12/01/2018  Claim_Date_12/15/2018  Claim_Report_Type_Agent  \\\n",
       "0                    0.0                    0.0                        0   \n",
       "1                    0.0                    0.0                        1   \n",
       "2                    0.0                    0.0                        0   \n",
       "3                    0.0                    0.0                        0   \n",
       "4                    0.0                    0.0                        0   \n",
       "\n",
       "       ...       State_Code_MO  State_Code_NE  State_Code_OK  \\\n",
       "0      ...                   0              0              1   \n",
       "1      ...                   0              0              0   \n",
       "2      ...                   0              1              0   \n",
       "3      ...                   0              0              0   \n",
       "4      ...                   0              1              0   \n",
       "\n",
       "   Vehicle_Class_Four-Door Car  Vehicle_Class_Luxury Car  \\\n",
       "0                            0                         0   \n",
       "1                            0                         0   \n",
       "2                            0                         0   \n",
       "3                            1                         0   \n",
       "4                            1                         0   \n",
       "\n",
       "   Vehicle_Class_Luxury SUV  Vehicle_Class_SUV  Vehicle_Class_Sports Car  \\\n",
       "0                         0                  0                         0   \n",
       "1                         0                  1                         0   \n",
       "2                         0                  0                         0   \n",
       "3                         0                  0                         0   \n",
       "4                         0                  0                         0   \n",
       "\n",
       "   Vehicle_Class_Two-Door Car  Vehicle_Size  \n",
       "0                           1             3  \n",
       "1                           0             2  \n",
       "2                           1             2  \n",
       "3                           0             2  \n",
       "4                           0             2  \n",
       "\n",
       "[5 rows x 45 columns]"
      ]
     },
     "execution_count": 102,
     "metadata": {},
     "output_type": "execute_result"
    }
   ],
   "source": [
    "df_test_encoded.head()"
   ]
  },
  {
   "cell_type": "code",
   "execution_count": 103,
   "metadata": {},
   "outputs": [
    {
     "data": {
      "text/plain": [
       "(4008, 45)"
      ]
     },
     "execution_count": 103,
     "metadata": {},
     "output_type": "execute_result"
    }
   ],
   "source": [
    "df_test_encoded.shape"
   ]
  },
  {
   "cell_type": "code",
   "execution_count": 104,
   "metadata": {},
   "outputs": [
    {
     "data": {
      "text/plain": [
       "(4000, 44)"
      ]
     },
     "execution_count": 104,
     "metadata": {},
     "output_type": "execute_result"
    }
   ],
   "source": [
    "train_encoded.shape"
   ]
  },
  {
   "cell_type": "markdown",
   "metadata": {},
   "source": [
    "Drop Claim Cause Fire because of how it was encoded. It did not have a column in the model training set"
   ]
  },
  {
   "cell_type": "code",
   "execution_count": 105,
   "metadata": {},
   "outputs": [],
   "source": [
    "df_test_encoded2 = df_test_encoded.drop(\"Claim_Cause_Fire\", axis=\"columns\")"
   ]
  },
  {
   "cell_type": "code",
   "execution_count": 113,
   "metadata": {},
   "outputs": [],
   "source": [
    "test_results = {}"
   ]
  },
  {
   "cell_type": "code",
   "execution_count": 114,
   "metadata": {},
   "outputs": [],
   "source": [
    "def test_model(ID, clf, test):\n",
    "    # Split X=independent variables and y=dependent variable\n",
    "    X_test = test.drop([\"Claimant__Number\", \"Fraudulent_Claim\"], axis=\"columns\")\n",
    "    y_test = test[\"Fraudulent_Claim\"]\n",
    "    \n",
    "    # Make predictions\n",
    "    test_predictions = clf.predict(X_test)\n",
    "    \n",
    "    # Get fraud prediction percent\n",
    "    test_fraud_pct = np.array(test_predictions).mean()\n",
    "    \n",
    "    # Score predictions\n",
    "    test_score = accuracy_score(y_test, test_predictions)\n",
    "    \n",
    "    confusion_mtx = confusion_matrix(y_test, test_predictions)\n",
    "    tn, fp, fn, tp = confusion_mtx.ravel()\n",
    "    \n",
    "    # Save model and results to dictionary\n",
    "    test_results[ID] = {\"clf\": clf,\n",
    "                  \"test_score\": test_score, \n",
    "                  \"test_pred_pct_fraud\": test_fraud_pct,\n",
    "                  \"true negative\": tn,\n",
    "                  \"false positive\": fp,\n",
    "                  \"false negative\": fn,\n",
    "                  \"true positive\": tp\n",
    "                 }\n",
    "    \n",
    "    # Pretty-Print results\n",
    "    pprint(test_results[ID])\n",
    "    print(\"Confusion Matrix:\\n\", confusion_mtx)   "
   ]
  },
  {
   "cell_type": "markdown",
   "metadata": {},
   "source": [
    "Test all models that are saved using new test data"
   ]
  },
  {
   "cell_type": "code",
   "execution_count": 115,
   "metadata": {},
   "outputs": [
    {
     "name": "stdout",
     "output_type": "stream",
     "text": [
      "Simple Model\n",
      "{'clf': Predicts non-fraud for everyone,\n",
      " 'false negative': 578,\n",
      " 'false positive': 0,\n",
      " 'test_pred_pct_fraud': 0.0,\n",
      " 'test_score': 0.8557884231536926,\n",
      " 'true negative': 3430,\n",
      " 'true positive': 0}\n",
      "Confusion Matrix:\n",
      " [[3430    0]\n",
      " [ 578    0]]\n",
      "\n",
      "Decision Tree - Imbalanced Data\n",
      "{'clf': DecisionTreeClassifier(class_weight=None, criterion='gini', max_depth=5,\n",
      "            max_features=None, max_leaf_nodes=None,\n",
      "            min_impurity_decrease=0.0, min_impurity_split=None,\n",
      "            min_samples_leaf=1, min_samples_split=2,\n",
      "            min_weight_fraction_leaf=0.0, presort=False, random_state=0,\n",
      "            splitter='best'),\n",
      " 'false negative': 577,\n",
      " 'false positive': 18,\n",
      " 'test_pred_pct_fraud': 0.004740518962075849,\n",
      " 'test_score': 0.8515469061876247,\n",
      " 'true negative': 3412,\n",
      " 'true positive': 1}\n",
      "Confusion Matrix:\n",
      " [[3412   18]\n",
      " [ 577    1]]\n",
      "\n",
      "Gradient Boosting - Imbalanced Data\n",
      "{'clf': GradientBoostingClassifier(criterion='friedman_mse', init=None,\n",
      "              learning_rate=0.1, loss='deviance', max_depth=12,\n",
      "              max_features=None, max_leaf_nodes=None,\n",
      "              min_impurity_decrease=0.0, min_impurity_split=None,\n",
      "              min_samples_leaf=1, min_samples_split=2,\n",
      "              min_weight_fraction_leaf=0.0, n_estimators=100,\n",
      "              n_iter_no_change=None, presort='auto', random_state=0,\n",
      "              subsample=1.0, tol=0.0001, validation_fraction=0.1,\n",
      "              verbose=0, warm_start=False),\n",
      " 'false negative': 565,\n",
      " 'false positive': 98,\n",
      " 'test_pred_pct_fraud': 0.027694610778443114,\n",
      " 'test_score': 0.8345808383233533,\n",
      " 'true negative': 3332,\n",
      " 'true positive': 13}\n",
      "Confusion Matrix:\n",
      " [[3332   98]\n",
      " [ 565   13]]\n",
      "\n",
      "Logistic Regression - Imbalanced Data\n",
      "{'clf': LogisticRegression(C=1.0, class_weight=None, dual=False, fit_intercept=True,\n",
      "          intercept_scaling=1, max_iter=100, multi_class='warn',\n",
      "          n_jobs=None, penalty='l2', random_state=0, solver='warn',\n",
      "          tol=0.0001, verbose=0, warm_start=False),\n",
      " 'false negative': 577,\n",
      " 'false positive': 0,\n",
      " 'test_pred_pct_fraud': 0.000249500998003992,\n",
      " 'test_score': 0.8560379241516967,\n",
      " 'true negative': 3430,\n",
      " 'true positive': 1}\n",
      "Confusion Matrix:\n",
      " [[3430    0]\n",
      " [ 577    1]]\n",
      "\n",
      "Neural Net - Imbalanced Data\n",
      "{'clf': MLPClassifier(activation='relu', alpha=0.0001, batch_size='auto', beta_1=0.9,\n",
      "       beta_2=0.999, early_stopping=False, epsilon=1e-08,\n",
      "       hidden_layer_sizes=(100,), learning_rate='constant',\n",
      "       learning_rate_init=0.001, max_iter=200, momentum=0.9,\n",
      "       n_iter_no_change=10, nesterovs_momentum=True, power_t=0.5,\n",
      "       random_state=0, shuffle=True, solver='adam', tol=0.0001,\n",
      "       validation_fraction=0.1, verbose=False, warm_start=False),\n",
      " 'false negative': 578,\n",
      " 'false positive': 0,\n",
      " 'test_pred_pct_fraud': 0.0,\n",
      " 'test_score': 0.8557884231536926,\n",
      " 'true negative': 3430,\n",
      " 'true positive': 0}\n",
      "Confusion Matrix:\n",
      " [[3430    0]\n",
      " [ 578    0]]\n",
      "\n",
      "SVM - Imbalanced Data\n",
      "{'clf': SVC(C=1.0, cache_size=200, class_weight=None, coef0=0.0,\n",
      "  decision_function_shape='ovr', degree=3, gamma='auto_deprecated',\n",
      "  kernel='rbf', max_iter=-1, probability=False, random_state=0,\n",
      "  shrinking=True, tol=0.001, verbose=False),\n",
      " 'false negative': 578,\n",
      " 'false positive': 0,\n",
      " 'test_pred_pct_fraud': 0.0,\n",
      " 'test_score': 0.8557884231536926,\n",
      " 'true negative': 3430,\n",
      " 'true positive': 0}\n",
      "Confusion Matrix:\n",
      " [[3430    0]\n",
      " [ 578    0]]\n",
      "\n",
      "Decision Tree - Under Sampled\n",
      "{'clf': DecisionTreeClassifier(class_weight=None, criterion='gini', max_depth=5,\n",
      "            max_features=None, max_leaf_nodes=None,\n",
      "            min_impurity_decrease=0.0, min_impurity_split=None,\n",
      "            min_samples_leaf=1, min_samples_split=2,\n",
      "            min_weight_fraction_leaf=0.0, presort=False, random_state=0,\n",
      "            splitter='best'),\n",
      " 'false negative': 294,\n",
      " 'false positive': 1798,\n",
      " 'test_pred_pct_fraud': 0.5194610778443114,\n",
      " 'test_score': 0.4780439121756487,\n",
      " 'true negative': 1632,\n",
      " 'true positive': 284}\n",
      "Confusion Matrix:\n",
      " [[1632 1798]\n",
      " [ 294  284]]\n",
      "\n",
      "Gradient Boosting - Under Sampled\n",
      "{'clf': GradientBoostingClassifier(criterion='friedman_mse', init=None,\n",
      "              learning_rate=0.1, loss='deviance', max_depth=12,\n",
      "              max_features=None, max_leaf_nodes=None,\n",
      "              min_impurity_decrease=0.0, min_impurity_split=None,\n",
      "              min_samples_leaf=1, min_samples_split=2,\n",
      "              min_weight_fraction_leaf=0.0, n_estimators=100,\n",
      "              n_iter_no_change=None, presort='auto', random_state=0,\n",
      "              subsample=1.0, tol=0.0001, validation_fraction=0.1,\n",
      "              verbose=0, warm_start=False),\n",
      " 'false negative': 415,\n",
      " 'false positive': 959,\n",
      " 'test_pred_pct_fraud': 0.27994011976047906,\n",
      " 'test_score': 0.657185628742515,\n",
      " 'true negative': 2471,\n",
      " 'true positive': 163}\n",
      "Confusion Matrix:\n",
      " [[2471  959]\n",
      " [ 415  163]]\n",
      "\n",
      "Logistic Regression - Under Sampled\n",
      "{'clf': LogisticRegression(C=1.0, class_weight=None, dual=False, fit_intercept=True,\n",
      "          intercept_scaling=1, max_iter=100, multi_class='warn',\n",
      "          n_jobs=None, penalty='l2', random_state=0, solver='warn',\n",
      "          tol=0.0001, verbose=0, warm_start=False),\n",
      " 'false negative': 578,\n",
      " 'false positive': 0,\n",
      " 'test_pred_pct_fraud': 0.0,\n",
      " 'test_score': 0.8557884231536926,\n",
      " 'true negative': 3430,\n",
      " 'true positive': 0}\n",
      "Confusion Matrix:\n",
      " [[3430    0]\n",
      " [ 578    0]]\n",
      "\n",
      "Neural Net - Under Sampled\n",
      "{'clf': MLPClassifier(activation='relu', alpha=0.0001, batch_size='auto', beta_1=0.9,\n",
      "       beta_2=0.999, early_stopping=False, epsilon=1e-08,\n",
      "       hidden_layer_sizes=(100,), learning_rate='constant',\n",
      "       learning_rate_init=0.001, max_iter=200, momentum=0.9,\n",
      "       n_iter_no_change=10, nesterovs_momentum=True, power_t=0.5,\n",
      "       random_state=0, shuffle=True, solver='adam', tol=0.0001,\n",
      "       validation_fraction=0.1, verbose=False, warm_start=False),\n",
      " 'false negative': 578,\n",
      " 'false positive': 2,\n",
      " 'test_pred_pct_fraud': 0.000499001996007984,\n",
      " 'test_score': 0.8552894211576846,\n",
      " 'true negative': 3428,\n",
      " 'true positive': 0}\n",
      "Confusion Matrix:\n",
      " [[3428    2]\n",
      " [ 578    0]]\n",
      "\n",
      "SVM - Under Sampled\n",
      "{'clf': SVC(C=1.0, cache_size=200, class_weight=None, coef0=0.0,\n",
      "  decision_function_shape='ovr', degree=3, gamma='auto_deprecated',\n",
      "  kernel='rbf', max_iter=-1, probability=False, random_state=0,\n",
      "  shrinking=True, tol=0.001, verbose=False),\n",
      " 'false negative': 0,\n",
      " 'false positive': 3430,\n",
      " 'test_pred_pct_fraud': 1.0,\n",
      " 'test_score': 0.1442115768463074,\n",
      " 'true negative': 0,\n",
      " 'true positive': 578}\n",
      "Confusion Matrix:\n",
      " [[   0 3430]\n",
      " [   0  578]]\n",
      "\n",
      "Decision Tree - Over Sampled\n",
      "{'clf': DecisionTreeClassifier(class_weight=None, criterion='gini', max_depth=5,\n",
      "            max_features=None, max_leaf_nodes=None,\n",
      "            min_impurity_decrease=0.0, min_impurity_split=None,\n",
      "            min_samples_leaf=1, min_samples_split=2,\n",
      "            min_weight_fraction_leaf=0.0, presort=False, random_state=0,\n",
      "            splitter='best'),\n",
      " 'false negative': 376,\n",
      " 'false positive': 1210,\n",
      " 'test_pred_pct_fraud': 0.3522954091816367,\n",
      " 'test_score': 0.6042914171656687,\n",
      " 'true negative': 2220,\n",
      " 'true positive': 202}\n",
      "Confusion Matrix:\n",
      " [[2220 1210]\n",
      " [ 376  202]]\n",
      "\n",
      "Gradient Boosting - Over Sampled\n",
      "{'clf': GradientBoostingClassifier(criterion='friedman_mse', init=None,\n",
      "              learning_rate=0.1, loss='deviance', max_depth=12,\n",
      "              max_features=None, max_leaf_nodes=None,\n",
      "              min_impurity_decrease=0.0, min_impurity_split=None,\n",
      "              min_samples_leaf=1, min_samples_split=2,\n",
      "              min_weight_fraction_leaf=0.0, n_estimators=100,\n",
      "              n_iter_no_change=None, presort='auto', random_state=0,\n",
      "              subsample=1.0, tol=0.0001, validation_fraction=0.1,\n",
      "              verbose=0, warm_start=False),\n",
      " 'false negative': 578,\n",
      " 'false positive': 0,\n",
      " 'test_pred_pct_fraud': 0.0,\n",
      " 'test_score': 0.8557884231536926,\n",
      " 'true negative': 3430,\n",
      " 'true positive': 0}\n",
      "Confusion Matrix:\n",
      " [[3430    0]\n",
      " [ 578    0]]\n",
      "\n",
      "Logistic Regression - Over Sampled\n",
      "{'clf': LogisticRegression(C=1.0, class_weight=None, dual=False, fit_intercept=True,\n",
      "          intercept_scaling=1, max_iter=100, multi_class='warn',\n",
      "          n_jobs=None, penalty='l2', random_state=0, solver='warn',\n",
      "          tol=0.0001, verbose=0, warm_start=False),\n",
      " 'false negative': 578,\n",
      " 'false positive': 0,\n",
      " 'test_pred_pct_fraud': 0.0,\n",
      " 'test_score': 0.8557884231536926,\n",
      " 'true negative': 3430,\n",
      " 'true positive': 0}\n",
      "Confusion Matrix:\n",
      " [[3430    0]\n",
      " [ 578    0]]\n",
      "\n",
      "Neural Net - Over Sampled\n",
      "{'clf': MLPClassifier(activation='relu', alpha=0.0001, batch_size='auto', beta_1=0.9,\n",
      "       beta_2=0.999, early_stopping=False, epsilon=1e-08,\n",
      "       hidden_layer_sizes=(100,), learning_rate='constant',\n",
      "       learning_rate_init=0.001, max_iter=200, momentum=0.9,\n",
      "       n_iter_no_change=10, nesterovs_momentum=True, power_t=0.5,\n",
      "       random_state=0, shuffle=True, solver='adam', tol=0.0001,\n",
      "       validation_fraction=0.1, verbose=False, warm_start=False),\n",
      " 'false negative': 578,\n",
      " 'false positive': 0,\n",
      " 'test_pred_pct_fraud': 0.0,\n",
      " 'test_score': 0.8557884231536926,\n",
      " 'true negative': 3430,\n",
      " 'true positive': 0}\n",
      "Confusion Matrix:\n",
      " [[3430    0]\n",
      " [ 578    0]]\n",
      "\n",
      "SVM - Over Sampled\n"
     ]
    },
    {
     "name": "stdout",
     "output_type": "stream",
     "text": [
      "{'clf': SVC(C=1.0, cache_size=200, class_weight=None, coef0=0.0,\n",
      "  decision_function_shape='ovr', degree=3, gamma='auto_deprecated',\n",
      "  kernel='rbf', max_iter=-1, probability=False, random_state=0,\n",
      "  shrinking=True, tol=0.001, verbose=False),\n",
      " 'false negative': 578,\n",
      " 'false positive': 0,\n",
      " 'test_pred_pct_fraud': 0.0,\n",
      " 'test_score': 0.8557884231536926,\n",
      " 'true negative': 3430,\n",
      " 'true positive': 0}\n",
      "Confusion Matrix:\n",
      " [[3430    0]\n",
      " [ 578    0]]\n",
      "\n"
     ]
    }
   ],
   "source": [
    "for m, n in models.items():\n",
    "    mdl = n[\"clf\"]\n",
    "    print(m)\n",
    "    if n[\"clf\"] != \"Predicts non-fraud for everyone\":\n",
    "        test_model(m + \" - Testing Results\", mdl, df_test_encoded2)\n",
    "        print()"
   ]
  },
  {
   "cell_type": "markdown",
   "metadata": {},
   "source": [
    "## Display testing results"
   ]
  },
  {
   "cell_type": "code",
   "execution_count": 116,
   "metadata": {},
   "outputs": [
    {
     "data": {
      "text/html": [
       "<div>\n",
       "<style scoped>\n",
       "    .dataframe tbody tr th:only-of-type {\n",
       "        vertical-align: middle;\n",
       "    }\n",
       "\n",
       "    .dataframe tbody tr th {\n",
       "        vertical-align: top;\n",
       "    }\n",
       "\n",
       "    .dataframe thead th {\n",
       "        text-align: right;\n",
       "    }\n",
       "</style>\n",
       "<table border=\"1\" class=\"dataframe\">\n",
       "  <thead>\n",
       "    <tr style=\"text-align: right;\">\n",
       "      <th></th>\n",
       "      <th>false negative</th>\n",
       "      <th>false positive</th>\n",
       "      <th>test_pred_pct_fraud</th>\n",
       "      <th>test_score</th>\n",
       "      <th>true negative</th>\n",
       "      <th>true positive</th>\n",
       "    </tr>\n",
       "  </thead>\n",
       "  <tbody>\n",
       "    <tr>\n",
       "      <th>Simple Model - Testing Results</th>\n",
       "      <td>578</td>\n",
       "      <td>0</td>\n",
       "      <td>0</td>\n",
       "      <td>0.855788</td>\n",
       "      <td>3430</td>\n",
       "      <td>0</td>\n",
       "    </tr>\n",
       "    <tr>\n",
       "      <th>Decision Tree - Imbalanced Data - Testing Results</th>\n",
       "      <td>577</td>\n",
       "      <td>18</td>\n",
       "      <td>0.00474052</td>\n",
       "      <td>0.851547</td>\n",
       "      <td>3412</td>\n",
       "      <td>1</td>\n",
       "    </tr>\n",
       "    <tr>\n",
       "      <th>Gradient Boosting - Imbalanced Data - Testing Results</th>\n",
       "      <td>565</td>\n",
       "      <td>98</td>\n",
       "      <td>0.0276946</td>\n",
       "      <td>0.834581</td>\n",
       "      <td>3332</td>\n",
       "      <td>13</td>\n",
       "    </tr>\n",
       "    <tr>\n",
       "      <th>Logistic Regression - Imbalanced Data - Testing Results</th>\n",
       "      <td>577</td>\n",
       "      <td>0</td>\n",
       "      <td>0.000249501</td>\n",
       "      <td>0.856038</td>\n",
       "      <td>3430</td>\n",
       "      <td>1</td>\n",
       "    </tr>\n",
       "    <tr>\n",
       "      <th>Neural Net - Imbalanced Data - Testing Results</th>\n",
       "      <td>578</td>\n",
       "      <td>0</td>\n",
       "      <td>0</td>\n",
       "      <td>0.855788</td>\n",
       "      <td>3430</td>\n",
       "      <td>0</td>\n",
       "    </tr>\n",
       "    <tr>\n",
       "      <th>SVM - Imbalanced Data - Testing Results</th>\n",
       "      <td>578</td>\n",
       "      <td>0</td>\n",
       "      <td>0</td>\n",
       "      <td>0.855788</td>\n",
       "      <td>3430</td>\n",
       "      <td>0</td>\n",
       "    </tr>\n",
       "    <tr>\n",
       "      <th>Decision Tree - Under Sampled - Testing Results</th>\n",
       "      <td>294</td>\n",
       "      <td>1798</td>\n",
       "      <td>0.519461</td>\n",
       "      <td>0.478044</td>\n",
       "      <td>1632</td>\n",
       "      <td>284</td>\n",
       "    </tr>\n",
       "    <tr>\n",
       "      <th>Gradient Boosting - Under Sampled - Testing Results</th>\n",
       "      <td>415</td>\n",
       "      <td>959</td>\n",
       "      <td>0.27994</td>\n",
       "      <td>0.657186</td>\n",
       "      <td>2471</td>\n",
       "      <td>163</td>\n",
       "    </tr>\n",
       "    <tr>\n",
       "      <th>Logistic Regression - Under Sampled - Testing Results</th>\n",
       "      <td>578</td>\n",
       "      <td>0</td>\n",
       "      <td>0</td>\n",
       "      <td>0.855788</td>\n",
       "      <td>3430</td>\n",
       "      <td>0</td>\n",
       "    </tr>\n",
       "    <tr>\n",
       "      <th>Neural Net - Under Sampled - Testing Results</th>\n",
       "      <td>578</td>\n",
       "      <td>2</td>\n",
       "      <td>0.000499002</td>\n",
       "      <td>0.855289</td>\n",
       "      <td>3428</td>\n",
       "      <td>0</td>\n",
       "    </tr>\n",
       "    <tr>\n",
       "      <th>SVM - Under Sampled - Testing Results</th>\n",
       "      <td>0</td>\n",
       "      <td>3430</td>\n",
       "      <td>1</td>\n",
       "      <td>0.144212</td>\n",
       "      <td>0</td>\n",
       "      <td>578</td>\n",
       "    </tr>\n",
       "    <tr>\n",
       "      <th>Decision Tree - Over Sampled - Testing Results</th>\n",
       "      <td>376</td>\n",
       "      <td>1210</td>\n",
       "      <td>0.352295</td>\n",
       "      <td>0.604291</td>\n",
       "      <td>2220</td>\n",
       "      <td>202</td>\n",
       "    </tr>\n",
       "    <tr>\n",
       "      <th>Gradient Boosting - Over Sampled - Testing Results</th>\n",
       "      <td>578</td>\n",
       "      <td>0</td>\n",
       "      <td>0</td>\n",
       "      <td>0.855788</td>\n",
       "      <td>3430</td>\n",
       "      <td>0</td>\n",
       "    </tr>\n",
       "    <tr>\n",
       "      <th>Logistic Regression - Over Sampled - Testing Results</th>\n",
       "      <td>578</td>\n",
       "      <td>0</td>\n",
       "      <td>0</td>\n",
       "      <td>0.855788</td>\n",
       "      <td>3430</td>\n",
       "      <td>0</td>\n",
       "    </tr>\n",
       "    <tr>\n",
       "      <th>Neural Net - Over Sampled - Testing Results</th>\n",
       "      <td>578</td>\n",
       "      <td>0</td>\n",
       "      <td>0</td>\n",
       "      <td>0.855788</td>\n",
       "      <td>3430</td>\n",
       "      <td>0</td>\n",
       "    </tr>\n",
       "    <tr>\n",
       "      <th>SVM - Over Sampled - Testing Results</th>\n",
       "      <td>578</td>\n",
       "      <td>0</td>\n",
       "      <td>0</td>\n",
       "      <td>0.855788</td>\n",
       "      <td>3430</td>\n",
       "      <td>0</td>\n",
       "    </tr>\n",
       "  </tbody>\n",
       "</table>\n",
       "</div>"
      ],
      "text/plain": [
       "                                                   false negative  \\\n",
       "Simple Model - Testing Results                                578   \n",
       "Decision Tree - Imbalanced Data - Testing Results             577   \n",
       "Gradient Boosting - Imbalanced Data - Testing R...            565   \n",
       "Logistic Regression - Imbalanced Data - Testing...            577   \n",
       "Neural Net - Imbalanced Data - Testing Results                578   \n",
       "SVM - Imbalanced Data - Testing Results                       578   \n",
       "Decision Tree - Under Sampled - Testing Results               294   \n",
       "Gradient Boosting - Under Sampled - Testing Res...            415   \n",
       "Logistic Regression - Under Sampled - Testing R...            578   \n",
       "Neural Net - Under Sampled - Testing Results                  578   \n",
       "SVM - Under Sampled - Testing Results                           0   \n",
       "Decision Tree - Over Sampled - Testing Results                376   \n",
       "Gradient Boosting - Over Sampled - Testing Results            578   \n",
       "Logistic Regression - Over Sampled - Testing Re...            578   \n",
       "Neural Net - Over Sampled - Testing Results                   578   \n",
       "SVM - Over Sampled - Testing Results                          578   \n",
       "\n",
       "                                                   false positive  \\\n",
       "Simple Model - Testing Results                                  0   \n",
       "Decision Tree - Imbalanced Data - Testing Results              18   \n",
       "Gradient Boosting - Imbalanced Data - Testing R...             98   \n",
       "Logistic Regression - Imbalanced Data - Testing...              0   \n",
       "Neural Net - Imbalanced Data - Testing Results                  0   \n",
       "SVM - Imbalanced Data - Testing Results                         0   \n",
       "Decision Tree - Under Sampled - Testing Results              1798   \n",
       "Gradient Boosting - Under Sampled - Testing Res...            959   \n",
       "Logistic Regression - Under Sampled - Testing R...              0   \n",
       "Neural Net - Under Sampled - Testing Results                    2   \n",
       "SVM - Under Sampled - Testing Results                        3430   \n",
       "Decision Tree - Over Sampled - Testing Results               1210   \n",
       "Gradient Boosting - Over Sampled - Testing Results              0   \n",
       "Logistic Regression - Over Sampled - Testing Re...              0   \n",
       "Neural Net - Over Sampled - Testing Results                     0   \n",
       "SVM - Over Sampled - Testing Results                            0   \n",
       "\n",
       "                                                   test_pred_pct_fraud  \\\n",
       "Simple Model - Testing Results                                       0   \n",
       "Decision Tree - Imbalanced Data - Testing Results           0.00474052   \n",
       "Gradient Boosting - Imbalanced Data - Testing R...           0.0276946   \n",
       "Logistic Regression - Imbalanced Data - Testing...         0.000249501   \n",
       "Neural Net - Imbalanced Data - Testing Results                       0   \n",
       "SVM - Imbalanced Data - Testing Results                              0   \n",
       "Decision Tree - Under Sampled - Testing Results               0.519461   \n",
       "Gradient Boosting - Under Sampled - Testing Res...             0.27994   \n",
       "Logistic Regression - Under Sampled - Testing R...                   0   \n",
       "Neural Net - Under Sampled - Testing Results               0.000499002   \n",
       "SVM - Under Sampled - Testing Results                                1   \n",
       "Decision Tree - Over Sampled - Testing Results                0.352295   \n",
       "Gradient Boosting - Over Sampled - Testing Results                   0   \n",
       "Logistic Regression - Over Sampled - Testing Re...                   0   \n",
       "Neural Net - Over Sampled - Testing Results                          0   \n",
       "SVM - Over Sampled - Testing Results                                 0   \n",
       "\n",
       "                                                   test_score true negative  \\\n",
       "Simple Model - Testing Results                       0.855788          3430   \n",
       "Decision Tree - Imbalanced Data - Testing Results    0.851547          3412   \n",
       "Gradient Boosting - Imbalanced Data - Testing R...   0.834581          3332   \n",
       "Logistic Regression - Imbalanced Data - Testing...   0.856038          3430   \n",
       "Neural Net - Imbalanced Data - Testing Results       0.855788          3430   \n",
       "SVM - Imbalanced Data - Testing Results              0.855788          3430   \n",
       "Decision Tree - Under Sampled - Testing Results      0.478044          1632   \n",
       "Gradient Boosting - Under Sampled - Testing Res...   0.657186          2471   \n",
       "Logistic Regression - Under Sampled - Testing R...   0.855788          3430   \n",
       "Neural Net - Under Sampled - Testing Results         0.855289          3428   \n",
       "SVM - Under Sampled - Testing Results                0.144212             0   \n",
       "Decision Tree - Over Sampled - Testing Results       0.604291          2220   \n",
       "Gradient Boosting - Over Sampled - Testing Results   0.855788          3430   \n",
       "Logistic Regression - Over Sampled - Testing Re...   0.855788          3430   \n",
       "Neural Net - Over Sampled - Testing Results          0.855788          3430   \n",
       "SVM - Over Sampled - Testing Results                 0.855788          3430   \n",
       "\n",
       "                                                   true positive  \n",
       "Simple Model - Testing Results                                 0  \n",
       "Decision Tree - Imbalanced Data - Testing Results              1  \n",
       "Gradient Boosting - Imbalanced Data - Testing R...            13  \n",
       "Logistic Regression - Imbalanced Data - Testing...             1  \n",
       "Neural Net - Imbalanced Data - Testing Results                 0  \n",
       "SVM - Imbalanced Data - Testing Results                        0  \n",
       "Decision Tree - Under Sampled - Testing Results              284  \n",
       "Gradient Boosting - Under Sampled - Testing Res...           163  \n",
       "Logistic Regression - Under Sampled - Testing R...             0  \n",
       "Neural Net - Under Sampled - Testing Results                   0  \n",
       "SVM - Under Sampled - Testing Results                        578  \n",
       "Decision Tree - Over Sampled - Testing Results               202  \n",
       "Gradient Boosting - Over Sampled - Testing Results             0  \n",
       "Logistic Regression - Over Sampled - Testing Re...             0  \n",
       "Neural Net - Over Sampled - Testing Results                    0  \n",
       "SVM - Over Sampled - Testing Results                           0  "
      ]
     },
     "execution_count": 116,
     "metadata": {},
     "output_type": "execute_result"
    }
   ],
   "source": [
    "pd.DataFrame(test_results).transpose().drop(\"clf\", axis=1)"
   ]
  },
  {
   "cell_type": "code",
   "execution_count": null,
   "metadata": {},
   "outputs": [],
   "source": []
  }
 ],
 "metadata": {
  "kernelspec": {
   "display_name": "Python 3",
   "language": "python",
   "name": "python3"
  },
  "language_info": {
   "codemirror_mode": {
    "name": "ipython",
    "version": 3
   },
   "file_extension": ".py",
   "mimetype": "text/x-python",
   "name": "python",
   "nbconvert_exporter": "python",
   "pygments_lexer": "ipython3",
   "version": "3.7.0"
  }
 },
 "nbformat": 4,
 "nbformat_minor": 2
}
