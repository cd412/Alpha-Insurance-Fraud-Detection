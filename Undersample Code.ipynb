{
 "cells": [
  {
   "cell_type": "code",
   "execution_count": null,
   "metadata": {},
   "outputs": [],
   "source": [
    "#Finds the number of fraud samples \n",
    "no_frauds = len(data_train[data_train['Fraudulent_Claim'] == 1])\n",
    "\n",
    "#gets indices of nonfraud samples\n",
    "non_fraud_indices = data_train[data_train.Fraudulent_Claim == 0].index\n",
    "\n",
    "#Random sample non fraud indices\n",
    "random_indices = np.random.choice(non_fraud_indices,no_frauds, replace=False)\n",
    "\n",
    "#Find the indices of fraud samples\n",
    "fraud_indices = data_train[data_train.Fraudulent_Claim == 1].index\n",
    "\n",
    "#Concat fraud indices with sample non-fraud ones\n",
    "under_sample_indices = np.concatenate([fraud_indices,random_indices])\n",
    "\n",
    "#Get Balance Dataframe\n",
    "under_sample = data_train.loc[under_sample_indices]\n",
    "\n",
    "#Results\n",
    "under_sample[\"Fraudulent_Claim\"].describe()"
   ]
  },
  {
   "cell_type": "code",
   "execution_count": null,
   "metadata": {},
   "outputs": [],
   "source": []
  }
 ],
 "metadata": {
  "kernelspec": {
   "display_name": "Python 3",
   "language": "python",
   "name": "python3"
  },
  "language_info": {
   "codemirror_mode": {
    "name": "ipython",
    "version": 3
   },
   "file_extension": ".py",
   "mimetype": "text/x-python",
   "name": "python",
   "nbconvert_exporter": "python",
   "pygments_lexer": "ipython3",
   "version": "3.7.0"
  }
 },
 "nbformat": 4,
 "nbformat_minor": 2
}
